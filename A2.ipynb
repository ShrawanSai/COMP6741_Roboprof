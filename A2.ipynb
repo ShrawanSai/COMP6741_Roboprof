{
 "cells": [
  {
   "cell_type": "code",
   "execution_count": 1,
   "id": "c621deb7",
   "metadata": {},
   "outputs": [],
   "source": [
    "import pandas as pd\n",
    "import numpy as np\n",
    "import os\n",
    "import urllib.parse  # for parsing strings to URI's\n",
    "from urllib.parse import quote\n",
    "\n",
    "#RDF libraries\n",
    "from rdflib import Graph, Literal, RDF, URIRef, Namespace, Dataset, BNode  # basic RDF handling\n",
    "from rdflib.namespace import FOAF, RDFS, XSD  # most common namespaces\n",
    "from rdflib.tools.rdf2dot import rdf2dot\n",
    "\n",
    "#Visualizing\n",
    "from graphviz import Source\n"
   ]
  },
  {
   "cell_type": "markdown",
   "id": "23151526",
   "metadata": {},
   "source": [
    "### Defining Namespaces and Dataset and a graph called KG"
   ]
  },
  {
   "cell_type": "code",
   "execution_count": 2,
   "id": "6c0d7a0e",
   "metadata": {},
   "outputs": [],
   "source": [
    "# Namespaces for our vocabulary items (schema information, existing vocabulary, etc.)\n",
    "ACAD = Namespace('http://acad.io/schema#')\n",
    "ACADDATA = Namespace('http://acad.io/data#')\n",
    "VIVO = Namespace('http://vivoweb.org/ontology/core#')\n",
    "DC = Namespace('http://purl.org/dc/terms/')\n",
    "OWL = Namespace('http://www.w3.org/2002/07/owl#')\n"
   ]
  },
  {
   "cell_type": "code",
   "execution_count": 3,
   "id": "2b052326",
   "metadata": {},
   "outputs": [],
   "source": [
    "# Initialize a dataset and bind namespaces\n",
    "dataset = Dataset()\n",
    "dataset.bind('ACAD', ACAD)\n",
    "dataset.bind('ACADDATA', ACADDATA)\n",
    "dataset.bind('VIVO', VIVO)\n",
    "dataset.bind('DC', DC)\n",
    "dataset.bind('OWL', OWL)\n",
    "\n",
    "kg = dataset.graph()"
   ]
  },
  {
   "cell_type": "code",
   "execution_count": 4,
   "id": "d99b9fcb",
   "metadata": {},
   "outputs": [
    {
     "data": {
      "text/plain": [
       "<Graph identifier=urn:x-rdflib:default (<class 'rdflib.graph.Graph'>)>"
      ]
     },
     "execution_count": 4,
     "metadata": {},
     "output_type": "execute_result"
    }
   ],
   "source": [
    "# Load the externally defined schema into the default graph (context) of the dataset\n",
    "dataset.default_context.parse('vocabulary.ttl', format='turtle')"
   ]
  },
  {
   "cell_type": "code",
   "execution_count": 5,
   "id": "978a1cd3",
   "metadata": {},
   "outputs": [
    {
     "data": {
      "text/plain": [
       "<Graph identifier=https://rdflib.github.io/.well-known/genid/rdflib/N1cd851a83d6a465aa7aa0f90f2168743 (<class 'rdflib.graph.Graph'>)>"
      ]
     },
     "execution_count": 5,
     "metadata": {},
     "output_type": "execute_result"
    }
   ],
   "source": [
    "kg.parse('GraphData.ttl', format='turtle')"
   ]
  },
  {
   "cell_type": "code",
   "execution_count": null,
   "id": "83852fa5",
   "metadata": {},
   "outputs": [],
   "source": []
  },
  {
   "cell_type": "code",
   "execution_count": 6,
   "id": "a98fcece",
   "metadata": {},
   "outputs": [],
   "source": [
    "from tika import parser # Must have a java(7 or 7+) runtime installed as well\n",
    "import spotlight\n",
    "import os\n",
    "import re\n",
    "\n"
   ]
  },
  {
   "cell_type": "code",
   "execution_count": 7,
   "id": "01a13938",
   "metadata": {},
   "outputs": [
    {
     "data": {
      "text/plain": [
       "<generator object _walk at 0x00000227521FA270>"
      ]
     },
     "execution_count": 7,
     "metadata": {},
     "output_type": "execute_result"
    }
   ],
   "source": [
    "os.walk(\"COURSES/COURSES\")"
   ]
  },
  {
   "cell_type": "markdown",
   "id": "0fcab099",
   "metadata": {},
   "source": [
    "####  Recusively getting all PDFs for every course we have the data for within the COURSES/ folder."
   ]
  },
  {
   "cell_type": "code",
   "execution_count": 8,
   "id": "fb9df0ef",
   "metadata": {},
   "outputs": [],
   "source": [
    "pdfs = [os.path.join(dp, f) for dp, dn, filenames in os.walk(\"COURSES/COURSES\") for f in filenames if (os.path.splitext(f)[1] == '.pdf')]"
   ]
  },
  {
   "cell_type": "code",
   "execution_count": 9,
   "id": "4fb6372e",
   "metadata": {},
   "outputs": [
    {
     "data": {
      "text/plain": [
       "['COURSES/COURSES\\\\COMP6481_PPS\\\\Comp6481-Winter-2024_course_outline.pdf',\n",
       " 'COURSES/COURSES\\\\COMP6481_PPS\\\\Lecture_1\\\\Other_Material\\\\Tutorial_1.pdf',\n",
       " 'COURSES/COURSES\\\\COMP6481_PPS\\\\Lecture_1\\\\Slides\\\\Chapter1.pdf',\n",
       " 'COURSES/COURSES\\\\COMP6481_PPS\\\\Lecture_2\\\\Other_Material\\\\Tutorial_2.pdf',\n",
       " 'COURSES/COURSES\\\\COMP6481_PPS\\\\Lecture_2\\\\Slides\\\\Chapter2.pdf',\n",
       " 'COURSES/COURSES\\\\COMP6481_PPS\\\\Lecture_3\\\\Other_Material\\\\Tutorial_3.pdf',\n",
       " 'COURSES/COURSES\\\\COMP6481_PPS\\\\Lecture_3\\\\Slides\\\\Chapter3.pdf',\n",
       " 'COURSES/COURSES\\\\COMP6741_IS\\\\course_outline.pdf',\n",
       " 'COURSES/COURSES\\\\COMP6741_IS\\\\Lecture_1\\\\Other_Material\\\\Project_Assignment1.pdf',\n",
       " 'COURSES/COURSES\\\\COMP6741_IS\\\\Lecture_1\\\\Readings\\\\syllabus.pdf',\n",
       " 'COURSES/COURSES\\\\COMP6741_IS\\\\Lecture_1\\\\Slides\\\\week1.pdf',\n",
       " 'COURSES/COURSES\\\\COMP6741_IS\\\\Lecture_2\\\\Readings\\\\Worksheet2.pdf',\n",
       " 'COURSES/COURSES\\\\COMP6741_IS\\\\Lecture_2\\\\Slides\\\\Chapter_2.pdf',\n",
       " 'COURSES/COURSES\\\\COMP6741_IS\\\\Lecture_2\\\\Worksheets\\\\Worksheet2_quest.pdf',\n",
       " 'COURSES/COURSES\\\\COMP6741_IS\\\\Lecture_3\\\\Readings\\\\worksheet2.pdf',\n",
       " 'COURSES/COURSES\\\\COMP6741_IS\\\\Lecture_3\\\\Slides\\\\Chapter_3.pdf',\n",
       " 'COURSES/COURSES\\\\COMP6741_IS\\\\Lecture_3\\\\Worksheets\\\\worksheet2_quest.pdf']"
      ]
     },
     "execution_count": 9,
     "metadata": {},
     "output_type": "execute_result"
    }
   ],
   "source": [
    "pdfs\n"
   ]
  },
  {
   "cell_type": "code",
   "execution_count": 10,
   "id": "9d79b2aa",
   "metadata": {},
   "outputs": [],
   "source": [
    "# Creating the text file to save topics\n",
    "courseTopicsTxt = open(\"courseTopics.txt\", \"w\")"
   ]
  },
  {
   "cell_type": "code",
   "execution_count": 11,
   "id": "2c9baff9",
   "metadata": {},
   "outputs": [
    {
     "data": {
      "text/plain": [
       "<_io.TextIOWrapper name='courseTopics.txt' mode='w' encoding='cp1252'>"
      ]
     },
     "execution_count": 11,
     "metadata": {},
     "output_type": "execute_result"
    }
   ],
   "source": [
    "courseTopicsTxt"
   ]
  },
  {
   "cell_type": "code",
   "execution_count": 12,
   "id": "303d1c00",
   "metadata": {},
   "outputs": [
    {
     "name": "stderr",
     "output_type": "stream",
     "text": [
      "2024-04-13 20:04:31,332 [MainThread  ] [WARNI]  Failed to see startup log message; retrying...\n"
     ]
    },
    {
     "name": "stdout",
     "output_type": "stream",
     "text": [
      "Processing COURSES/COURSES/COMP6481_PPS/Lecture_1/Other_Material/Tutorial_1.pdf\n",
      "Processing COURSES/COURSES/COMP6481_PPS/Lecture_1/Slides/Chapter1.pdf\n",
      "Processing COURSES/COURSES/COMP6481_PPS/Lecture_2/Other_Material/Tutorial_2.pdf\n",
      "Processing COURSES/COURSES/COMP6481_PPS/Lecture_2/Slides/Chapter2.pdf\n",
      "Processing COURSES/COURSES/COMP6481_PPS/Lecture_3/Other_Material/Tutorial_3.pdf\n",
      "Processing COURSES/COURSES/COMP6481_PPS/Lecture_3/Slides/Chapter3.pdf\n",
      "Processing COURSES/COURSES/COMP6741_IS/Lecture_1/Other_Material/Project_Assignment1.pdf\n",
      "Processing COURSES/COURSES/COMP6741_IS/Lecture_1/Readings/syllabus.pdf\n",
      "Processing COURSES/COURSES/COMP6741_IS/Lecture_1/Slides/week1.pdf\n",
      "Processing COURSES/COURSES/COMP6741_IS/Lecture_2/Readings/Worksheet2.pdf\n",
      "Processing COURSES/COURSES/COMP6741_IS/Lecture_2/Slides/Chapter_2.pdf\n",
      "Processing COURSES/COURSES/COMP6741_IS/Lecture_2/Worksheets/Worksheet2_quest.pdf\n",
      "Processing COURSES/COURSES/COMP6741_IS/Lecture_3/Readings/worksheet2.pdf\n",
      "Processing COURSES/COURSES/COMP6741_IS/Lecture_3/Slides/Chapter_3.pdf\n",
      "Processing COURSES/COURSES/COMP6741_IS/Lecture_3/Worksheets/worksheet2_quest.pdf\n",
      "The Course Topics File has been saved as courseTopics.txt in C:\\Users\\Sraddha Bhattacharje\\Desktop\\WINTER 24\\Intelligent Systems\\project_a2\\COMP6741_Roboprof\n"
     ]
    }
   ],
   "source": [
    "for pdf in pdfs:\n",
    "    pdf = pdf.replace(\"\\\\\", \"/\")\n",
    "    \n",
    "    # Skip Outlines\n",
    "    if \"outline\" in pdf.lower():\n",
    "       continue\n",
    "    \n",
    "    # Opening PDF file\n",
    "    parsed_pdf = parser.from_file(pdf) #sample.pdf\n",
    "    print(\"Processing \" + pdf)\n",
    "\n",
    "    # Saving content of PDF\n",
    "    # To get the text only, use parsed_pdf['text'] - parsed_pdf['content'] returns string\n",
    "    data = parsed_pdf['content']\n",
    "\n",
    "    # Linking of content to dbpedia resource\n",
    "    annotations = spotlight.annotate('https://api.dbpedia-spotlight.org/en/annotate', data, confidence=0.4, support=20)\n",
    "\n",
    "    # To keep duplicates from being written to the file\n",
    "    linesSeen = set() # Holds lines already seen\n",
    "\n",
    "    # Adding the topics\n",
    "    for elt in annotations:\n",
    "        try:\n",
    "            # Writing the topic data in the text file - topicLabel topic_dbpedia_URI PDF_URI COURSE-COMPONENT-#\n",
    "            url = elt.get(\"URI\")\n",
    "            name = url.split('/')[-1]\n",
    "            course = pdf.split('/')[2]\n",
    "            lecture = pdf.split('/')[3]\n",
    "            #line = re.sub('[^A-Za-z0-9_-]+', '', elt.get(\"URI\").replace(\"http://dbpedia.org/resource/\", \"\")) + \" \" + elt.get(\"URI\") + \" \" + pdf + \" \" + pdf.split(\"/\")[2] + \"\\n\"\n",
    "            line = f\"{name} {url} {course} {lecture} \\n\"\n",
    "            #print(line)\n",
    "            if line not in linesSeen and not line == \"\": # If the line is not a duplicate and it is not empty, add it to the topics file\n",
    "                courseTopicsTxt.write(line)\n",
    "                linesSeen.add(line)\n",
    "        except Exception as e:\n",
    "            url = elt.get(\"URI\")\n",
    "            name = url.split('/')[-1]\n",
    "            line = f\"{name} {url} {pdf}\"\n",
    "            print(pdf)\n",
    "            print(f\"Error in {elt}. Skipping\")\n",
    "\n",
    "\n",
    "# Showing where the new file can be found\n",
    "print(\"The Course Topics File has been saved as \" + courseTopicsTxt.name + \" in \" + os.getcwd())\n",
    "\n",
    "# Closing and saving the text file with the data\n",
    "courseTopicsTxt.close()\n",
    "\n"
   ]
  },
  {
   "cell_type": "code",
   "execution_count": null,
   "id": "f49e9208",
   "metadata": {},
   "outputs": [],
   "source": []
  }
 ],
 "metadata": {
  "kernelspec": {
   "display_name": "Python 3 (ipykernel)",
   "language": "python",
   "name": "python3"
  },
  "language_info": {
   "codemirror_mode": {
    "name": "ipython",
    "version": 3
   },
   "file_extension": ".py",
   "mimetype": "text/x-python",
   "name": "python",
   "nbconvert_exporter": "python",
   "pygments_lexer": "ipython3",
   "version": "3.9.13"
  }
 },
 "nbformat": 4,
 "nbformat_minor": 5
}
