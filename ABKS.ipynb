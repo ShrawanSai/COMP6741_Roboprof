{
 "cells": [
  {
   "cell_type": "code",
   "execution_count": 1,
   "id": "e8ca80d5-8a0e-443e-a9dd-63c2840d3921",
   "metadata": {},
   "outputs": [],
   "source": [
    "import pandas as pd\n",
    "import numpy as np\n",
    "import os\n",
    "import urllib.parse  # for parsing strings to URI's\n",
    "from urllib.parse import quote\n",
    "\n",
    "#RDF libraries\n",
    "from rdflib import Graph, Literal, RDF, URIRef, Namespace, Dataset, BNode  # basic RDF handling\n",
    "from rdflib.namespace import FOAF, RDFS, XSD  # most common namespaces\n",
    "from rdflib.tools.rdf2dot import rdf2dot\n",
    "\n",
    "#Visualizing\n",
    "from graphviz import Source"
   ]
  },
  {
   "cell_type": "markdown",
   "id": "9e395c3b-9619-4705-9e8d-e9bb2b649c0c",
   "metadata": {},
   "source": [
    "## Function to visualize graph"
   ]
  },
  {
   "cell_type": "code",
   "execution_count": 2,
   "id": "f9d158d5-8454-4a5f-857a-1bba1d4c6346",
   "metadata": {},
   "outputs": [],
   "source": [
    "def visualize_graph(kg):\n",
    "    # Open a file to write the DOT output\n",
    "    with open(\"graph.dot\", \"w\", encoding=\"utf-8\") as dot_file:\n",
    "        # Generate a DOT file from the RDF graph\n",
    "        rdf2dot(kg, dot_file)\n",
    "   \n",
    "    # Load the DOT file with UTF-8 encoding and render it\n",
    "    with open(\"graph.dot\", \"r\", encoding=\"utf-8\") as dot_file:\n",
    "        src = Source(dot_file.read())\n",
    "    return src"
   ]
  },
  {
   "cell_type": "markdown",
   "id": "ece4d33c-d1b3-4930-beeb-a76a9baf7845",
   "metadata": {},
   "source": [
    "## Defining Namespaces and Dataset and a graph called KG"
   ]
  },
  {
   "cell_type": "code",
   "execution_count": 3,
   "id": "8a723e64-49af-4b75-ad39-c03e78ce3a3b",
   "metadata": {},
   "outputs": [],
   "source": [
    "# Namespaces for our vocabulary items (schema information, existing vocabulary, etc.)\n",
    "ACAD = Namespace('http://acad.io/schema#')\n",
    "ACADDATA = Namespace('http://acad.io/data#')\n",
    "VIVO = Namespace('http://vivoweb.org/ontology/core#')\n",
    "DC = Namespace('http://purl.org/dc/terms/')\n",
    "OWL = Namespace('http://www.w3.org/2002/07/owl#')\n"
   ]
  },
  {
   "cell_type": "code",
   "execution_count": 4,
   "id": "9dcd083d-b359-4cd5-862a-e5d498b482f2",
   "metadata": {},
   "outputs": [],
   "source": [
    "# Initialize a dataset and bind namespaces\n",
    "dataset = Dataset()\n",
    "dataset.bind('ACAD', ACAD)\n",
    "dataset.bind('ACADDATA', ACADDATA)\n",
    "dataset.bind('VIVO', VIVO)\n",
    "dataset.bind('DC', DC)\n",
    "dataset.bind('OWL', OWL)\n",
    "\n",
    "kg = dataset.graph()"
   ]
  },
  {
   "cell_type": "code",
   "execution_count": 5,
   "id": "c02f7691-bb41-4a91-b04b-604b212d4942",
   "metadata": {},
   "outputs": [
    {
     "data": {
      "text/plain": [
       "<Graph identifier=urn:x-rdflib:default (<class 'rdflib.graph.Graph'>)>"
      ]
     },
     "execution_count": 5,
     "metadata": {},
     "output_type": "execute_result"
    }
   ],
   "source": [
    "# Load the externally defined schema into the default graph (context) of the dataset\n",
    "dataset.default_context.parse('vocabulary.ttl', format='turtle')\n"
   ]
  },
  {
   "cell_type": "markdown",
   "id": "38ad889b-30f2-42dd-b174-d471f8f7325f",
   "metadata": {},
   "source": [
    "## Adding Universities and visualizing\n",
    "### (namely Concordia and Mcgill)"
   ]
  },
  {
   "cell_type": "code",
   "execution_count": 6,
   "id": "b01e7c44-3ba1-422f-8dd8-68f85dcc1f25",
   "metadata": {},
   "outputs": [
    {
     "data": {
      "text/plain": [
       "<Graph identifier=https://rdflib.github.io/.well-known/genid/rdflib/Nef3a933822224c19accb97354303a912 (<class 'rdflib.graph.Graph'>)>"
      ]
     },
     "execution_count": 6,
     "metadata": {},
     "output_type": "execute_result"
    }
   ],
   "source": [
    "# Define URIs for Concordia University and McGill University\n",
    "concordia_uri = ACADDATA['concordia']\n",
    "mcgill_uri = ACADDATA['mcgill']\n",
    "\n",
    "# Add triples for Concordia University\n",
    "kg.add((concordia_uri, RDF.type, ACAD.University))\n",
    "kg.add((concordia_uri, ACAD.universityName, Literal(\"Concordia University\", datatype=XSD.string)))\n",
    "kg.add((concordia_uri, ACAD.universityDBpediaLink, URIRef('https://dbpedia.org/page/Concordia_University')))\n",
    "kg.add((concordia_uri, ACAD.universityWikidataLink, URIRef('https://www.wikidata.org/wiki/Q326342')))\n",
    "\n",
    "# Add triples for McGill University\n",
    "kg.add((mcgill_uri, RDF.type, ACAD.University))\n",
    "kg.add((mcgill_uri, ACAD.universityName, Literal(\"Mcgill University\", datatype=XSD.string)))\n",
    "kg.add((mcgill_uri, ACAD.universityDBpediaLink, URIRef('https://dbpedia.org/page/McGill_University')))\n",
    "kg.add((mcgill_uri, ACAD.universityWikidataLink, URIRef('https://www.wikidata.org/wiki/Q201492')))"
   ]
  },
  {
   "cell_type": "code",
   "execution_count": 7,
   "id": "b9129610-abea-4bd0-9311-e8f021fcc0af",
   "metadata": {},
   "outputs": [
    {
     "data": {
      "text/plain": [
       "<Graph identifier=https://rdflib.github.io/.well-known/genid/rdflib/Nef3a933822224c19accb97354303a912 (<class 'rdflib.graph.Graph'>)>"
      ]
     },
     "execution_count": 7,
     "metadata": {},
     "output_type": "execute_result"
    }
   ],
   "source": [
    "kg"
   ]
  },
  {
   "cell_type": "code",
   "execution_count": 8,
   "id": "d62a07f2-ec4e-4aef-9d52-b24b3fecd009",
   "metadata": {},
   "outputs": [
    {
     "name": "stderr",
     "output_type": "stream",
     "text": [
      "\n",
      "(dot.exe:26004): Pango-WARNING **: couldn't load font \"DejaVu Sans Bold Not-Rotated 14\", falling back to \"Sans Bold Not-Rotated 14\", expect ugly output.\n",
      "\n",
      "(dot.exe:26004): Pango-WARNING **: couldn't load font \"DejaVu Sans Not-Rotated 10\", falling back to \"Sans Not-Rotated 10\", expect ugly output.\n",
      "\n",
      "(dot.exe:26004): Pango-WARNING **: couldn't load font \"DejaVu Sans Not-Rotated 14\", falling back to \"Sans Not-Rotated 14\", expect ugly output.\n"
     ]
    },
    {
     "data": {
      "image/svg+xml": [
       "<?xml version=\"1.0\" encoding=\"UTF-8\" standalone=\"no\"?>\n",
       "<!DOCTYPE svg PUBLIC \"-//W3C//DTD SVG 1.1//EN\"\n",
       " \"http://www.w3.org/Graphics/SVG/1.1/DTD/svg11.dtd\">\n",
       "<!-- Generated by graphviz version 10.0.1 (20240210.2158)\n",
       " -->\n",
       "<!-- Pages: 1 -->\n",
       "<svg width=\"1062pt\" height=\"175pt\"\n",
       " viewBox=\"0.00 0.00 1062.00 174.75\" xmlns=\"http://www.w3.org/2000/svg\" xmlns:xlink=\"http://www.w3.org/1999/xlink\">\n",
       "<g id=\"graph0\" class=\"graph\" transform=\"scale(1 1) rotate(0) translate(4 170.75)\">\n",
       "<polygon fill=\"white\" stroke=\"none\" points=\"-4,4 -4,-170.75 1058,-170.75 1058,4 -4,4\"/>\n",
       "<!-- node0 -->\n",
       "<g id=\"node1\" class=\"node\">\n",
       "<title>node0</title>\n",
       "<polygon fill=\"grey\" stroke=\"none\" points=\"148.5,-140.75 148.5,-161.75 481.5,-161.75 481.5,-140.75 148.5,-140.75\"/>\n",
       "<text text-anchor=\"start\" x=\"293.25\" y=\"-147.45\" font-family=\"DejaVu Sans\" font-weight=\"bold\" font-size=\"14.00\">mcgill</text>\n",
       "<g id=\"a_node1_0\"><a xlink:href=\"http://acad.io/data#mcgill\" xlink:title=\"&lt;TABLE&gt;\">\n",
       "<polygon fill=\"#eeeeee\" stroke=\"none\" points=\"148.5,-124.75 148.5,-140.75 481.5,-140.75 481.5,-124.75 148.5,-124.75\"/>\n",
       "<text text-anchor=\"start\" x=\"258.75\" y=\"-129.25\" font-family=\"DejaVu Sans\" font-size=\"10.00\" fill=\"#6666ff\">http://acad.io/data#mcgill</text>\n",
       "</a>\n",
       "</g>\n",
       "<text text-anchor=\"start\" x=\"150.38\" y=\"-109.45\" font-family=\"DejaVu Sans\" font-size=\"14.00\">acad:universityName</text>\n",
       "<text text-anchor=\"start\" x=\"285.38\" y=\"-109.45\" font-family=\"DejaVu Sans\" font-size=\"14.00\">&quot;Mcgill University&quot;^^xsd:string</text>\n",
       "<polygon fill=\"none\" stroke=\"#666666\" points=\"147.5,-102.75 147.5,-162.75 482.5,-162.75 482.5,-102.75 147.5,-102.75\"/>\n",
       "</g>\n",
       "<!-- node1 -->\n",
       "<g id=\"node2\" class=\"node\">\n",
       "<title>node1</title>\n",
       "<polygon fill=\"grey\" stroke=\"none\" points=\"9,-21 9,-42 185,-42 185,-21 9,-21\"/>\n",
       "<text text-anchor=\"start\" x=\"64.38\" y=\"-27.7\" font-family=\"DejaVu Sans\" font-weight=\"bold\" font-size=\"14.00\">Q201492</text>\n",
       "<g id=\"a_node2_1\"><a xlink:href=\"https://www.wikidata.org/wiki/Q201492\" xlink:title=\"&lt;TABLE&gt;\">\n",
       "<polygon fill=\"#eeeeee\" stroke=\"none\" points=\"9,-5 9,-21 185,-21 185,-5 9,-5\"/>\n",
       "<text text-anchor=\"start\" x=\"10.75\" y=\"-9.5\" font-family=\"DejaVu Sans\" font-size=\"10.00\" fill=\"#6666ff\">https://www.wikidata.org/wiki/Q201492</text>\n",
       "</a>\n",
       "</g>\n",
       "<polygon fill=\"none\" stroke=\"#666666\" points=\"8,-4 8,-43 186,-43 186,-4 8,-4\"/>\n",
       "</g>\n",
       "<!-- node0&#45;&gt;node1 -->\n",
       "<g id=\"edge1\" class=\"edge\">\n",
       "<title>node0&#45;&gt;node1</title>\n",
       "<path fill=\"none\" stroke=\"BLACK\" d=\"M227.9,-98.78C214.62,-93.12 201.2,-87.03 188.75,-80.75 172.46,-72.54 155.26,-62.41 140.2,-53.02\"/>\n",
       "<polygon fill=\"BLACK\" stroke=\"BLACK\" points=\"142.25,-50.18 131.93,-47.8 138.51,-56.1 142.25,-50.18\"/>\n",
       "<text text-anchor=\"start\" x=\"189\" y=\"-68.45\" font-family=\"Times New Roman,serif\" font-size=\"14.00\"> </text>\n",
       "<text text-anchor=\"start\" x=\"192.75\" y=\"-68.45\" font-family=\"Times New Roman,serif\" font-size=\"10.00\" fill=\"#336633\">acad:universityWikidataLink</text>\n",
       "<text text-anchor=\"start\" x=\"307.5\" y=\"-68.45\" font-family=\"Times New Roman,serif\" font-size=\"14.00\"> </text>\n",
       "</g>\n",
       "<!-- node2 -->\n",
       "<g id=\"node3\" class=\"node\">\n",
       "<title>node2</title>\n",
       "<polygon fill=\"grey\" stroke=\"none\" points=\"221.5,-21 221.5,-42 408.5,-42 408.5,-21 221.5,-21\"/>\n",
       "<text text-anchor=\"start\" x=\"252\" y=\"-27.7\" font-family=\"DejaVu Sans\" font-weight=\"bold\" font-size=\"14.00\">McGill_University</text>\n",
       "<g id=\"a_node3_2\"><a xlink:href=\"https://dbpedia.org/page/McGill_University\" xlink:title=\"&lt;TABLE&gt;\">\n",
       "<polygon fill=\"#eeeeee\" stroke=\"none\" points=\"221.5,-5 221.5,-21 408.5,-21 408.5,-5 221.5,-5\"/>\n",
       "<text text-anchor=\"start\" x=\"223.5\" y=\"-9.5\" font-family=\"DejaVu Sans\" font-size=\"10.00\" fill=\"#6666ff\">https://dbpedia.org/page/McGill_University</text>\n",
       "</a>\n",
       "</g>\n",
       "<polygon fill=\"none\" stroke=\"#666666\" points=\"220.5,-4 220.5,-43 409.5,-43 409.5,-4 220.5,-4\"/>\n",
       "</g>\n",
       "<!-- node0&#45;&gt;node2 -->\n",
       "<g id=\"edge2\" class=\"edge\">\n",
       "<title>node0&#45;&gt;node2</title>\n",
       "<path fill=\"none\" stroke=\"BLACK\" d=\"M315,-98.99C315,-86.07 315,-71.23 315,-58.21\"/>\n",
       "<polygon fill=\"BLACK\" stroke=\"BLACK\" points=\"318.5,-58.39 315,-48.39 311.5,-58.39 318.5,-58.39\"/>\n",
       "<text text-anchor=\"start\" x=\"315\" y=\"-68.45\" font-family=\"Times New Roman,serif\" font-size=\"14.00\"> </text>\n",
       "<text text-anchor=\"start\" x=\"318.75\" y=\"-68.45\" font-family=\"Times New Roman,serif\" font-size=\"10.00\" fill=\"#336633\">acad:universityDBpediaLink</text>\n",
       "<text text-anchor=\"start\" x=\"432\" y=\"-68.45\" font-family=\"Times New Roman,serif\" font-size=\"14.00\"> </text>\n",
       "</g>\n",
       "<!-- node3 -->\n",
       "<g id=\"node4\" class=\"node\">\n",
       "<title>node3</title>\n",
       "<polygon fill=\"grey\" stroke=\"none\" points=\"444.5,-21 444.5,-42 591.5,-42 591.5,-21 444.5,-21\"/>\n",
       "<text text-anchor=\"start\" x=\"481.62\" y=\"-27.7\" font-family=\"DejaVu Sans\" font-weight=\"bold\" font-size=\"14.00\">University</text>\n",
       "<g id=\"a_node4_3\"><a xlink:href=\"http://acad.io/schema#University\" xlink:title=\"&lt;TABLE&gt;\">\n",
       "<polygon fill=\"#eeeeee\" stroke=\"none\" points=\"444.5,-5 444.5,-21 591.5,-21 591.5,-5 444.5,-5\"/>\n",
       "<text text-anchor=\"start\" x=\"446.38\" y=\"-9.5\" font-family=\"DejaVu Sans\" font-size=\"10.00\" fill=\"#6666ff\">http://acad.io/schema#University</text>\n",
       "</a>\n",
       "</g>\n",
       "<polygon fill=\"none\" stroke=\"#666666\" points=\"443.5,-4 443.5,-43 592.5,-43 592.5,-4 443.5,-4\"/>\n",
       "</g>\n",
       "<!-- node0&#45;&gt;node3 -->\n",
       "<g id=\"edge3\" class=\"edge\">\n",
       "<title>node0&#45;&gt;node3</title>\n",
       "<path fill=\"none\" stroke=\"BLACK\" d=\"M403.32,-98.8C415.86,-93.24 428.42,-87.17 440,-80.75 454.22,-72.87 468.9,-62.85 481.65,-53.45\"/>\n",
       "<polygon fill=\"BLACK\" stroke=\"BLACK\" points=\"483.45,-56.48 489.34,-47.67 479.24,-50.88 483.45,-56.48\"/>\n",
       "<text text-anchor=\"start\" x=\"465\" y=\"-68.45\" font-family=\"Times New Roman,serif\" font-size=\"14.00\"> </text>\n",
       "<text text-anchor=\"start\" x=\"468.75\" y=\"-68.45\" font-family=\"Times New Roman,serif\" font-size=\"10.00\" fill=\"#336633\">rdf:type</text>\n",
       "<text text-anchor=\"start\" x=\"500.25\" y=\"-68.45\" font-family=\"Times New Roman,serif\" font-size=\"14.00\"> </text>\n",
       "</g>\n",
       "<!-- node4 -->\n",
       "<g id=\"node5\" class=\"node\">\n",
       "<title>node4</title>\n",
       "<polygon fill=\"grey\" stroke=\"none\" points=\"550,-140.75 550,-161.75 910,-161.75 910,-140.75 550,-140.75\"/>\n",
       "<text text-anchor=\"start\" x=\"695.12\" y=\"-147.45\" font-family=\"DejaVu Sans\" font-weight=\"bold\" font-size=\"14.00\">concordia</text>\n",
       "<g id=\"a_node5_4\"><a xlink:href=\"http://acad.io/data#concordia\" xlink:title=\"&lt;TABLE&gt;\">\n",
       "<polygon fill=\"#eeeeee\" stroke=\"none\" points=\"550,-124.75 550,-140.75 910,-140.75 910,-124.75 550,-124.75\"/>\n",
       "<text text-anchor=\"start\" x=\"665.5\" y=\"-129.25\" font-family=\"DejaVu Sans\" font-size=\"10.00\" fill=\"#6666ff\">http://acad.io/data#concordia</text>\n",
       "</a>\n",
       "</g>\n",
       "<text text-anchor=\"start\" x=\"551.88\" y=\"-109.45\" font-family=\"DejaVu Sans\" font-size=\"14.00\">acad:universityName</text>\n",
       "<text text-anchor=\"start\" x=\"686.88\" y=\"-109.45\" font-family=\"DejaVu Sans\" font-size=\"14.00\">&quot;Concordia University&quot;^^xsd:string</text>\n",
       "<polygon fill=\"none\" stroke=\"#666666\" points=\"549,-102.75 549,-162.75 911,-162.75 911,-102.75 549,-102.75\"/>\n",
       "</g>\n",
       "<!-- node4&#45;&gt;node3 -->\n",
       "<g id=\"edge4\" class=\"edge\">\n",
       "<title>node4&#45;&gt;node3</title>\n",
       "<path fill=\"none\" stroke=\"BLACK\" d=\"M664.95,-98.84C635.36,-83.87 600.73,-66.35 572.53,-52.08\"/>\n",
       "<polygon fill=\"BLACK\" stroke=\"BLACK\" points=\"574.3,-49.06 563.8,-47.67 571.14,-55.31 574.3,-49.06\"/>\n",
       "<text text-anchor=\"start\" x=\"624\" y=\"-68.45\" font-family=\"Times New Roman,serif\" font-size=\"14.00\"> </text>\n",
       "<text text-anchor=\"start\" x=\"627.75\" y=\"-68.45\" font-family=\"Times New Roman,serif\" font-size=\"10.00\" fill=\"#336633\">rdf:type</text>\n",
       "<text text-anchor=\"start\" x=\"659.25\" y=\"-68.45\" font-family=\"Times New Roman,serif\" font-size=\"14.00\"> </text>\n",
       "</g>\n",
       "<!-- node5 -->\n",
       "<g id=\"node6\" class=\"node\">\n",
       "<title>node5</title>\n",
       "<polygon fill=\"grey\" stroke=\"none\" points=\"627.5,-21 627.5,-42 832.5,-42 832.5,-21 627.5,-21\"/>\n",
       "<text text-anchor=\"start\" x=\"653.12\" y=\"-27.7\" font-family=\"DejaVu Sans\" font-weight=\"bold\" font-size=\"14.00\">Concordia_University</text>\n",
       "<g id=\"a_node6_5\"><a xlink:href=\"https://dbpedia.org/page/Concordia_University\" xlink:title=\"&lt;TABLE&gt;\">\n",
       "<polygon fill=\"#eeeeee\" stroke=\"none\" points=\"627.5,-5 627.5,-21 832.5,-21 832.5,-5 627.5,-5\"/>\n",
       "<text text-anchor=\"start\" x=\"629.5\" y=\"-9.5\" font-family=\"DejaVu Sans\" font-size=\"10.00\" fill=\"#6666ff\">https://dbpedia.org/page/Concordia_University</text>\n",
       "</a>\n",
       "</g>\n",
       "<polygon fill=\"none\" stroke=\"#666666\" points=\"626.5,-4 626.5,-43 833.5,-43 833.5,-4 626.5,-4\"/>\n",
       "</g>\n",
       "<!-- node4&#45;&gt;node5 -->\n",
       "<g id=\"edge5\" class=\"edge\">\n",
       "<title>node4&#45;&gt;node5</title>\n",
       "<path fill=\"none\" stroke=\"BLACK\" d=\"M730,-98.99C730,-86.07 730,-71.23 730,-58.21\"/>\n",
       "<polygon fill=\"BLACK\" stroke=\"BLACK\" points=\"733.5,-58.39 730,-48.39 726.5,-58.39 733.5,-58.39\"/>\n",
       "<text text-anchor=\"start\" x=\"730\" y=\"-68.45\" font-family=\"Times New Roman,serif\" font-size=\"14.00\"> </text>\n",
       "<text text-anchor=\"start\" x=\"733.75\" y=\"-68.45\" font-family=\"Times New Roman,serif\" font-size=\"10.00\" fill=\"#336633\">acad:universityDBpediaLink</text>\n",
       "<text text-anchor=\"start\" x=\"847\" y=\"-68.45\" font-family=\"Times New Roman,serif\" font-size=\"14.00\"> </text>\n",
       "</g>\n",
       "<!-- node6 -->\n",
       "<g id=\"node7\" class=\"node\">\n",
       "<title>node6</title>\n",
       "<polygon fill=\"grey\" stroke=\"none\" points=\"869,-21 869,-42 1045,-42 1045,-21 869,-21\"/>\n",
       "<text text-anchor=\"start\" x=\"924.38\" y=\"-27.7\" font-family=\"DejaVu Sans\" font-weight=\"bold\" font-size=\"14.00\">Q326342</text>\n",
       "<g id=\"a_node7_6\"><a xlink:href=\"https://www.wikidata.org/wiki/Q326342\" xlink:title=\"&lt;TABLE&gt;\">\n",
       "<polygon fill=\"#eeeeee\" stroke=\"none\" points=\"869,-5 869,-21 1045,-21 1045,-5 869,-5\"/>\n",
       "<text text-anchor=\"start\" x=\"870.75\" y=\"-9.5\" font-family=\"DejaVu Sans\" font-size=\"10.00\" fill=\"#6666ff\">https://www.wikidata.org/wiki/Q326342</text>\n",
       "</a>\n",
       "</g>\n",
       "<polygon fill=\"none\" stroke=\"#666666\" points=\"868,-4 868,-43 1046,-43 1046,-4 868,-4\"/>\n",
       "</g>\n",
       "<!-- node4&#45;&gt;node6 -->\n",
       "<g id=\"edge6\" class=\"edge\">\n",
       "<title>node4&#45;&gt;node6</title>\n",
       "<path fill=\"none\" stroke=\"BLACK\" d=\"M814.64,-98.78C828.25,-93.03 842.1,-86.91 855,-80.75 873,-72.15 892.27,-61.83 909.16,-52.38\"/>\n",
       "<polygon fill=\"BLACK\" stroke=\"BLACK\" points=\"910.5,-55.65 917.49,-47.69 907.06,-49.55 910.5,-55.65\"/>\n",
       "<text text-anchor=\"start\" x=\"883\" y=\"-68.45\" font-family=\"Times New Roman,serif\" font-size=\"14.00\"> </text>\n",
       "<text text-anchor=\"start\" x=\"886.75\" y=\"-68.45\" font-family=\"Times New Roman,serif\" font-size=\"10.00\" fill=\"#336633\">acad:universityWikidataLink</text>\n",
       "<text text-anchor=\"start\" x=\"1001.5\" y=\"-68.45\" font-family=\"Times New Roman,serif\" font-size=\"14.00\"> </text>\n",
       "</g>\n",
       "</g>\n",
       "</svg>\n"
      ],
      "text/plain": [
       "<graphviz.sources.Source at 0x149ffe3fd10>"
      ]
     },
     "execution_count": 8,
     "metadata": {},
     "output_type": "execute_result"
    }
   ],
   "source": [
    "graph = visualize_graph(kg)\n",
    "graph"
   ]
  },
  {
   "cell_type": "markdown",
   "id": "48721ccf-76fa-465c-a200-2d3a55c5ce80",
   "metadata": {},
   "source": [
    "## Adding the courses COMP 6481 and COMP 6741"
   ]
  },
  {
   "cell_type": "code",
   "execution_count": 9,
   "id": "63e048f9-1a45-4f52-9cc0-990745d42573",
   "metadata": {},
   "outputs": [],
   "source": [
    "#Adding COMP 6481\n",
    "pps_course_description = \"This course provides an overview of programming, problem solving, widely-used data structures and the design of fundamental and advanced algorithms using object oriented programming. Students will learn about arrays, lists, and the underlying concepts of iterators; sorting and searching algorithms; software testing including boundary and unit testing; complexity analysis; recursion; trees and tree traversal algorithms; maps and hash tables; search trees; and graphs and graph-based algorithms. For a passing grade, the student must pass one or more computer-based Programming Competency Tests.\"\n",
    "#Courses/Courses/COMP 6481/Comp6481-Winter-2024_course_outline.pdf\n",
    "#\"file://\" + quote(\"Courses/Courses/COMP 6481/Comp6481-Winter-2024_course_outline.pdf\",safe=\"\")\n",
    "pps_course_outline_uri = \"Courses/Courses/COMP6481_PPS/Comp6481-Winter-2024_course_outline.pdf\"\n",
    "\n",
    "kg.add((URIRef(ACADDATA + 'COMP6481_PPS'), RDF.type, VIVO.Course))\n",
    "\n",
    "#Add that concordia offers this course\n",
    "kg.add((ACADDATA.concordia, ACAD.offers, URIRef(ACADDATA + 'COMP6481_PPS')))\n",
    "\n",
    "#Add the name of the course\n",
    "kg.add((URIRef(ACADDATA + 'COMP6481_PPS'), ACAD.courseName, Literal(\"Programming and Problem Solving\", datatype=XSD.string)))\n",
    "\n",
    "#Add the Course Subject (COMP/SOEN/COEN etc)\n",
    "kg.add((URIRef(ACADDATA + 'COMP6481_PPS'), ACAD.courseSubject, Literal(\"COMP\", datatype=XSD.string)))\n",
    "\n",
    "#Add the Course Number \n",
    "kg.add((URIRef(ACADDATA + 'COMP6481_PPS'), ACAD.courseNumber, Literal(\"6481\", datatype=XSD.string)))\n",
    "\n",
    "#Add the Course Description\n",
    "kg.add((URIRef(ACADDATA + 'COMP6481_PPS'), ACAD.courseDescription, Literal(pps_course_description, datatype=XSD.string)))\n",
    "\n",
    "#Add the Course Credits\n",
    "kg.add((URIRef(ACADDATA + 'COMP6481_PPS'), ACAD.courseCredits, Literal(\"4\", datatype=XSD.string)))\n",
    "\n",
    "#Add the Course Website\n",
    "kg.add((URIRef(ACADDATA + 'COMP6481_PPS'), ACAD.courseWebpage, Literal(\"https://aimanhanna.com/\", datatype=XSD.string)))\n",
    "\n",
    "#Add the Course Outline\n",
    "if os.path.exists(pps_course_outline_uri):\n",
    "    # If it does, make outline triple\n",
    "    kg.add((URIRef(ACADDATA + 'COMP6481_PPS'), ACAD.courseOutline, URIRef(\"file://\" + quote(pps_course_outline_uri,safe=\"\"))))\n",
    "else:\n",
    "    print('Could not add Course Outline')\n"
   ]
  },
  {
   "cell_type": "code",
   "execution_count": null,
   "id": "0de9d6d8-e7b0-4d46-9a8f-36d49105ca05",
   "metadata": {},
   "outputs": [],
   "source": []
  },
  {
   "cell_type": "code",
   "execution_count": 10,
   "id": "5ff2afab-8b9e-453a-96d3-262ba465722c",
   "metadata": {},
   "outputs": [],
   "source": [
    "#Adding COMP 6741\n",
    "is_course_description = \"Knowledge representation and reasoning. Uncertainty and conflict resolution. Design of intelligent systems. Grammar-based, rule-based, and blackboard architectures. A project is required.\"\n",
    "\n",
    "is_course_outline_uri = \"Courses/Courses/COMP6741_IS/course_outline.pdf\"\n",
    "\n",
    "kg.add((URIRef(ACADDATA + 'COMP6741_IS'), RDF.type, VIVO.Course))\n",
    "\n",
    "#Add that concordia offers this course\n",
    "kg.add((ACADDATA.concordia, ACAD.offers, URIRef(ACADDATA + 'COMP6741_IS')))\n",
    "\n",
    "#Add the name of the course\n",
    "kg.add((URIRef(ACADDATA + 'COMP6741_IS'), ACAD.courseName, Literal(\"Intelligent Systems\", datatype=XSD.string)))\n",
    "\n",
    "#Add the Course Subject (COMP/SOEN/COEN etc)\n",
    "kg.add((URIRef(ACADDATA + 'COMP6741_IS'), ACAD.courseSubject, Literal(\"COMP\", datatype=XSD.string)))\n",
    "\n",
    "#Add the Course Number \n",
    "kg.add((URIRef(ACADDATA + 'COMP6741_IS'), ACAD.courseNumber, Literal(\"6741\", datatype=XSD.string)))\n",
    "\n",
    "#Add the Course Description\n",
    "kg.add((URIRef(ACADDATA + 'COMP6741_IS'), ACAD.courseDescription, Literal(is_course_description, datatype=XSD.string)))\n",
    "\n",
    "#Add the Course Credits\n",
    "kg.add((URIRef(ACADDATA + 'COMP6741_IS'), ACAD.courseCredits, Literal(\"4\", datatype=XSD.string)))\n",
    "\n",
    "#Add the Course Website\n",
    "kg.add((URIRef(ACADDATA + 'COMP6741_IS'), ACAD.courseWebpage, Literal(\"https://www.concordia.ca/academics/graduate/calendar/current/gina-cody-school-of-engineering-and-computer-science-courses/computer-science-and-software-engineering-master-s-and-phd-courses.html\", datatype=XSD.string)))\n",
    "\n",
    "#Add the Course Outline\n",
    "if os.path.exists(is_course_outline_uri):\n",
    "    # If it does, make outline triple\n",
    "    kg.add((URIRef(ACADDATA + 'COMP6741_IS'), ACAD.courseOutline, URIRef(\"file://\" + quote(is_course_outline_uri,safe=\"\"))))\n",
    "else:\n",
    "    print('Could not add Course Outline')\n"
   ]
  },
  {
   "cell_type": "code",
   "execution_count": null,
   "id": "64160787-8a8a-416c-a4fc-4de31dec4839",
   "metadata": {},
   "outputs": [],
   "source": []
  },
  {
   "cell_type": "markdown",
   "id": "aa30ce13-7b7d-4ca7-b7da-1dfac763c801",
   "metadata": {},
   "source": [
    "## Saving progress"
   ]
  },
  {
   "cell_type": "code",
   "execution_count": 11,
   "id": "ace44718-a40e-470b-9170-81e161b25633",
   "metadata": {},
   "outputs": [
    {
     "data": {
      "text/plain": [
       "<Graph identifier=https://rdflib.github.io/.well-known/genid/rdflib/Nef3a933822224c19accb97354303a912 (<class 'rdflib.graph.Graph'>)>"
      ]
     },
     "execution_count": 11,
     "metadata": {},
     "output_type": "execute_result"
    }
   ],
   "source": [
    "kg.serialize('GraphData.ttl', format='turtle')"
   ]
  },
  {
   "cell_type": "code",
   "execution_count": 12,
   "id": "f4411fea-713c-41f4-84b3-4713261065db",
   "metadata": {},
   "outputs": [
    {
     "name": "stderr",
     "output_type": "stream",
     "text": [
      "\n",
      "(dot.exe:3428): Pango-WARNING **: couldn't load font \"DejaVu Sans Bold Not-Rotated 14\", falling back to \"Sans Bold Not-Rotated 14\", expect ugly output.\n",
      "\n",
      "(dot.exe:3428): Pango-WARNING **: couldn't load font \"DejaVu Sans Not-Rotated 10\", falling back to \"Sans Not-Rotated 10\", expect ugly output.\n",
      "\n",
      "(dot.exe:3428): Pango-WARNING **: couldn't load font \"DejaVu Sans Not-Rotated 14\", falling back to \"Sans Not-Rotated 14\", expect ugly output.\n"
     ]
    },
    {
     "data": {
      "image/svg+xml": [
       "<?xml version=\"1.0\" encoding=\"UTF-8\" standalone=\"no\"?>\n",
       "<!DOCTYPE svg PUBLIC \"-//W3C//DTD SVG 1.1//EN\"\n",
       " \"http://www.w3.org/Graphics/SVG/1.1/DTD/svg11.dtd\">\n",
       "<!-- Generated by graphviz version 10.0.1 (20240210.2158)\n",
       " -->\n",
       "<!-- Pages: 1 -->\n",
       "<svg width=\"6785pt\" height=\"400pt\"\n",
       " viewBox=\"0.00 0.00 6785.00 399.50\" xmlns=\"http://www.w3.org/2000/svg\" xmlns:xlink=\"http://www.w3.org/1999/xlink\">\n",
       "<g id=\"graph0\" class=\"graph\" transform=\"scale(1 1) rotate(0) translate(4 395.5)\">\n",
       "<polygon fill=\"white\" stroke=\"none\" points=\"-4,4 -4,-395.5 6781,-395.5 6781,4 -4,4\"/>\n",
       "<!-- node0 -->\n",
       "<g id=\"node1\" class=\"node\">\n",
       "<title>node0</title>\n",
       "<polygon fill=\"grey\" stroke=\"none\" points=\"148.5,-365.5 148.5,-386.5 481.5,-386.5 481.5,-365.5 148.5,-365.5\"/>\n",
       "<text text-anchor=\"start\" x=\"293.25\" y=\"-372.2\" font-family=\"DejaVu Sans\" font-weight=\"bold\" font-size=\"14.00\">mcgill</text>\n",
       "<g id=\"a_node1_0\"><a xlink:href=\"http://acad.io/data#mcgill\" xlink:title=\"&lt;TABLE&gt;\">\n",
       "<polygon fill=\"#eeeeee\" stroke=\"none\" points=\"148.5,-349.5 148.5,-365.5 481.5,-365.5 481.5,-349.5 148.5,-349.5\"/>\n",
       "<text text-anchor=\"start\" x=\"258.75\" y=\"-354\" font-family=\"DejaVu Sans\" font-size=\"10.00\" fill=\"#6666ff\">http://acad.io/data#mcgill</text>\n",
       "</a>\n",
       "</g>\n",
       "<text text-anchor=\"start\" x=\"150.38\" y=\"-334.2\" font-family=\"DejaVu Sans\" font-size=\"14.00\">acad:universityName</text>\n",
       "<text text-anchor=\"start\" x=\"285.38\" y=\"-334.2\" font-family=\"DejaVu Sans\" font-size=\"14.00\">&quot;Mcgill University&quot;^^xsd:string</text>\n",
       "<polygon fill=\"none\" stroke=\"#666666\" points=\"147.5,-327.5 147.5,-387.5 482.5,-387.5 482.5,-327.5 147.5,-327.5\"/>\n",
       "</g>\n",
       "<!-- node1 -->\n",
       "<g id=\"node2\" class=\"node\">\n",
       "<title>node1</title>\n",
       "<polygon fill=\"grey\" stroke=\"none\" points=\"9,-182.75 9,-203.75 185,-203.75 185,-182.75 9,-182.75\"/>\n",
       "<text text-anchor=\"start\" x=\"64.38\" y=\"-189.45\" font-family=\"DejaVu Sans\" font-weight=\"bold\" font-size=\"14.00\">Q201492</text>\n",
       "<g id=\"a_node2_1\"><a xlink:href=\"https://www.wikidata.org/wiki/Q201492\" xlink:title=\"&lt;TABLE&gt;\">\n",
       "<polygon fill=\"#eeeeee\" stroke=\"none\" points=\"9,-166.75 9,-182.75 185,-182.75 185,-166.75 9,-166.75\"/>\n",
       "<text text-anchor=\"start\" x=\"10.75\" y=\"-171.25\" font-family=\"DejaVu Sans\" font-size=\"10.00\" fill=\"#6666ff\">https://www.wikidata.org/wiki/Q201492</text>\n",
       "</a>\n",
       "</g>\n",
       "<polygon fill=\"none\" stroke=\"#666666\" points=\"8,-165.75 8,-204.75 186,-204.75 186,-165.75 8,-165.75\"/>\n",
       "</g>\n",
       "<!-- node0&#45;&gt;node1 -->\n",
       "<g id=\"edge1\" class=\"edge\">\n",
       "<title>node0&#45;&gt;node1</title>\n",
       "<path fill=\"none\" stroke=\"BLACK\" d=\"M217.97,-323.63C207.66,-318.32 197.69,-312.29 188.75,-305.5 157.39,-281.69 131.15,-244.57 114.87,-218.07\"/>\n",
       "<polygon fill=\"BLACK\" stroke=\"BLACK\" points=\"118.05,-216.57 109.91,-209.79 112.05,-220.17 118.05,-216.57\"/>\n",
       "<text text-anchor=\"start\" x=\"189\" y=\"-293.2\" font-family=\"Times New Roman,serif\" font-size=\"14.00\"> </text>\n",
       "<text text-anchor=\"start\" x=\"192.75\" y=\"-293.2\" font-family=\"Times New Roman,serif\" font-size=\"10.00\" fill=\"#336633\">acad:universityWikidataLink</text>\n",
       "<text text-anchor=\"start\" x=\"307.5\" y=\"-293.2\" font-family=\"Times New Roman,serif\" font-size=\"14.00\"> </text>\n",
       "</g>\n",
       "<!-- node2 -->\n",
       "<g id=\"node3\" class=\"node\">\n",
       "<title>node2</title>\n",
       "<polygon fill=\"grey\" stroke=\"none\" points=\"221.5,-182.75 221.5,-203.75 408.5,-203.75 408.5,-182.75 221.5,-182.75\"/>\n",
       "<text text-anchor=\"start\" x=\"252\" y=\"-189.45\" font-family=\"DejaVu Sans\" font-weight=\"bold\" font-size=\"14.00\">McGill_University</text>\n",
       "<g id=\"a_node3_2\"><a xlink:href=\"https://dbpedia.org/page/McGill_University\" xlink:title=\"&lt;TABLE&gt;\">\n",
       "<polygon fill=\"#eeeeee\" stroke=\"none\" points=\"221.5,-166.75 221.5,-182.75 408.5,-182.75 408.5,-166.75 221.5,-166.75\"/>\n",
       "<text text-anchor=\"start\" x=\"223.5\" y=\"-171.25\" font-family=\"DejaVu Sans\" font-size=\"10.00\" fill=\"#6666ff\">https://dbpedia.org/page/McGill_University</text>\n",
       "</a>\n",
       "</g>\n",
       "<polygon fill=\"none\" stroke=\"#666666\" points=\"220.5,-165.75 220.5,-204.75 409.5,-204.75 409.5,-165.75 220.5,-165.75\"/>\n",
       "</g>\n",
       "<!-- node0&#45;&gt;node2 -->\n",
       "<g id=\"edge2\" class=\"edge\">\n",
       "<title>node0&#45;&gt;node2</title>\n",
       "<path fill=\"none\" stroke=\"BLACK\" d=\"M315,-323.67C315,-293.82 315,-249.95 315,-219.85\"/>\n",
       "<polygon fill=\"BLACK\" stroke=\"BLACK\" points=\"318.5,-220.17 315,-210.17 311.5,-220.17 318.5,-220.17\"/>\n",
       "<text text-anchor=\"start\" x=\"315\" y=\"-293.2\" font-family=\"Times New Roman,serif\" font-size=\"14.00\"> </text>\n",
       "<text text-anchor=\"start\" x=\"318.75\" y=\"-293.2\" font-family=\"Times New Roman,serif\" font-size=\"10.00\" fill=\"#336633\">acad:universityDBpediaLink</text>\n",
       "<text text-anchor=\"start\" x=\"432\" y=\"-293.2\" font-family=\"Times New Roman,serif\" font-size=\"14.00\"> </text>\n",
       "</g>\n",
       "<!-- node4 -->\n",
       "<g id=\"node4\" class=\"node\">\n",
       "<title>node4</title>\n",
       "<polygon fill=\"grey\" stroke=\"none\" points=\"444.5,-182.75 444.5,-203.75 591.5,-203.75 591.5,-182.75 444.5,-182.75\"/>\n",
       "<text text-anchor=\"start\" x=\"481.62\" y=\"-189.45\" font-family=\"DejaVu Sans\" font-weight=\"bold\" font-size=\"14.00\">University</text>\n",
       "<g id=\"a_node4_3\"><a xlink:href=\"http://acad.io/schema#University\" xlink:title=\"&lt;TABLE&gt;\">\n",
       "<polygon fill=\"#eeeeee\" stroke=\"none\" points=\"444.5,-166.75 444.5,-182.75 591.5,-182.75 591.5,-166.75 444.5,-166.75\"/>\n",
       "<text text-anchor=\"start\" x=\"446.38\" y=\"-171.25\" font-family=\"DejaVu Sans\" font-size=\"10.00\" fill=\"#6666ff\">http://acad.io/schema#University</text>\n",
       "</a>\n",
       "</g>\n",
       "<polygon fill=\"none\" stroke=\"#666666\" points=\"443.5,-165.75 443.5,-204.75 592.5,-204.75 592.5,-165.75 443.5,-165.75\"/>\n",
       "</g>\n",
       "<!-- node0&#45;&gt;node4 -->\n",
       "<g id=\"edge3\" class=\"edge\">\n",
       "<title>node0&#45;&gt;node4</title>\n",
       "<path fill=\"none\" stroke=\"BLACK\" d=\"M412.87,-323.52C422.52,-318.27 431.77,-312.28 440,-305.5 468.52,-281.99 490.32,-245.3 503.53,-218.82\"/>\n",
       "<polygon fill=\"BLACK\" stroke=\"BLACK\" points=\"506.65,-220.42 507.84,-209.89 500.34,-217.38 506.65,-220.42\"/>\n",
       "<text text-anchor=\"start\" x=\"455\" y=\"-293.2\" font-family=\"Times New Roman,serif\" font-size=\"14.00\"> </text>\n",
       "<text text-anchor=\"start\" x=\"458.75\" y=\"-293.2\" font-family=\"Times New Roman,serif\" font-size=\"10.00\" fill=\"#336633\">rdf:type</text>\n",
       "<text text-anchor=\"start\" x=\"490.25\" y=\"-293.2\" font-family=\"Times New Roman,serif\" font-size=\"14.00\"> </text>\n",
       "</g>\n",
       "<!-- node6 -->\n",
       "<g id=\"node5\" class=\"node\">\n",
       "<title>node6</title>\n",
       "<polygon fill=\"grey\" stroke=\"none\" points=\"4674,-365.5 4674,-386.5 5034,-386.5 5034,-365.5 4674,-365.5\"/>\n",
       "<text text-anchor=\"start\" x=\"4819.12\" y=\"-372.2\" font-family=\"DejaVu Sans\" font-weight=\"bold\" font-size=\"14.00\">concordia</text>\n",
       "<g id=\"a_node5_4\"><a xlink:href=\"http://acad.io/data#concordia\" xlink:title=\"&lt;TABLE&gt;\">\n",
       "<polygon fill=\"#eeeeee\" stroke=\"none\" points=\"4674,-349.5 4674,-365.5 5034,-365.5 5034,-349.5 4674,-349.5\"/>\n",
       "<text text-anchor=\"start\" x=\"4789.5\" y=\"-354\" font-family=\"DejaVu Sans\" font-size=\"10.00\" fill=\"#6666ff\">http://acad.io/data#concordia</text>\n",
       "</a>\n",
       "</g>\n",
       "<text text-anchor=\"start\" x=\"4675.88\" y=\"-334.2\" font-family=\"DejaVu Sans\" font-size=\"14.00\">acad:universityName</text>\n",
       "<text text-anchor=\"start\" x=\"4810.88\" y=\"-334.2\" font-family=\"DejaVu Sans\" font-size=\"14.00\">&quot;Concordia University&quot;^^xsd:string</text>\n",
       "<polygon fill=\"none\" stroke=\"#666666\" points=\"4673,-327.5 4673,-387.5 5035,-387.5 5035,-327.5 4673,-327.5\"/>\n",
       "</g>\n",
       "<!-- node6&#45;&gt;node4 -->\n",
       "<g id=\"edge6\" class=\"edge\">\n",
       "<title>node6&#45;&gt;node4</title>\n",
       "<path fill=\"none\" stroke=\"BLACK\" d=\"M4665.09,-356.47C3866.53,-355.89 800.04,-348.62 610,-271.75 582.3,-260.55 557.9,-236.84 541.2,-217.23\"/>\n",
       "<polygon fill=\"BLACK\" stroke=\"BLACK\" points=\"544.1,-215.24 535.04,-209.74 538.69,-219.69 544.1,-215.24\"/>\n",
       "<text text-anchor=\"start\" x=\"905\" y=\"-293.2\" font-family=\"Times New Roman,serif\" font-size=\"14.00\"> </text>\n",
       "<text text-anchor=\"start\" x=\"908.75\" y=\"-293.2\" font-family=\"Times New Roman,serif\" font-size=\"10.00\" fill=\"#336633\">rdf:type</text>\n",
       "<text text-anchor=\"start\" x=\"940.25\" y=\"-293.2\" font-family=\"Times New Roman,serif\" font-size=\"14.00\"> </text>\n",
       "</g>\n",
       "<!-- node7 -->\n",
       "<g id=\"node6\" class=\"node\">\n",
       "<title>node7</title>\n",
       "<polygon fill=\"grey\" stroke=\"none\" points=\"4978.5,-182.75 4978.5,-203.75 5183.5,-203.75 5183.5,-182.75 4978.5,-182.75\"/>\n",
       "<text text-anchor=\"start\" x=\"5004.12\" y=\"-189.45\" font-family=\"DejaVu Sans\" font-weight=\"bold\" font-size=\"14.00\">Concordia_University</text>\n",
       "<g id=\"a_node6_5\"><a xlink:href=\"https://dbpedia.org/page/Concordia_University\" xlink:title=\"&lt;TABLE&gt;\">\n",
       "<polygon fill=\"#eeeeee\" stroke=\"none\" points=\"4978.5,-166.75 4978.5,-182.75 5183.5,-182.75 5183.5,-166.75 4978.5,-166.75\"/>\n",
       "<text text-anchor=\"start\" x=\"4980.5\" y=\"-171.25\" font-family=\"DejaVu Sans\" font-size=\"10.00\" fill=\"#6666ff\">https://dbpedia.org/page/Concordia_University</text>\n",
       "</a>\n",
       "</g>\n",
       "<polygon fill=\"none\" stroke=\"#666666\" points=\"4977.5,-165.75 4977.5,-204.75 5184.5,-204.75 5184.5,-165.75 4977.5,-165.75\"/>\n",
       "</g>\n",
       "<!-- node6&#45;&gt;node7 -->\n",
       "<g id=\"edge4\" class=\"edge\">\n",
       "<title>node6&#45;&gt;node7</title>\n",
       "<path fill=\"none\" stroke=\"BLACK\" d=\"M4949.87,-323.52C4960.45,-318.21 4970.73,-312.21 4980,-305.5 5013.28,-281.42 5042.52,-244.11 5060.86,-217.64\"/>\n",
       "<polygon fill=\"BLACK\" stroke=\"BLACK\" points=\"5063.55,-219.92 5066.27,-209.68 5057.76,-215.99 5063.55,-219.92\"/>\n",
       "<text text-anchor=\"start\" x=\"4997\" y=\"-293.2\" font-family=\"Times New Roman,serif\" font-size=\"14.00\"> </text>\n",
       "<text text-anchor=\"start\" x=\"5000.75\" y=\"-293.2\" font-family=\"Times New Roman,serif\" font-size=\"10.00\" fill=\"#336633\">acad:universityDBpediaLink</text>\n",
       "<text text-anchor=\"start\" x=\"5114\" y=\"-293.2\" font-family=\"Times New Roman,serif\" font-size=\"14.00\"> </text>\n",
       "</g>\n",
       "<!-- node5 -->\n",
       "<g id=\"node7\" class=\"node\">\n",
       "<title>node5</title>\n",
       "<polygon fill=\"grey\" stroke=\"none\" points=\"5220,-245.75 5220,-266.75 6768,-266.75 6768,-245.75 5220,-245.75\"/>\n",
       "<text text-anchor=\"start\" x=\"5942.25\" y=\"-252.45\" font-family=\"DejaVu Sans\" font-weight=\"bold\" font-size=\"14.00\">COMP6741_IS</text>\n",
       "<g id=\"a_node7_6\"><a xlink:href=\"http://acad.io/data#COMP6741_IS\" xlink:title=\"&lt;TABLE&gt;\">\n",
       "<polygon fill=\"#eeeeee\" stroke=\"none\" points=\"5220,-229.75 5220,-245.75 6768,-245.75 6768,-229.75 5220,-229.75\"/>\n",
       "<text text-anchor=\"start\" x=\"5919.75\" y=\"-234.25\" font-family=\"DejaVu Sans\" font-size=\"10.00\" fill=\"#6666ff\">http://acad.io/data#COMP6741_IS</text>\n",
       "</a>\n",
       "</g>\n",
       "<text text-anchor=\"start\" x=\"5222\" y=\"-214.45\" font-family=\"DejaVu Sans\" font-size=\"14.00\">acad:courseCredits</text>\n",
       "<text text-anchor=\"start\" x=\"5372\" y=\"-214.45\" font-family=\"DejaVu Sans\" font-size=\"14.00\">&quot;4&quot;^^xsd:string</text>\n",
       "<text text-anchor=\"start\" x=\"5221.88\" y=\"-193.45\" font-family=\"DejaVu Sans\" font-size=\"14.00\">acad:courseDescription</text>\n",
       "<text text-anchor=\"start\" x=\"5372\" y=\"-193.45\" font-family=\"DejaVu Sans\" font-size=\"14.00\">&quot;Knowledge representation and reasoning. Uncertainty and conflict resolution. Design of intelligent systems. Grammar&#45;based, rule&#45;based, and blackboard architectures. A project is required.&quot;^^xsd:string</text>\n",
       "<text text-anchor=\"start\" x=\"5222\" y=\"-172.45\" font-family=\"DejaVu Sans\" font-size=\"14.00\">acad:courseName</text>\n",
       "<text text-anchor=\"start\" x=\"5372\" y=\"-172.45\" font-family=\"DejaVu Sans\" font-size=\"14.00\">&quot;Intelligent Systems&quot;^^xsd:string</text>\n",
       "<text text-anchor=\"start\" x=\"5222\" y=\"-151.45\" font-family=\"DejaVu Sans\" font-size=\"14.00\">acad:courseNumber</text>\n",
       "<text text-anchor=\"start\" x=\"5372\" y=\"-151.45\" font-family=\"DejaVu Sans\" font-size=\"14.00\">&quot;6741&quot;^^xsd:string</text>\n",
       "<text text-anchor=\"start\" x=\"5222\" y=\"-130.45\" font-family=\"DejaVu Sans\" font-size=\"14.00\">acad:courseSubject</text>\n",
       "<text text-anchor=\"start\" x=\"5372\" y=\"-130.45\" font-family=\"DejaVu Sans\" font-size=\"14.00\">&quot;COMP&quot;^^xsd:string</text>\n",
       "<text text-anchor=\"start\" x=\"5222\" y=\"-109.45\" font-family=\"DejaVu Sans\" font-size=\"14.00\">acad:courseWebpage</text>\n",
       "<text text-anchor=\"start\" x=\"5371.88\" y=\"-109.45\" font-family=\"DejaVu Sans\" font-size=\"14.00\">&quot;https://www.concordia.ca/academics/graduate/calendar/current/gina&#45;cody&#45;school&#45;of&#45;engineering&#45;and&#45;computer&#45;science&#45;courses/computer&#45;science&#45;and&#45;software&#45;engineering&#45;master&#45;s&#45;and&#45;phd&#45;courses.html&quot;^^xsd:string</text>\n",
       "<polygon fill=\"none\" stroke=\"#666666\" points=\"5219,-102.75 5219,-267.75 6769,-267.75 6769,-102.75 5219,-102.75\"/>\n",
       "</g>\n",
       "<!-- node6&#45;&gt;node5 -->\n",
       "<g id=\"edge5\" class=\"edge\">\n",
       "<title>node6&#45;&gt;node5</title>\n",
       "<path fill=\"none\" stroke=\"BLACK\" d=\"M5042.89,-328.29C5144.98,-313.04 5277.17,-293.3 5410.36,-273.41\"/>\n",
       "<polygon fill=\"BLACK\" stroke=\"BLACK\" points=\"5410.72,-276.9 5420.1,-271.96 5409.69,-269.97 5410.72,-276.9\"/>\n",
       "<text text-anchor=\"start\" x=\"5289\" y=\"-293.2\" font-family=\"Times New Roman,serif\" font-size=\"14.00\"> </text>\n",
       "<text text-anchor=\"start\" x=\"5292.75\" y=\"-293.2\" font-family=\"Times New Roman,serif\" font-size=\"10.00\" fill=\"#336633\">acad:offers</text>\n",
       "<text text-anchor=\"start\" x=\"5337\" y=\"-293.2\" font-family=\"Times New Roman,serif\" font-size=\"14.00\"> </text>\n",
       "</g>\n",
       "<!-- node3 -->\n",
       "<g id=\"node8\" class=\"node\">\n",
       "<title>node3</title>\n",
       "<polygon fill=\"grey\" stroke=\"none\" points=\"628,-245.75 628,-266.75 4730,-266.75 4730,-245.75 628,-245.75\"/>\n",
       "<text text-anchor=\"start\" x=\"2621.62\" y=\"-252.45\" font-family=\"DejaVu Sans\" font-weight=\"bold\" font-size=\"14.00\">COMP6481_PPS</text>\n",
       "<g id=\"a_node8_7\"><a xlink:href=\"http://acad.io/data#COMP6481_PPS\" xlink:title=\"&lt;TABLE&gt;\">\n",
       "<polygon fill=\"#eeeeee\" stroke=\"none\" points=\"628,-229.75 628,-245.75 4730,-245.75 4730,-229.75 628,-229.75\"/>\n",
       "<text text-anchor=\"start\" x=\"2601\" y=\"-234.25\" font-family=\"DejaVu Sans\" font-size=\"10.00\" fill=\"#6666ff\">http://acad.io/data#COMP6481_PPS</text>\n",
       "</a>\n",
       "</g>\n",
       "<text text-anchor=\"start\" x=\"630\" y=\"-214.45\" font-family=\"DejaVu Sans\" font-size=\"14.00\">acad:courseCredits</text>\n",
       "<text text-anchor=\"start\" x=\"780\" y=\"-214.45\" font-family=\"DejaVu Sans\" font-size=\"14.00\">&quot;4&quot;^^xsd:string</text>\n",
       "<text text-anchor=\"start\" x=\"629.88\" y=\"-193.45\" font-family=\"DejaVu Sans\" font-size=\"14.00\">acad:courseDescription</text>\n",
       "<text text-anchor=\"start\" x=\"779.62\" y=\"-193.45\" font-family=\"DejaVu Sans\" font-size=\"14.00\">&quot;This course provides an overview of programming, problem solving, widely&#45;used data structures and the design of fundamental and advanced algorithms using object oriented programming. Students will learn about arrays, lists, and the underlying concepts of iterators; sorting and searching algorithms; software testing including boundary and unit testing; complexity analysis; recursion; trees and tree traversal algorithms; maps and hash tables; search trees; and graphs and graph&#45;based algorithms. For a passing grade, the student must pass one or more computer&#45;based Programming Competency Tests.&quot;^^xsd:string</text>\n",
       "<text text-anchor=\"start\" x=\"630\" y=\"-172.45\" font-family=\"DejaVu Sans\" font-size=\"14.00\">acad:courseName</text>\n",
       "<text text-anchor=\"start\" x=\"780\" y=\"-172.45\" font-family=\"DejaVu Sans\" font-size=\"14.00\">&quot;Programming and Problem Solving&quot;^^xsd:string</text>\n",
       "<text text-anchor=\"start\" x=\"630\" y=\"-151.45\" font-family=\"DejaVu Sans\" font-size=\"14.00\">acad:courseNumber</text>\n",
       "<text text-anchor=\"start\" x=\"780\" y=\"-151.45\" font-family=\"DejaVu Sans\" font-size=\"14.00\">&quot;6481&quot;^^xsd:string</text>\n",
       "<text text-anchor=\"start\" x=\"630\" y=\"-130.45\" font-family=\"DejaVu Sans\" font-size=\"14.00\">acad:courseSubject</text>\n",
       "<text text-anchor=\"start\" x=\"780\" y=\"-130.45\" font-family=\"DejaVu Sans\" font-size=\"14.00\">&quot;COMP&quot;^^xsd:string</text>\n",
       "<text text-anchor=\"start\" x=\"630\" y=\"-109.45\" font-family=\"DejaVu Sans\" font-size=\"14.00\">acad:courseWebpage</text>\n",
       "<text text-anchor=\"start\" x=\"780\" y=\"-109.45\" font-family=\"DejaVu Sans\" font-size=\"14.00\">&quot;https://aimanhanna.com/&quot;^^xsd:string</text>\n",
       "<polygon fill=\"none\" stroke=\"#666666\" points=\"627,-102.75 627,-267.75 4731,-267.75 4731,-102.75 627,-102.75\"/>\n",
       "</g>\n",
       "<!-- node6&#45;&gt;node3 -->\n",
       "<g id=\"edge8\" class=\"edge\">\n",
       "<title>node6&#45;&gt;node3</title>\n",
       "<path fill=\"none\" stroke=\"BLACK\" d=\"M4665.26,-341.73C4462.64,-325.87 4123.65,-299.33 3782.55,-272.63\"/>\n",
       "<polygon fill=\"BLACK\" stroke=\"BLACK\" points=\"3782.93,-269.15 3772.69,-271.86 3782.39,-276.13 3782.93,-269.15\"/>\n",
       "<text text-anchor=\"start\" x=\"4151\" y=\"-293.2\" font-family=\"Times New Roman,serif\" font-size=\"14.00\"> </text>\n",
       "<text text-anchor=\"start\" x=\"4154.75\" y=\"-293.2\" font-family=\"Times New Roman,serif\" font-size=\"10.00\" fill=\"#336633\">acad:offers</text>\n",
       "<text text-anchor=\"start\" x=\"4199\" y=\"-293.2\" font-family=\"Times New Roman,serif\" font-size=\"14.00\"> </text>\n",
       "</g>\n",
       "<!-- node11 -->\n",
       "<g id=\"node12\" class=\"node\">\n",
       "<title>node11</title>\n",
       "<polygon fill=\"grey\" stroke=\"none\" points=\"4766,-182.75 4766,-203.75 4942,-203.75 4942,-182.75 4766,-182.75\"/>\n",
       "<text text-anchor=\"start\" x=\"4821.38\" y=\"-189.45\" font-family=\"DejaVu Sans\" font-weight=\"bold\" font-size=\"14.00\">Q326342</text>\n",
       "<g id=\"a_node12_8\"><a xlink:href=\"https://www.wikidata.org/wiki/Q326342\" xlink:title=\"&lt;TABLE&gt;\">\n",
       "<polygon fill=\"#eeeeee\" stroke=\"none\" points=\"4766,-166.75 4766,-182.75 4942,-182.75 4942,-166.75 4766,-166.75\"/>\n",
       "<text text-anchor=\"start\" x=\"4767.75\" y=\"-171.25\" font-family=\"DejaVu Sans\" font-size=\"10.00\" fill=\"#6666ff\">https://www.wikidata.org/wiki/Q326342</text>\n",
       "</a>\n",
       "</g>\n",
       "<polygon fill=\"none\" stroke=\"#666666\" points=\"4765,-165.75 4765,-204.75 4943,-204.75 4943,-165.75 4765,-165.75\"/>\n",
       "</g>\n",
       "<!-- node6&#45;&gt;node11 -->\n",
       "<g id=\"edge12\" class=\"edge\">\n",
       "<title>node6&#45;&gt;node11</title>\n",
       "<path fill=\"none\" stroke=\"BLACK\" d=\"M4854,-323.67C4854,-293.82 4854,-249.95 4854,-219.85\"/>\n",
       "<polygon fill=\"BLACK\" stroke=\"BLACK\" points=\"4857.5,-220.17 4854,-210.17 4850.5,-220.17 4857.5,-220.17\"/>\n",
       "<text text-anchor=\"start\" x=\"4854\" y=\"-293.2\" font-family=\"Times New Roman,serif\" font-size=\"14.00\"> </text>\n",
       "<text text-anchor=\"start\" x=\"4857.75\" y=\"-293.2\" font-family=\"Times New Roman,serif\" font-size=\"10.00\" fill=\"#336633\">acad:universityWikidataLink</text>\n",
       "<text text-anchor=\"start\" x=\"4972.5\" y=\"-293.2\" font-family=\"Times New Roman,serif\" font-size=\"14.00\"> </text>\n",
       "</g>\n",
       "<!-- node8 -->\n",
       "<g id=\"node9\" class=\"node\">\n",
       "<title>node8</title>\n",
       "<polygon fill=\"grey\" stroke=\"none\" points=\"4849,-21 4849,-42 5031,-42 5031,-21 4849,-21\"/>\n",
       "<text text-anchor=\"start\" x=\"4915.25\" y=\"-27.7\" font-family=\"DejaVu Sans\" font-weight=\"bold\" font-size=\"14.00\">Course</text>\n",
       "<g id=\"a_node9_9\"><a xlink:href=\"http://vivoweb.org/ontology/core#Course\" xlink:title=\"&lt;TABLE&gt;\">\n",
       "<polygon fill=\"#eeeeee\" stroke=\"none\" points=\"4849,-5 4849,-21 5031,-21 5031,-5 4849,-5\"/>\n",
       "<text text-anchor=\"start\" x=\"4850.75\" y=\"-9.5\" font-family=\"DejaVu Sans\" font-size=\"10.00\" fill=\"#6666ff\">http://vivoweb.org/ontology/core#Course</text>\n",
       "</a>\n",
       "</g>\n",
       "<polygon fill=\"none\" stroke=\"#666666\" points=\"4848,-4 4848,-43 5032,-43 5032,-4 4848,-4\"/>\n",
       "</g>\n",
       "<!-- node5&#45;&gt;node8 -->\n",
       "<g id=\"edge10\" class=\"edge\">\n",
       "<title>node5&#45;&gt;node8</title>\n",
       "<path fill=\"none\" stroke=\"BLACK\" d=\"M5429.97,-98.76C5285.11,-76.81 5144,-55.42 5050.71,-41.28\"/>\n",
       "<polygon fill=\"BLACK\" stroke=\"BLACK\" points=\"5051.48,-37.86 5041.07,-39.82 5050.43,-44.78 5051.48,-37.86\"/>\n",
       "<text text-anchor=\"start\" x=\"5312\" y=\"-68.45\" font-family=\"Times New Roman,serif\" font-size=\"14.00\"> </text>\n",
       "<text text-anchor=\"start\" x=\"5315.75\" y=\"-68.45\" font-family=\"Times New Roman,serif\" font-size=\"10.00\" fill=\"#336633\">rdf:type</text>\n",
       "<text text-anchor=\"start\" x=\"5347.25\" y=\"-68.45\" font-family=\"Times New Roman,serif\" font-size=\"14.00\"> </text>\n",
       "</g>\n",
       "<!-- node10 -->\n",
       "<g id=\"node11\" class=\"node\">\n",
       "<title>node10</title>\n",
       "<polygon fill=\"grey\" stroke=\"none\" points=\"5764.5,-21 5764.5,-42 6223.5,-42 6223.5,-21 5764.5,-21\"/>\n",
       "<text text-anchor=\"start\" x=\"5766.38\" y=\"-27.7\" font-family=\"DejaVu Sans\" font-weight=\"bold\" font-size=\"14.00\">Courses%2FCourses%2FCOMP6741_IS%2Fcourse_outline.pdf</text>\n",
       "<g id=\"a_node11_10\"><a xlink:href=\"file://Courses%2FCourses%2FCOMP6741_IS%2Fcourse_outline.pdf\" xlink:title=\"&lt;TABLE&gt;\">\n",
       "<polygon fill=\"#eeeeee\" stroke=\"none\" points=\"5764.5,-5 5764.5,-21 6223.5,-21 6223.5,-5 5764.5,-5\"/>\n",
       "<text text-anchor=\"start\" x=\"5848.5\" y=\"-9.5\" font-family=\"DejaVu Sans\" font-size=\"10.00\" fill=\"#6666ff\">file://Courses%2FCourses%2FCOMP6741_IS%2Fcourse_outline.pdf</text>\n",
       "</a>\n",
       "</g>\n",
       "<polygon fill=\"none\" stroke=\"#666666\" points=\"5763.5,-4 5763.5,-43 6224.5,-43 6224.5,-4 5763.5,-4\"/>\n",
       "</g>\n",
       "<!-- node5&#45;&gt;node10 -->\n",
       "<g id=\"edge11\" class=\"edge\">\n",
       "<title>node5&#45;&gt;node10</title>\n",
       "<path fill=\"none\" stroke=\"BLACK\" d=\"M5994,-98.76C5994,-84.3 5994,-70.08 5994,-58.02\"/>\n",
       "<polygon fill=\"BLACK\" stroke=\"BLACK\" points=\"5997.5,-58.26 5994,-48.26 5990.5,-58.26 5997.5,-58.26\"/>\n",
       "<text text-anchor=\"start\" x=\"5994\" y=\"-68.45\" font-family=\"Times New Roman,serif\" font-size=\"14.00\"> </text>\n",
       "<text text-anchor=\"start\" x=\"5997.75\" y=\"-68.45\" font-family=\"Times New Roman,serif\" font-size=\"10.00\" fill=\"#336633\">acad:courseOutline</text>\n",
       "<text text-anchor=\"start\" x=\"6075\" y=\"-68.45\" font-family=\"Times New Roman,serif\" font-size=\"14.00\"> </text>\n",
       "</g>\n",
       "<!-- node3&#45;&gt;node8 -->\n",
       "<g id=\"edge7\" class=\"edge\">\n",
       "<title>node3&#45;&gt;node8</title>\n",
       "<path fill=\"none\" stroke=\"BLACK\" d=\"M3888.93,-98.76C4275.16,-71.47 4648.97,-45.06 4828.83,-32.35\"/>\n",
       "<polygon fill=\"BLACK\" stroke=\"BLACK\" points=\"4828.89,-35.86 4838.62,-31.66 4828.4,-28.88 4828.89,-35.86\"/>\n",
       "<text text-anchor=\"start\" x=\"4334\" y=\"-68.45\" font-family=\"Times New Roman,serif\" font-size=\"14.00\"> </text>\n",
       "<text text-anchor=\"start\" x=\"4337.75\" y=\"-68.45\" font-family=\"Times New Roman,serif\" font-size=\"10.00\" fill=\"#336633\">rdf:type</text>\n",
       "<text text-anchor=\"start\" x=\"4369.25\" y=\"-68.45\" font-family=\"Times New Roman,serif\" font-size=\"14.00\"> </text>\n",
       "</g>\n",
       "<!-- node9 -->\n",
       "<g id=\"node10\" class=\"node\">\n",
       "<title>node9</title>\n",
       "<polygon fill=\"grey\" stroke=\"none\" points=\"2352.5,-21 2352.5,-42 3005.5,-42 3005.5,-21 2352.5,-21\"/>\n",
       "<text text-anchor=\"start\" x=\"2354.25\" y=\"-27.7\" font-family=\"DejaVu Sans\" font-weight=\"bold\" font-size=\"14.00\">Courses%2FCourses%2FCOMP6481_PPS%2FComp6481&#45;Winter&#45;2024_course_outline.pdf</text>\n",
       "<g id=\"a_node10_11\"><a xlink:href=\"file://Courses%2FCourses%2FCOMP6481_PPS%2FComp6481-Winter-2024_course_outline.pdf\" xlink:title=\"&lt;TABLE&gt;\">\n",
       "<polygon fill=\"#eeeeee\" stroke=\"none\" points=\"2352.5,-5 2352.5,-21 3005.5,-21 3005.5,-5 2352.5,-5\"/>\n",
       "<text text-anchor=\"start\" x=\"2475.75\" y=\"-9.5\" font-family=\"DejaVu Sans\" font-size=\"10.00\" fill=\"#6666ff\">file://Courses%2FCourses%2FCOMP6481_PPS%2FComp6481&#45;Winter&#45;2024_course_outline.pdf</text>\n",
       "</a>\n",
       "</g>\n",
       "<polygon fill=\"none\" stroke=\"#666666\" points=\"2351.5,-4 2351.5,-43 3006.5,-43 3006.5,-4 2351.5,-4\"/>\n",
       "</g>\n",
       "<!-- node3&#45;&gt;node9 -->\n",
       "<g id=\"edge9\" class=\"edge\">\n",
       "<title>node3&#45;&gt;node9</title>\n",
       "<path fill=\"none\" stroke=\"BLACK\" d=\"M2679,-98.76C2679,-84.3 2679,-70.08 2679,-58.02\"/>\n",
       "<polygon fill=\"BLACK\" stroke=\"BLACK\" points=\"2682.5,-58.26 2679,-48.26 2675.5,-58.26 2682.5,-58.26\"/>\n",
       "<text text-anchor=\"start\" x=\"2679\" y=\"-68.45\" font-family=\"Times New Roman,serif\" font-size=\"14.00\"> </text>\n",
       "<text text-anchor=\"start\" x=\"2682.75\" y=\"-68.45\" font-family=\"Times New Roman,serif\" font-size=\"10.00\" fill=\"#336633\">acad:courseOutline</text>\n",
       "<text text-anchor=\"start\" x=\"2760\" y=\"-68.45\" font-family=\"Times New Roman,serif\" font-size=\"14.00\"> </text>\n",
       "</g>\n",
       "</g>\n",
       "</svg>\n"
      ],
      "text/plain": [
       "<graphviz.sources.Source at 0x149ff7c2d10>"
      ]
     },
     "execution_count": 12,
     "metadata": {},
     "output_type": "execute_result"
    }
   ],
   "source": [
    "graph = visualize_graph(kg)\n",
    "graph"
   ]
  },
  {
   "cell_type": "markdown",
   "id": "d88c89e0-3688-4da7-a4bb-a52e26b06d26",
   "metadata": {},
   "source": [
    "## Reading and Processing Concordia Open dataset"
   ]
  },
  {
   "cell_type": "code",
   "execution_count": 13,
   "id": "df1abdd9-9035-45e6-b0af-3155a657f35c",
   "metadata": {},
   "outputs": [
    {
     "data": {
      "text/html": [
       "<div>\n",
       "<style scoped>\n",
       "    .dataframe tbody tr th:only-of-type {\n",
       "        vertical-align: middle;\n",
       "    }\n",
       "\n",
       "    .dataframe tbody tr th {\n",
       "        vertical-align: top;\n",
       "    }\n",
       "\n",
       "    .dataframe thead th {\n",
       "        text-align: right;\n",
       "    }\n",
       "</style>\n",
       "<table border=\"1\" class=\"dataframe\">\n",
       "  <thead>\n",
       "    <tr style=\"text-align: right;\">\n",
       "      <th></th>\n",
       "      <th>Key</th>\n",
       "      <th>Title</th>\n",
       "      <th>Course code</th>\n",
       "      <th>Course number</th>\n",
       "      <th>Description</th>\n",
       "      <th>Website</th>\n",
       "    </tr>\n",
       "  </thead>\n",
       "  <tbody>\n",
       "    <tr>\n",
       "      <th>0</th>\n",
       "      <td>FAS_1011</td>\n",
       "      <td>Directed Research</td>\n",
       "      <td>WSDB</td>\n",
       "      <td>496</td>\n",
       "      <td>Practical, hands-on exercises</td>\n",
       "      <td>NaN</td>\n",
       "    </tr>\n",
       "    <tr>\n",
       "      <th>1</th>\n",
       "      <td>FAS_1012</td>\n",
       "      <td>Seminar in Women’s Studies</td>\n",
       "      <td>WSDB</td>\n",
       "      <td>498</td>\n",
       "      <td>Practical, hands-on exercises</td>\n",
       "      <td>NaN</td>\n",
       "    </tr>\n",
       "    <tr>\n",
       "      <th>2</th>\n",
       "      <td>FAS_1013</td>\n",
       "      <td>Introduction to Historical Perspectives in Wom...</td>\n",
       "      <td>WSDB</td>\n",
       "      <td>290</td>\n",
       "      <td>This course provides an introduction to theori...</td>\n",
       "      <td>NaN</td>\n",
       "    </tr>\n",
       "    <tr>\n",
       "      <th>3</th>\n",
       "      <td>FAS_1014</td>\n",
       "      <td>Introduction to Contemporary Concerns in Women...</td>\n",
       "      <td>WSDB</td>\n",
       "      <td>291</td>\n",
       "      <td>This course explores a range of current issues...</td>\n",
       "      <td>NaN</td>\n",
       "    </tr>\n",
       "    <tr>\n",
       "      <th>4</th>\n",
       "      <td>FAS_1015</td>\n",
       "      <td>Health Issues: Feminist Perspectives</td>\n",
       "      <td>WSDB</td>\n",
       "      <td>391</td>\n",
       "      <td>This course presents feminist, intersectional,...</td>\n",
       "      <td>NaN</td>\n",
       "    </tr>\n",
       "  </tbody>\n",
       "</table>\n",
       "</div>"
      ],
      "text/plain": [
       "        Key                                              Title Course code  \\\n",
       "0  FAS_1011                                  Directed Research       WSDB    \n",
       "1  FAS_1012                         Seminar in Women’s Studies       WSDB    \n",
       "2  FAS_1013  Introduction to Historical Perspectives in Wom...       WSDB    \n",
       "3  FAS_1014  Introduction to Contemporary Concerns in Women...       WSDB    \n",
       "4  FAS_1015               Health Issues: Feminist Perspectives       WSDB    \n",
       "\n",
       "  Course number                                        Description Website  \n",
       "0           496                      Practical, hands-on exercises     NaN  \n",
       "1           498                      Practical, hands-on exercises     NaN  \n",
       "2           290  This course provides an introduction to theori...     NaN  \n",
       "3           291  This course explores a range of current issues...     NaN  \n",
       "4           391  This course presents feminist, intersectional,...     NaN  "
      ]
     },
     "execution_count": 13,
     "metadata": {},
     "output_type": "execute_result"
    }
   ],
   "source": [
    "df1 = pd.read_csv('CATALOG.csv')\n",
    "df1 = df1[['Key','Title','Course code','Course number','Description','Website']]\n",
    "df1.head()"
   ]
  },
  {
   "cell_type": "code",
   "execution_count": 14,
   "id": "758e3073-9b34-440a-b59f-c8d5b46182fd",
   "metadata": {},
   "outputs": [
    {
     "name": "stdout",
     "output_type": "stream",
     "text": [
      "[{'courseKey': 'FAS_1011', 'courseName': 'Directed Research', 'courseSubject': 'WSDB ', 'courseNumber': '496', 'courseCredits': 4, 'courseDescription': 'Practical, hands-on exercises', 'courseWebpage': 'https://www.concordia.ca/', 'courseOutline': None}, {'courseKey': 'FAS_1012', 'courseName': 'Seminar in Women’s Studies', 'courseSubject': 'WSDB ', 'courseNumber': '498', 'courseCredits': 4, 'courseDescription': 'Practical, hands-on exercises', 'courseWebpage': 'https://www.concordia.ca/', 'courseOutline': None}, {'courseKey': 'FAS_1013', 'courseName': 'Introduction to Historical Perspectives in Women’s Studies', 'courseSubject': 'WSDB ', 'courseNumber': '290', 'courseCredits': 4, 'courseDescription': 'This course provides an introduction to theories and writing that affect the lives of women. Through the writing of feminist authors, students examine, from mainly the 20th century, the development of feminist theories and debate.\\xa0', 'courseWebpage': 'https://www.concordia.ca/', 'courseOutline': None}, {'courseKey': 'FAS_1014', 'courseName': 'Introduction to Contemporary Concerns in Women’s Studies', 'courseSubject': 'WSDB ', 'courseNumber': '291', 'courseCredits': 4, 'courseDescription': 'This course explores a range of current issues and debates within feminism. Using interdisciplinary feminist theories that consider how systems of power such as patriarchy, capitalism, racism, and heterosexism constitute one another, it examines particular local and global topics of interest/concern which may include health, education, work, violence against women, globalization, militarism, media and cultural representations, families, and feminist activism.', 'courseWebpage': 'https://www.concordia.ca/', 'courseOutline': None}, {'courseKey': 'FAS_1015', 'courseName': 'Health Issues: Feminist Perspectives', 'courseSubject': 'WSDB ', 'courseNumber': '391', 'courseCredits': 4, 'courseDescription': 'This course presents feminist, intersectional, postcolonialist, poststructuralist and queer examinations of a variety of women’s health issues.\\xa0', 'courseWebpage': 'https://www.concordia.ca/', 'courseOutline': None}, {'courseKey': 'FAS_1064', 'courseName': 'Feminist Perspectives on Culture', 'courseSubject': 'WSDB', 'courseNumber': '491', 'courseCredits': 4, 'courseDescription': 'This seminar explores the central concepts and theories in feminist cultural studies, as they inform feminist, post‑colonial, queer, and post‑structuralist understandings of culture.', 'courseWebpage': 'https://www.concordia.ca/', 'courseOutline': None}, {'courseKey': 'FAS_392', 'courseName': 'Feminism and Research Methods', 'courseSubject': 'WSDB', 'courseNumber': '292', 'courseCredits': 4, 'courseDescription': 'Practical, hands-on exercises', 'courseWebpage': 'https://www.concordia.ca/', 'courseOutline': None}, {'courseKey': 'FAS_393', 'courseName': 'Tutorial in Women’s Studies', 'courseSubject': 'WSDB', 'courseNumber': '394', 'courseCredits': 4, 'courseDescription': 'Tutorial on topic not covered under normal curriculum, independent research ability required', 'courseWebpage': 'https://www.concordia.ca/', 'courseOutline': None}, {'courseKey': 'FAS_394', 'courseName': 'Advanced Tutorial in Women’s Studies', 'courseSubject': 'WSDB', 'courseNumber': '494', 'courseCredits': 4, 'courseDescription': 'Tutorial on topic not covered under normal curriculum, independent research ability required', 'courseWebpage': 'https://www.concordia.ca/', 'courseOutline': None}, {'courseKey': 'FAS_264', 'courseName': 'Representation Methods in Urban Studies', 'courseSubject': 'URBS', 'courseNumber': '250', 'courseCredits': 4, 'courseDescription': 'Laboratory', 'courseWebpage': 'https://www.concordia.ca/', 'courseOutline': None}]\n"
     ]
    }
   ],
   "source": [
    "courses = []\n",
    "for index,row in df1.iterrows():\n",
    "\n",
    "    if pd.isna(row['Website']):\n",
    "        row['Website'] = \"https://www.concordia.ca/\"\n",
    "    if row.isnull().any():\n",
    "        continue\n",
    "    \n",
    "    courses.append({\"courseKey\":row['Key'],\n",
    "                    \"courseName\":row['Title'],\n",
    "                    \"courseSubject\": row['Course code'],\n",
    "                    \"courseNumber\": row['Course number'],\n",
    "                    \"courseCredits\": 4,\n",
    "                    \"courseDescription\": row['Description'],\n",
    "                    \"courseWebpage\": row['Website'],\n",
    "                    \"courseOutline\": None\n",
    "                   }\n",
    "                  )\n",
    "    \n",
    "                    \n",
    "print(courses[:10])"
   ]
  },
  {
   "cell_type": "code",
   "execution_count": 15,
   "id": "a7d579ec-2d0f-4436-be0a-fd06839ca8c5",
   "metadata": {},
   "outputs": [
    {
     "data": {
      "text/plain": [
       "1706"
      ]
     },
     "execution_count": 15,
     "metadata": {},
     "output_type": "execute_result"
    }
   ],
   "source": [
    "len(courses)"
   ]
  },
  {
   "cell_type": "markdown",
   "id": "d7ce2c44-52b8-4a58-9ffd-01a2f05114ad",
   "metadata": {},
   "source": [
    "## Adding all courses from the Concordia Open Dataset"
   ]
  },
  {
   "cell_type": "code",
   "execution_count": 16,
   "id": "a9fbbffa-e535-4976-94ef-ef4fb68a475b",
   "metadata": {},
   "outputs": [],
   "source": [
    "for course_item in courses:\n",
    "    default_course_outline = \"https://www.concordia.ca/artsci/math-stats/programs/course-outlines.html\"\n",
    "    kg.add((URIRef(ACADDATA + course_item['courseKey']), RDF.type, VIVO.Course))\n",
    "\n",
    "    #Add that concordia offers this course\n",
    "    kg.add((ACADDATA.concordia, ACAD.offers, URIRef(ACADDATA + course_item['courseKey'])))\n",
    "\n",
    "    #Add the name of the course\n",
    "    kg.add((URIRef(ACADDATA + course_item['courseKey']), ACAD.courseName, Literal(course_item['courseName'], datatype=XSD.string)))\n",
    "\n",
    "    #Add the Course Subject (COMP/SOEN/COEN etc)\n",
    "    kg.add((URIRef(ACADDATA + course_item['courseKey']), ACAD.courseSubject, Literal(course_item['courseSubject'], datatype=XSD.string)))\n",
    "\n",
    "    #Add the Course Number \n",
    "    kg.add((URIRef(ACADDATA + course_item['courseKey']), ACAD.courseNumber, Literal(course_item['courseNumber'], datatype=XSD.string)))\n",
    "\n",
    "    #Add the Course Description\n",
    "    kg.add((URIRef(ACADDATA + course_item['courseKey']), ACAD.courseDescription, Literal(course_item['courseDescription'], datatype=XSD.string)))\n",
    "\n",
    "    #Add the Course Credits\n",
    "    kg.add((URIRef(ACADDATA + str(course_item['courseKey'])), ACAD.courseCredits, Literal(course_item['courseCredits'], datatype=XSD.string)))\n",
    "\n",
    "    #Add the Course Website\n",
    "    kg.add((URIRef(ACADDATA + course_item['courseKey']), ACAD.courseWebpage, Literal(course_item['courseWebpage'], datatype=XSD.string)))\n",
    "\n",
    "    #Add the Course Outline\n",
    "    kg.add((URIRef(ACADDATA + course_item['courseKey']), ACAD.courseOutline, Literal(default_course_outline, datatype=XSD.string)))\n"
   ]
  },
  {
   "cell_type": "code",
   "execution_count": 17,
   "id": "ffad471c-154a-4b7f-8d4e-1efdaecf9246",
   "metadata": {},
   "outputs": [
    {
     "data": {
      "text/plain": [
       "<Graph identifier=https://rdflib.github.io/.well-known/genid/rdflib/Nef3a933822224c19accb97354303a912 (<class 'rdflib.graph.Graph'>)>"
      ]
     },
     "execution_count": 17,
     "metadata": {},
     "output_type": "execute_result"
    }
   ],
   "source": [
    "#Saving progress\n",
    "kg.serialize('GraphData.ttl', format='turtle')"
   ]
  },
  {
   "cell_type": "markdown",
   "id": "5cfa8056-fbf3-4750-bd0b-44c610fe8d47",
   "metadata": {},
   "source": [
    "## Adding Lectures for the Courses"
   ]
  },
  {
   "cell_type": "code",
   "execution_count": 18,
   "id": "c7b61552-2ccd-4b26-9e36-eb3ad9da6703",
   "metadata": {},
   "outputs": [
    {
     "name": "stdout",
     "output_type": "stream",
     "text": [
      "COMP6481_PPS/\n",
      "    Comp6481-Winter-2024_course_outline.pdf\n",
      "    Lecture_1/\n",
      "        Other_Material/\n",
      "            Tutorial_1.pdf\n",
      "            table.png\n",
      "        Readings/\n",
      "            Composition1.java.doc\n",
      "        Slides/\n",
      "            Chapter1.pdf\n",
      "        Worksheets/\n",
      "            Inherit1.java.doc\n",
      "        info.txt\n",
      "    Lecture_2/\n",
      "        Other_Material/\n",
      "            Tutorial_2.pdf\n",
      "            sc.png\n",
      "        Readings/\n",
      "            Polymorphism1.java.doc\n",
      "        Slides/\n",
      "            Chapter2.pdf\n",
      "        Worksheets/\n",
      "            Abstract1.java.doc\n",
      "        info.txt\n",
      "    Lecture_3/\n",
      "        Other_Material/\n",
      "            Tutorial_3.pdf\n",
      "        Readings/\n",
      "            ExceptionHandling1.java.doc\n",
      "        Slides/\n",
      "            Chapter3.pdf\n",
      "        Worksheets/\n",
      "            ExceptionHandling2.java.doc\n",
      "        info.txt\n"
     ]
    }
   ],
   "source": [
    "def print_directory_tree(folder_path, indent=''):\n",
    "    \"\"\"\n",
    "    Print the directory tree of a folder.\n",
    "    \"\"\"\n",
    "    if os.path.isdir(folder_path):\n",
    "        print(indent + os.path.basename(folder_path) + '/')\n",
    "        indent += '    '\n",
    "        for item in sorted(os.listdir(folder_path)):\n",
    "            print_directory_tree(os.path.join(folder_path, item), indent)\n",
    "    else:\n",
    "        print(indent + os.path.basename(folder_path))\n",
    "\n",
    "print_directory_tree('Courses/Courses/COMP6481_PPS')"
   ]
  },
  {
   "cell_type": "code",
   "execution_count": 19,
   "id": "2bece125-45f0-4908-bc01-1aca9612b8ca",
   "metadata": {},
   "outputs": [],
   "source": [
    "def add_lecture(kg, course_uri, lecture_number, lecture_name, lecture_link, slides_path=None, worksheet_path=None, reading_path=None, other_material_path=None):\n",
    "    # Add lecture information\n",
    "    lecture_uri = URIRef(str(course_uri) + '_Lecture' + str(lecture_number))\n",
    "    kg.add((lecture_uri, RDF.type, ACAD.Lecture))\n",
    "    kg.add((lecture_uri, ACAD.lectureNumber, Literal(lecture_number, datatype=XSD.int)))\n",
    "    kg.add((lecture_uri, ACAD.lectureName, Literal(lecture_name, datatype=XSD.string)))\n",
    "    if str(lecture_link) != \"None\":\n",
    "        print(lecture_link)\n",
    "        kg.add((lecture_uri, ACAD.lectureLink, Literal(lecture_link, datatype=XSD.string)))\n",
    "\n",
    "    # Connect lecture to course\n",
    "    kg.add((course_uri, ACAD.hasLecture, lecture_uri))\n",
    "\n",
    "    # Add content for the lecture\n",
    "    if slides_path:\n",
    "        slides_uri = URIRef(slides_path)\n",
    "        kg.add((slides_uri, RDF.type, ACAD.Slides))\n",
    "        kg.add((lecture_uri, ACAD.hasContent, slides_uri))\n",
    "\n",
    "    if worksheet_path:\n",
    "        worksheet_uri = URIRef(worksheet_path)\n",
    "        kg.add((worksheet_uri, RDF.type, ACAD.Worksheet))\n",
    "        kg.add((lecture_uri, ACAD.hasContent, worksheet_uri))\n",
    "\n",
    "    if reading_path:\n",
    "        reading_uri = URIRef(reading_path)\n",
    "        kg.add((reading_uri, RDF.type, ACAD.Reading))\n",
    "        kg.add((lecture_uri, ACAD.hasContent, reading_uri))\n",
    "\n",
    "    if other_material_path:\n",
    "        other_material_uri = URIRef(other_material_path)\n",
    "        kg.add((other_material_uri, RDF.type, ACAD.otherLectureContent))\n",
    "        kg.add((lecture_uri, ACAD.hasContent, other_material_uri))\n",
    "        \n",
    "    print('Added Lecture: ',lecture_uri)\n"
   ]
  },
  {
   "cell_type": "code",
   "execution_count": 20,
   "id": "4a821f7f-d9c9-44bc-abec-b8389441a649",
   "metadata": {},
   "outputs": [],
   "source": [
    "def get_first_file_path(folder_path):\n",
    "    \"\"\"\n",
    "    Get the path of the first file in a folder, or return None if the folder is empty.\n",
    "    \"\"\"\n",
    "    if os.path.isdir(folder_path):\n",
    "        files = os.listdir(folder_path)\n",
    "        if len(files) == 0:\n",
    "            return None\n",
    "        if files:\n",
    "            file0 = os.path.abspath(os.path.join(folder_path, files[0]))\n",
    "            return \"file://\" + urllib.parse.quote(str(file0))\n",
    "    return None\n",
    "\n",
    "def add_course_lectures(kg, course_uri, lectures_path):\n",
    "    \"\"\"\n",
    "    Add lectures of a course to the knowledge graph.\n",
    "    \"\"\"\n",
    "    lecture_number = 1\n",
    "    for lecture_folder in sorted(os.listdir(lectures_path)):\n",
    "        lecture_path = os.path.join(lectures_path, lecture_folder)\n",
    "        if os.path.isdir(lecture_path):\n",
    "            lecture_name = \"Lecture \" + str(lecture_number)\n",
    "            lecture_info_path = os.path.join(lecture_path, \"info.txt\")\n",
    "            slides_path = get_first_file_path(os.path.join(lecture_path, \"Slides\"))\n",
    "            worksheet_path = get_first_file_path(os.path.join(lecture_path, \"Worksheets\"))\n",
    "            readings_path = get_first_file_path(os.path.join(lecture_path, \"Readings\"))\n",
    "            other_material_path = get_first_file_path(os.path.join(lecture_path, \"Other_Material\"))\n",
    "\n",
    "            lecture_link = None\n",
    "            if os.path.exists(lecture_info_path):\n",
    "                with open(lecture_info_path, 'r') as file:\n",
    "                    info_lines = file.readlines()\n",
    "                    for line in info_lines:\n",
    "                        if line.startswith('name'):\n",
    "                            lecture_name = line.split(',')[1].strip()\n",
    "                        elif line.startswith('link'):\n",
    "                            lecture_link = line.split(',')[1].strip()\n",
    "\n",
    "            # Add lecture to knowledge graph\n",
    "            print(course_uri, lecture_number, lecture_name, lecture_link,slides_path,worksheet_path,readings_path,other_material_path)\n",
    "            print(\"-\"*50)\n",
    "            add_lecture(kg, course_uri, lecture_number, lecture_name, lecture_link,\n",
    "                        slides_path=slides_path,\n",
    "                        worksheet_path=worksheet_path,\n",
    "                        reading_path=readings_path,\n",
    "                        other_material_path=other_material_path)\n",
    "\n",
    "            lecture_number += 1\n"
   ]
  },
  {
   "cell_type": "markdown",
   "id": "0cdf9074-7188-4eb5-b5e9-afc664ccbd3b",
   "metadata": {},
   "source": [
    "### Adding lectures from COMP6741_IS"
   ]
  },
  {
   "cell_type": "code",
   "execution_count": 21,
   "id": "ae14256a-89da-49a5-b1af-09cd3d275090",
   "metadata": {},
   "outputs": [
    {
     "name": "stdout",
     "output_type": "stream",
     "text": [
      "http://acad.io/data#COMP6741_IS 1 introduction https://www.youtube.com/watch?v=aep1v2pZ44Y file://C%3A%5CUsers%5Cmsais%5CDesktop%5Cgitrepos%5CCOMP6741_Roboprof%5CCourses%5CCourses%5CCOMP6741_IS%5CLecture_1%5CSlides%5Cweek1.pdf None file://C%3A%5CUsers%5Cmsais%5CDesktop%5Cgitrepos%5CCOMP6741_Roboprof%5CCourses%5CCourses%5CCOMP6741_IS%5CLecture_1%5CReadings%5Csyllabus.pdf file://C%3A%5CUsers%5Cmsais%5CDesktop%5Cgitrepos%5CCOMP6741_Roboprof%5CCourses%5CCourses%5CCOMP6741_IS%5CLecture_1%5COther_Material%5CProject_Assignment1.pdf\n",
      "--------------------------------------------------\n",
      "https://www.youtube.com/watch?v=aep1v2pZ44Y\n",
      "Added Lecture:  http://acad.io/data#COMP6741_IS_Lecture1\n",
      "http://acad.io/data#COMP6741_IS 2 knowledge graphs None file://C%3A%5CUsers%5Cmsais%5CDesktop%5Cgitrepos%5CCOMP6741_Roboprof%5CCourses%5CCourses%5CCOMP6741_IS%5CLecture_2%5CSlides%5CChapter_2.pdf file://C%3A%5CUsers%5Cmsais%5CDesktop%5Cgitrepos%5CCOMP6741_Roboprof%5CCourses%5CCourses%5CCOMP6741_IS%5CLecture_2%5CWorksheets%5CWorksheet2_quest.pdf file://C%3A%5CUsers%5Cmsais%5CDesktop%5Cgitrepos%5CCOMP6741_Roboprof%5CCourses%5CCourses%5CCOMP6741_IS%5CLecture_2%5CReadings%5CWorksheet2.pdf file://C%3A%5CUsers%5Cmsais%5CDesktop%5Cgitrepos%5CCOMP6741_Roboprof%5CCourses%5CCourses%5CCOMP6741_IS%5CLecture_2%5COther_Material%5Cgraph.png\n",
      "--------------------------------------------------\n",
      "Added Lecture:  http://acad.io/data#COMP6741_IS_Lecture2\n",
      "http://acad.io/data#COMP6741_IS 3 vocabularies https://www.youtube.com/watch?v=yX0TDFx7Obw file://C%3A%5CUsers%5Cmsais%5CDesktop%5Cgitrepos%5CCOMP6741_Roboprof%5CCourses%5CCourses%5CCOMP6741_IS%5CLecture_3%5CSlides%5CChapter_3.pdf file://C%3A%5CUsers%5Cmsais%5CDesktop%5Cgitrepos%5CCOMP6741_Roboprof%5CCourses%5CCourses%5CCOMP6741_IS%5CLecture_3%5CWorksheets%5Cworksheet2_quest.pdf file://C%3A%5CUsers%5Cmsais%5CDesktop%5Cgitrepos%5CCOMP6741_Roboprof%5CCourses%5CCourses%5CCOMP6741_IS%5CLecture_3%5CReadings%5Cworksheet2.pdf file://C%3A%5CUsers%5Cmsais%5CDesktop%5Cgitrepos%5CCOMP6741_Roboprof%5CCourses%5CCourses%5CCOMP6741_IS%5CLecture_3%5COther_Material%5Cexample_graph.jpg\n",
      "--------------------------------------------------\n",
      "https://www.youtube.com/watch?v=yX0TDFx7Obw\n",
      "Added Lecture:  http://acad.io/data#COMP6741_IS_Lecture3\n"
     ]
    }
   ],
   "source": [
    "add_course_lectures(kg, URIRef(ACADDATA + 'COMP6741_IS'), 'Courses/Courses/COMP6741_IS')"
   ]
  },
  {
   "cell_type": "markdown",
   "id": "570cc002-8a2f-46ac-832b-bbed25d57b4c",
   "metadata": {},
   "source": [
    "### Adding lectures from COMP6481_PPS"
   ]
  },
  {
   "cell_type": "code",
   "execution_count": 22,
   "id": "4a3ca00c-75c7-4141-b625-4fc51434b0dd",
   "metadata": {},
   "outputs": [
    {
     "name": "stdout",
     "output_type": "stream",
     "text": [
      "http://acad.io/data#COMP6481_PPS 1 intro to pps https://www.youtube.com/watch?v=t9WKOcRB63Q&list=PLJ5C_6qdAvBFzL9su5J-FX8x80BMhkPy1 file://C%3A%5CUsers%5Cmsais%5CDesktop%5Cgitrepos%5CCOMP6741_Roboprof%5CCourses%5CCourses%5CCOMP6481_PPS%5CLecture_1%5CSlides%5CChapter1.pdf file://C%3A%5CUsers%5Cmsais%5CDesktop%5Cgitrepos%5CCOMP6741_Roboprof%5CCourses%5CCourses%5CCOMP6481_PPS%5CLecture_1%5CWorksheets%5CInherit1.java.doc file://C%3A%5CUsers%5Cmsais%5CDesktop%5Cgitrepos%5CCOMP6741_Roboprof%5CCourses%5CCourses%5CCOMP6481_PPS%5CLecture_1%5CReadings%5CComposition1.java.doc file://C%3A%5CUsers%5Cmsais%5CDesktop%5Cgitrepos%5CCOMP6741_Roboprof%5CCourses%5CCourses%5CCOMP6481_PPS%5CLecture_1%5COther_Material%5Ctable.png\n",
      "--------------------------------------------------\n",
      "https://www.youtube.com/watch?v=t9WKOcRB63Q&list=PLJ5C_6qdAvBFzL9su5J-FX8x80BMhkPy1\n",
      "Added Lecture:  http://acad.io/data#COMP6481_PPS_Lecture1\n",
      "http://acad.io/data#COMP6481_PPS 2 polymorphism https://www.youtube.com/watch?v=tIWm3I_Zu7I file://C%3A%5CUsers%5Cmsais%5CDesktop%5Cgitrepos%5CCOMP6741_Roboprof%5CCourses%5CCourses%5CCOMP6481_PPS%5CLecture_2%5CSlides%5CChapter2.pdf file://C%3A%5CUsers%5Cmsais%5CDesktop%5Cgitrepos%5CCOMP6741_Roboprof%5CCourses%5CCourses%5CCOMP6481_PPS%5CLecture_2%5CWorksheets%5CAbstract1.java.doc file://C%3A%5CUsers%5Cmsais%5CDesktop%5Cgitrepos%5CCOMP6741_Roboprof%5CCourses%5CCourses%5CCOMP6481_PPS%5CLecture_2%5CReadings%5CPolymorphism1.java.doc file://C%3A%5CUsers%5Cmsais%5CDesktop%5Cgitrepos%5CCOMP6741_Roboprof%5CCourses%5CCourses%5CCOMP6481_PPS%5CLecture_2%5COther_Material%5Csc.png\n",
      "--------------------------------------------------\n",
      "https://www.youtube.com/watch?v=tIWm3I_Zu7I\n",
      "Added Lecture:  http://acad.io/data#COMP6481_PPS_Lecture2\n",
      "http://acad.io/data#COMP6481_PPS 3 exceptions None file://C%3A%5CUsers%5Cmsais%5CDesktop%5Cgitrepos%5CCOMP6741_Roboprof%5CCourses%5CCourses%5CCOMP6481_PPS%5CLecture_3%5CSlides%5CChapter3.pdf file://C%3A%5CUsers%5Cmsais%5CDesktop%5Cgitrepos%5CCOMP6741_Roboprof%5CCourses%5CCourses%5CCOMP6481_PPS%5CLecture_3%5CWorksheets%5CExceptionHandling2.java.doc file://C%3A%5CUsers%5Cmsais%5CDesktop%5Cgitrepos%5CCOMP6741_Roboprof%5CCourses%5CCourses%5CCOMP6481_PPS%5CLecture_3%5CReadings%5CExceptionHandling1.java.doc file://C%3A%5CUsers%5Cmsais%5CDesktop%5Cgitrepos%5CCOMP6741_Roboprof%5CCourses%5CCourses%5CCOMP6481_PPS%5CLecture_3%5COther_Material%5CTutorial_3.pdf\n",
      "--------------------------------------------------\n",
      "Added Lecture:  http://acad.io/data#COMP6481_PPS_Lecture3\n"
     ]
    }
   ],
   "source": [
    "add_course_lectures(kg, URIRef(ACADDATA + 'COMP6481_PPS'), 'Courses/Courses/COMP6481_PPS')"
   ]
  },
  {
   "cell_type": "code",
   "execution_count": 23,
   "id": "497de562-5b09-4bce-be4e-0cb788c20ca2",
   "metadata": {},
   "outputs": [],
   "source": [
    "\n",
    "# # Example usage:\n",
    "# add_lecture(kg, URIRef(ACADDATA + 'COMP6481_PPS'), 1, \"Introduction to Programming\", \"https://example.com/lecture1\",\n",
    "#             slides_path=\"file:///path/to/slides1.pdf\",\n",
    "#             worksheet_path=\"file:///path/to/worksheet1.pdf\",\n",
    "#             reading_path=\"file:///path/to/reading1.pdf\",\n",
    "#             other_material_path=\"file:///path/to/other_material1.pdf\")"
   ]
  },
  {
   "cell_type": "markdown",
   "id": "8c73b294-c093-4548-8024-028a84295e62",
   "metadata": {},
   "source": [
    "### Saving Progress"
   ]
  },
  {
   "cell_type": "code",
   "execution_count": 24,
   "id": "08f5485d-8a45-4548-92c2-12acf9efbccd",
   "metadata": {},
   "outputs": [
    {
     "data": {
      "text/plain": [
       "<Graph identifier=https://rdflib.github.io/.well-known/genid/rdflib/Nef3a933822224c19accb97354303a912 (<class 'rdflib.graph.Graph'>)>"
      ]
     },
     "execution_count": 24,
     "metadata": {},
     "output_type": "execute_result"
    }
   ],
   "source": [
    "#Saving progress\n",
    "kg.serialize('GraphData.ttl', format='turtle')"
   ]
  },
  {
   "cell_type": "markdown",
   "id": "7f473f6a-17a0-45ea-8244-cca3d03d36d6",
   "metadata": {},
   "source": [
    "# Adding Topics"
   ]
  },
  {
   "cell_type": "code",
   "execution_count": 25,
   "id": "bd4e7560-2b0b-4943-a41a-7c769361605b",
   "metadata": {},
   "outputs": [],
   "source": [
    "def add_topic(kg, topic_name, course_id, lecture_number, topic_link, course_uri):\n",
    "    \"\"\"\n",
    "    Add a topic to the knowledge graph.\n",
    "    \"\"\"\n",
    "    topic_uri = URIRef(topic_name.replace(' ', '_'))\n",
    "\n",
    "    lecture_uri = URIRef(course_uri + '_' + lecture_number)\n",
    "    \n",
    "    # Add triples for the topic\n",
    "    kg.add((topic_uri, RDF.type, ACAD.Topic))\n",
    "    kg.add((topic_uri, ACAD.topicName, Literal(topic_name, datatype=XSD.string)))\n",
    "    kg.add((topic_uri, ACAD.hasTopicLink, Literal(topic_link, datatype=XSD.string)))\n",
    "\n",
    "    # Connect the topic to a lecture\n",
    "    kg.add((topic_uri, ACAD.hasProvenanceInformation, lecture_uri))\n",
    "    \n",
    "    # Connect the topic to the course\n",
    "    kg.add((course_uri, ACAD.coversTopic, topic_uri))\n"
   ]
  },
  {
   "cell_type": "markdown",
   "id": "b271e696-905b-4df0-9322-d962b6ee60e0",
   "metadata": {},
   "source": [
    "### Adding topics from COMP6741"
   ]
  },
  {
   "cell_type": "code",
   "execution_count": 26,
   "id": "62ce8d74-27b4-43d4-9b1a-ac7e385e7e6b",
   "metadata": {},
   "outputs": [],
   "source": [
    "add_topic(kg, \"Knowledge Graphs\", \"COMP6741_IS\", \"Lecture2\", \"https://www.wikidata.org/wiki/Q33002955\", URIRef(ACADDATA + 'COMP6741_IS'))\n",
    "add_topic(kg, \"Vocabularies & Ontologies\", \"COMP6741_IS\", \"Lecture2\", \"https://www.wikidata.org/wiki/Q324254\", URIRef(ACADDATA + 'COMP6741_IS'))\n",
    "add_topic(kg, \"Personalization & Recommender Systems\", \"COMP6741_IS\", \"Lecture5\", \"https://www.wikidata.org/wiki/Q554950\", URIRef(ACADDATA + 'COMP6741_IS'))"
   ]
  },
  {
   "cell_type": "markdown",
   "id": "5b5d50d4-362a-4916-8dba-cc00ff33aa6a",
   "metadata": {},
   "source": [
    "### Adding topics from COMP6481"
   ]
  },
  {
   "cell_type": "code",
   "execution_count": 27,
   "id": "b3b03810-3d55-4a28-bc6f-cc68852a3f5a",
   "metadata": {},
   "outputs": [],
   "source": [
    "add_topic(kg, \"Polymorphism\", \"COMP6481_PPS\", \"Lecture2\", \"https://www.wikidata.org/wiki/Q907364\", URIRef(ACADDATA + 'COMP6481_PPS'))\n",
    "add_topic(kg, \"Algorithm Analysis\", \"COMP6481_PPS\", \"Lecture1\", \"https://www.wikidata.org/wiki/Q333464\", URIRef(ACADDATA + 'COMP6481_PPS'))\n",
    "add_topic(kg, \"Recursion\", \"COMP6481_PPS\", \"Lecture3\",\"https://www.wikidata.org/wiki/Q264164\", URIRef(ACADDATA + 'COMP6481_PPS'))"
   ]
  },
  {
   "cell_type": "code",
   "execution_count": 28,
   "id": "9d03a873-f765-4e89-bc94-d430a2ae3e87",
   "metadata": {},
   "outputs": [
    {
     "data": {
      "text/plain": [
       "<Graph identifier=https://rdflib.github.io/.well-known/genid/rdflib/Nef3a933822224c19accb97354303a912 (<class 'rdflib.graph.Graph'>)>"
      ]
     },
     "execution_count": 28,
     "metadata": {},
     "output_type": "execute_result"
    }
   ],
   "source": [
    "#Saving progress\n",
    "kg.serialize('GraphData.ttl', format='turtle')"
   ]
  },
  {
   "cell_type": "markdown",
   "id": "3c90677d-649c-487f-831b-16a19ec018ef",
   "metadata": {},
   "source": [
    "# Adding Student Data"
   ]
  },
  {
   "cell_type": "code",
   "execution_count": 29,
   "id": "cf184db5-d27a-431b-aab6-c3b8635fa9b1",
   "metadata": {},
   "outputs": [
    {
     "data": {
      "text/html": [
       "<div>\n",
       "<style scoped>\n",
       "    .dataframe tbody tr th:only-of-type {\n",
       "        vertical-align: middle;\n",
       "    }\n",
       "\n",
       "    .dataframe tbody tr th {\n",
       "        vertical-align: top;\n",
       "    }\n",
       "\n",
       "    .dataframe thead th {\n",
       "        text-align: right;\n",
       "    }\n",
       "</style>\n",
       "<table border=\"1\" class=\"dataframe\">\n",
       "  <thead>\n",
       "    <tr style=\"text-align: right;\">\n",
       "      <th></th>\n",
       "      <th>ID</th>\n",
       "      <th>Name</th>\n",
       "      <th>Email</th>\n",
       "      <th>Completed Courses</th>\n",
       "      <th>Completed Grade</th>\n",
       "      <th>Semester attempted</th>\n",
       "    </tr>\n",
       "  </thead>\n",
       "  <tbody>\n",
       "    <tr>\n",
       "      <th>0</th>\n",
       "      <td>101</td>\n",
       "      <td>Shrawan Malyala</td>\n",
       "      <td>msaishrawan@gmail.com</td>\n",
       "      <td>COMP6741_IS</td>\n",
       "      <td>A+</td>\n",
       "      <td>241.0</td>\n",
       "    </tr>\n",
       "    <tr>\n",
       "      <th>1</th>\n",
       "      <td>101</td>\n",
       "      <td>Shrawan Malyala</td>\n",
       "      <td>msaishrawan@gmail.com</td>\n",
       "      <td>COMP6481_PPS</td>\n",
       "      <td>A</td>\n",
       "      <td>231.0</td>\n",
       "    </tr>\n",
       "    <tr>\n",
       "      <th>2</th>\n",
       "      <td>101</td>\n",
       "      <td>Shrawan Malyala</td>\n",
       "      <td>msaishrawan@gmail.com</td>\n",
       "      <td>GCS_294</td>\n",
       "      <td>B+</td>\n",
       "      <td>232.0</td>\n",
       "    </tr>\n",
       "    <tr>\n",
       "      <th>3</th>\n",
       "      <td>101</td>\n",
       "      <td>Shrawan Malyala</td>\n",
       "      <td>msaishrawan@gmail.com</td>\n",
       "      <td>GCS_300</td>\n",
       "      <td>C</td>\n",
       "      <td>232.0</td>\n",
       "    </tr>\n",
       "    <tr>\n",
       "      <th>4</th>\n",
       "      <td>101</td>\n",
       "      <td>Shrawan Malyala</td>\n",
       "      <td>msaishrawan@gmail.com</td>\n",
       "      <td>GCS_300</td>\n",
       "      <td>A</td>\n",
       "      <td>241.0</td>\n",
       "    </tr>\n",
       "    <tr>\n",
       "      <th>5</th>\n",
       "      <td>102</td>\n",
       "      <td>Sraddha Bhattacharjee</td>\n",
       "      <td>bhattacharjeesraddha@gmail.com</td>\n",
       "      <td>COMP6741_IS</td>\n",
       "      <td>A+</td>\n",
       "      <td>241.0</td>\n",
       "    </tr>\n",
       "    <tr>\n",
       "      <th>6</th>\n",
       "      <td>102</td>\n",
       "      <td>Sraddha Bhattacharjee</td>\n",
       "      <td>bhattacharjeesraddha@gmail.com</td>\n",
       "      <td>COMP6481_PPS</td>\n",
       "      <td>A+</td>\n",
       "      <td>231.0</td>\n",
       "    </tr>\n",
       "    <tr>\n",
       "      <th>7</th>\n",
       "      <td>102</td>\n",
       "      <td>Sraddha Bhattacharjee</td>\n",
       "      <td>bhattacharjeesraddha@gmail.com</td>\n",
       "      <td>GCS_294</td>\n",
       "      <td>A</td>\n",
       "      <td>232.0</td>\n",
       "    </tr>\n",
       "    <tr>\n",
       "      <th>8</th>\n",
       "      <td>102</td>\n",
       "      <td>Sraddha Bhattacharjee</td>\n",
       "      <td>bhattacharjeesraddha@gmail.com</td>\n",
       "      <td>GCS_300</td>\n",
       "      <td>B+</td>\n",
       "      <td>232.0</td>\n",
       "    </tr>\n",
       "    <tr>\n",
       "      <th>9</th>\n",
       "      <td>106</td>\n",
       "      <td>Abhraham Lincoln</td>\n",
       "      <td>abe.lincoln@concordia.ca</td>\n",
       "      <td>NaN</td>\n",
       "      <td>NaN</td>\n",
       "      <td>NaN</td>\n",
       "    </tr>\n",
       "    <tr>\n",
       "      <th>10</th>\n",
       "      <td>107</td>\n",
       "      <td>Elon Musk</td>\n",
       "      <td>elon.musk@concordia.ca</td>\n",
       "      <td>NaN</td>\n",
       "      <td>NaN</td>\n",
       "      <td>NaN</td>\n",
       "    </tr>\n",
       "    <tr>\n",
       "      <th>11</th>\n",
       "      <td>108</td>\n",
       "      <td>John Doe</td>\n",
       "      <td>john.doe@gmail.com</td>\n",
       "      <td>NaN</td>\n",
       "      <td>NaN</td>\n",
       "      <td>NaN</td>\n",
       "    </tr>\n",
       "    <tr>\n",
       "      <th>12</th>\n",
       "      <td>109</td>\n",
       "      <td>Tony Stark</td>\n",
       "      <td>anthony.stark@starkindustries.com</td>\n",
       "      <td>NaN</td>\n",
       "      <td>NaN</td>\n",
       "      <td>NaN</td>\n",
       "    </tr>\n",
       "    <tr>\n",
       "      <th>13</th>\n",
       "      <td>110</td>\n",
       "      <td>Ussain Bolt</td>\n",
       "      <td>ussain.fastestmanalive@gmail.com</td>\n",
       "      <td>NaN</td>\n",
       "      <td>NaN</td>\n",
       "      <td>NaN</td>\n",
       "    </tr>\n",
       "  </tbody>\n",
       "</table>\n",
       "</div>"
      ],
      "text/plain": [
       "     ID                   Name                              Email  \\\n",
       "0   101        Shrawan Malyala              msaishrawan@gmail.com   \n",
       "1   101        Shrawan Malyala              msaishrawan@gmail.com   \n",
       "2   101        Shrawan Malyala              msaishrawan@gmail.com   \n",
       "3   101        Shrawan Malyala              msaishrawan@gmail.com   \n",
       "4   101        Shrawan Malyala              msaishrawan@gmail.com   \n",
       "5   102  Sraddha Bhattacharjee     bhattacharjeesraddha@gmail.com   \n",
       "6   102  Sraddha Bhattacharjee     bhattacharjeesraddha@gmail.com   \n",
       "7   102  Sraddha Bhattacharjee     bhattacharjeesraddha@gmail.com   \n",
       "8   102  Sraddha Bhattacharjee     bhattacharjeesraddha@gmail.com   \n",
       "9   106       Abhraham Lincoln           abe.lincoln@concordia.ca   \n",
       "10  107              Elon Musk             elon.musk@concordia.ca   \n",
       "11  108               John Doe                 john.doe@gmail.com   \n",
       "12  109             Tony Stark  anthony.stark@starkindustries.com   \n",
       "13  110            Ussain Bolt   ussain.fastestmanalive@gmail.com   \n",
       "\n",
       "   Completed Courses Completed Grade  Semester attempted  \n",
       "0        COMP6741_IS              A+               241.0  \n",
       "1       COMP6481_PPS               A               231.0  \n",
       "2            GCS_294              B+               232.0  \n",
       "3            GCS_300               C               232.0  \n",
       "4            GCS_300               A               241.0  \n",
       "5        COMP6741_IS              A+               241.0  \n",
       "6       COMP6481_PPS              A+               231.0  \n",
       "7            GCS_294               A               232.0  \n",
       "8            GCS_300              B+               232.0  \n",
       "9                NaN             NaN                 NaN  \n",
       "10               NaN             NaN                 NaN  \n",
       "11               NaN             NaN                 NaN  \n",
       "12               NaN             NaN                 NaN  \n",
       "13               NaN             NaN                 NaN  "
      ]
     },
     "execution_count": 29,
     "metadata": {},
     "output_type": "execute_result"
    }
   ],
   "source": [
    "student_df = pd.read_csv('studentdata.csv')\n",
    "student_df"
   ]
  },
  {
   "cell_type": "code",
   "execution_count": 30,
   "id": "a7a140a2-b3b6-49e3-aa29-691ecc86be0a",
   "metadata": {},
   "outputs": [],
   "source": [
    "def add_students(kg, students_array, university_uri):\n",
    "    \"\"\"\n",
    "    Add students to the knowledge graph.\n",
    "    \"\"\"\n",
    "    for student_info in students_array:\n",
    "        student_id, student_name, student_email = student_info\n",
    "\n",
    "        if university_uri.endswith(\"concordia\"):\n",
    "            prefix = \"concordia_student_\"\n",
    "        elif university_uri.endswith(\"mcgill\"):\n",
    "            prefix = \"mcgill_student_\"\n",
    "        else:\n",
    "            prefix = \"student_\"\n",
    "        # Create student URI\n",
    "        student_uri = URIRef(ACADDATA + prefix + str(student_id))\n",
    "        \n",
    "        # Add triples for the student\n",
    "        kg.add((student_uri, RDF.type, ACAD.Student))\n",
    "        kg.add((student_uri, ACAD.studentID, Literal(student_id, datatype=XSD.string)))\n",
    "        kg.add((student_uri, ACAD.studentName, Literal(student_name, datatype=XSD.string)))\n",
    "        kg.add((student_uri, ACAD.studentEmail, Literal(student_email, datatype=XSD.string)))\n",
    "        kg.add((student_uri, ACAD.studiesAt, university_uri))\n",
    "        print(f\"Added {student_id}_{student_name} to the KG sucessfully as {student_uri}\")"
   ]
  },
  {
   "cell_type": "code",
   "execution_count": 31,
   "id": "30c630dc-f59c-4d49-8454-35379fe638e5",
   "metadata": {},
   "outputs": [
    {
     "name": "stdout",
     "output_type": "stream",
     "text": [
      "Added 101_Shrawan Malyala to the KG sucessfully as http://acad.io/data#concordia_student_101\n",
      "Added 102_Sraddha Bhattacharjee to the KG sucessfully as http://acad.io/data#concordia_student_102\n",
      "Added 106_Abhraham Lincoln to the KG sucessfully as http://acad.io/data#concordia_student_106\n",
      "Added 107_Elon Musk to the KG sucessfully as http://acad.io/data#concordia_student_107\n",
      "Added 108_John Doe to the KG sucessfully as http://acad.io/data#concordia_student_108\n",
      "Added 109_Tony Stark to the KG sucessfully as http://acad.io/data#concordia_student_109\n",
      "Added 110_Ussain Bolt to the KG sucessfully as http://acad.io/data#concordia_student_110\n"
     ]
    }
   ],
   "source": [
    "student_info = student_df[['ID', 'Name', 'Email']].drop_duplicates()\n",
    "\n",
    "# Converting DataFrame to 2D array\n",
    "student_array = student_info.values.tolist()\n",
    "\n",
    "add_students(kg, student_array, concordia_uri)\n"
   ]
  },
  {
   "cell_type": "markdown",
   "id": "b71a4eba-c594-4b90-8803-7f9bdd055a7e",
   "metadata": {},
   "source": [
    "### Adding their grades"
   ]
  },
  {
   "cell_type": "code",
   "execution_count": 32,
   "id": "0191e0d7-29dc-47a5-8173-d02c74c2ee30",
   "metadata": {},
   "outputs": [],
   "source": [
    "def add_completed_courses(kg, completed_courses, university_uri):\n",
    "    \"\"\"\n",
    "    Add completed courses information to the knowledge graph.\n",
    "    \"\"\"\n",
    "    for student_id, course, grades in completed_courses:\n",
    "        # Create student URI\n",
    "        if university_uri.endswith(\"concordia\"):\n",
    "            prefix = \"concordia_student_\"\n",
    "        elif university_uri.endswith(\"mcgill\"):\n",
    "            prefix = \"mcgill_student_\"\n",
    "        else:\n",
    "            prefix = \"student_\"\n",
    "        # Create student URI\n",
    "        student_uri = URIRef(ACADDATA + prefix + str(student_id))\n",
    "        completed_course_uri = URIRef(ACADDATA + 'completed_course_' + str(student_id) + '_' + course)\n",
    "        # Add triples for completed course\n",
    "        kg.add((completed_course_uri, RDF.type, ACAD.CompletedCourse))\n",
    "        kg.add((completed_course_uri, ACAD.hasCourse, URIRef(ACADDATA + course)))\n",
    "\n",
    "        \n",
    "        attempt = 1\n",
    "        for course_info in grades:\n",
    "            grade_semester_uri = URIRef(ACADDATA + 'completed_course_' + str(student_id) + '_' + course + '_' + 'grade_semester_' + str(attempt))\n",
    "            course_grade, course_semester = course_info\n",
    "            kg.add((grade_semester_uri, RDF.type, ACAD.GradeSemesterPair))\n",
    "            kg.add((grade_semester_uri, ACAD.courseGrade, Literal(course_grade, datatype=XSD.string)))\n",
    "            kg.add((grade_semester_uri, ACAD.courseSemester, Literal(course_semester, datatype=XSD.string)))\n",
    "\n",
    "            kg.add((completed_course_uri, ACAD.courseGradeSemester, grade_semester_uri))\n",
    "            attempt += 1\n",
    "        \n",
    "        \n",
    "        kg.add((student_uri, ACAD.completedCourse, completed_course_uri))\n",
    "        print(f\"Added {student_id} completed {course} to the KG sucessfully as {completed_course_uri}\")"
   ]
  },
  {
   "cell_type": "code",
   "execution_count": 33,
   "id": "1580eeed-ac3d-488c-8a74-32652d83bdaf",
   "metadata": {},
   "outputs": [],
   "source": [
    "grouped = student_df.groupby(['ID', 'Completed Courses'])"
   ]
  },
  {
   "cell_type": "code",
   "execution_count": 34,
   "id": "e0b3d58f-74de-4528-9863-c854e6218c20",
   "metadata": {},
   "outputs": [
    {
     "name": "stdout",
     "output_type": "stream",
     "text": [
      "[101, 'COMP6481_PPS', [['A', 231.0]]]\n",
      "[101, 'COMP6741_IS', [['A+', 241.0]]]\n",
      "[101, 'GCS_294', [['B+', 232.0]]]\n",
      "[101, 'GCS_300', [['C', 232.0], ['A', 241.0]]]\n",
      "[102, 'COMP6481_PPS', [['A+', 231.0]]]\n",
      "[102, 'COMP6741_IS', [['A+', 241.0]]]\n",
      "[102, 'GCS_294', [['A', 232.0]]]\n",
      "[102, 'GCS_300', [['B+', 232.0]]]\n"
     ]
    }
   ],
   "source": [
    "students_results = []\n",
    "\n",
    "for group_keys, group_data in grouped:\n",
    "    group1 = group_data[['Completed Grade', 'Semester attempted']].values.tolist()\n",
    "    students_results.append(list(group_keys) + [group1])\n",
    "\n",
    "for i in students_results:\n",
    "    print(i)\n"
   ]
  },
  {
   "cell_type": "code",
   "execution_count": 35,
   "id": "5e512ab6-4e8a-4cdc-bec1-013d7a383680",
   "metadata": {},
   "outputs": [
    {
     "name": "stdout",
     "output_type": "stream",
     "text": [
      "Added 101 completed COMP6481_PPS to the KG sucessfully as http://acad.io/data#completed_course_101_COMP6481_PPS\n",
      "Added 101 completed COMP6741_IS to the KG sucessfully as http://acad.io/data#completed_course_101_COMP6741_IS\n",
      "Added 101 completed GCS_294 to the KG sucessfully as http://acad.io/data#completed_course_101_GCS_294\n",
      "Added 101 completed GCS_300 to the KG sucessfully as http://acad.io/data#completed_course_101_GCS_300\n",
      "Added 102 completed COMP6481_PPS to the KG sucessfully as http://acad.io/data#completed_course_102_COMP6481_PPS\n",
      "Added 102 completed COMP6741_IS to the KG sucessfully as http://acad.io/data#completed_course_102_COMP6741_IS\n",
      "Added 102 completed GCS_294 to the KG sucessfully as http://acad.io/data#completed_course_102_GCS_294\n",
      "Added 102 completed GCS_300 to the KG sucessfully as http://acad.io/data#completed_course_102_GCS_300\n"
     ]
    }
   ],
   "source": [
    "add_completed_courses(kg, students_results, concordia_uri)"
   ]
  },
  {
   "cell_type": "code",
   "execution_count": 36,
   "id": "f2c95e51-26d8-4b4e-8dfe-f00cf48e6c6f",
   "metadata": {},
   "outputs": [
    {
     "data": {
      "text/plain": [
       "[101, 'COMP6481_PPS', [['A', 231.0]]]"
      ]
     },
     "execution_count": 36,
     "metadata": {},
     "output_type": "execute_result"
    }
   ],
   "source": [
    "students_results[0]"
   ]
  },
  {
   "cell_type": "markdown",
   "id": "e87604e8-3c77-4dd5-a16c-2c1a60474fd3",
   "metadata": {},
   "source": [
    "### Saving Progress"
   ]
  },
  {
   "cell_type": "code",
   "execution_count": 37,
   "id": "eedcaa0f-00bf-4be5-82df-992a82396892",
   "metadata": {},
   "outputs": [
    {
     "data": {
      "text/plain": [
       "<Graph identifier=https://rdflib.github.io/.well-known/genid/rdflib/Nef3a933822224c19accb97354303a912 (<class 'rdflib.graph.Graph'>)>"
      ]
     },
     "execution_count": 37,
     "metadata": {},
     "output_type": "execute_result"
    }
   ],
   "source": [
    "#Saving progress\n",
    "kg.serialize('GraphData.ttl', format='turtle')"
   ]
  },
  {
   "cell_type": "code",
   "execution_count": 38,
   "id": "de9ad8eb-dcab-468e-9339-36426f20842e",
   "metadata": {},
   "outputs": [
    {
     "data": {
      "text/plain": [
       "<Graph identifier=https://rdflib.github.io/.well-known/genid/rdflib/Nef3a933822224c19accb97354303a912 (<class 'rdflib.graph.Graph'>)>"
      ]
     },
     "execution_count": 38,
     "metadata": {},
     "output_type": "execute_result"
    }
   ],
   "source": [
    "kg.serialize('GraphData.n3', format='n3')"
   ]
  },
  {
   "cell_type": "code",
   "execution_count": null,
   "id": "464179f1-2df8-417f-a5de-f1a4568e8b79",
   "metadata": {},
   "outputs": [],
   "source": []
  }
 ],
 "metadata": {
  "kernelspec": {
   "display_name": "Python 3 (ipykernel)",
   "language": "python",
   "name": "python3"
  },
  "language_info": {
   "codemirror_mode": {
    "name": "ipython",
    "version": 3
   },
   "file_extension": ".py",
   "mimetype": "text/x-python",
   "name": "python",
   "nbconvert_exporter": "python",
   "pygments_lexer": "ipython3",
   "version": "3.11.5"
  }
 },
 "nbformat": 4,
 "nbformat_minor": 5
}
