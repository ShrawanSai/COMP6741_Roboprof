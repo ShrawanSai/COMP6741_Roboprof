{
 "cells": [
  {
   "cell_type": "code",
   "execution_count": 39,
   "id": "e8ca80d5-8a0e-443e-a9dd-63c2840d3921",
   "metadata": {},
   "outputs": [],
   "source": [
    "import pandas as pd\n",
    "import numpy as np\n",
    "import os\n",
    "import urllib.parse  # for parsing strings to URI's\n",
    "from urllib.parse import quote\n",
    "\n",
    "#RDF libraries\n",
    "from rdflib import Graph, Literal, RDF, URIRef, Namespace, Dataset  # basic RDF handling\n",
    "from rdflib.namespace import FOAF, RDFS, XSD  # most common namespaces\n",
    "from rdflib.tools.rdf2dot import rdf2dot\n",
    "\n",
    "#Visualizing\n",
    "from graphviz import Source"
   ]
  },
  {
   "cell_type": "markdown",
   "id": "9e395c3b-9619-4705-9e8d-e9bb2b649c0c",
   "metadata": {},
   "source": [
    "## Function to visualize graph"
   ]
  },
  {
   "cell_type": "code",
   "execution_count": 40,
   "id": "f9d158d5-8454-4a5f-857a-1bba1d4c6346",
   "metadata": {},
   "outputs": [],
   "source": [
    "def visualize_graph(kg):\n",
    "    # Open a file to write the DOT output\n",
    "    with open(\"graph.dot\", \"w\", encoding=\"utf-8\") as dot_file:\n",
    "        # Generate a DOT file from the RDF graph\n",
    "        rdf2dot(kg, dot_file)\n",
    "   \n",
    "    # Load the DOT file with UTF-8 encoding and render it\n",
    "    with open(\"graph.dot\", \"r\", encoding=\"utf-8\") as dot_file:\n",
    "        src = Source(dot_file.read())\n",
    "    return src"
   ]
  },
  {
   "cell_type": "markdown",
   "id": "ece4d33c-d1b3-4930-beeb-a76a9baf7845",
   "metadata": {},
   "source": [
    "## Defining Namespaces and Dataset ang a graph called KG"
   ]
  },
  {
   "cell_type": "code",
   "execution_count": 41,
   "id": "8a723e64-49af-4b75-ad39-c03e78ce3a3b",
   "metadata": {},
   "outputs": [],
   "source": [
    "# Namespaces for our vocabulary items (schema information, existing vocabulary, etc.)\n",
    "ACAD = Namespace('http://acad.io/schema#')\n",
    "ACADDATA = Namespace('http://acad.io/data#')\n",
    "VIVO = Namespace('http://vivoweb.org/ontology/core#')\n",
    "DC = Namespace('http://purl.org/dc/terms/')\n",
    "OWL = Namespace('http://www.w3.org/2002/07/owl#')\n"
   ]
  },
  {
   "cell_type": "code",
   "execution_count": 42,
   "id": "9dcd083d-b359-4cd5-862a-e5d498b482f2",
   "metadata": {},
   "outputs": [],
   "source": [
    "# Initialize a dataset and bind namespaces\n",
    "dataset = Dataset()\n",
    "dataset.bind('ACAD', ACAD)\n",
    "dataset.bind('ACADDATA', ACADDATA)\n",
    "dataset.bind('VIVO', VIVO)\n",
    "dataset.bind('DC', DC)\n",
    "dataset.bind('OWL', OWL)\n",
    "\n",
    "kg = dataset.graph()"
   ]
  },
  {
   "cell_type": "code",
   "execution_count": 43,
   "id": "c02f7691-bb41-4a91-b04b-604b212d4942",
   "metadata": {},
   "outputs": [
    {
     "data": {
      "text/plain": [
       "<Graph identifier=urn:x-rdflib:default (<class 'rdflib.graph.Graph'>)>"
      ]
     },
     "execution_count": 43,
     "metadata": {},
     "output_type": "execute_result"
    }
   ],
   "source": [
    "# Load the externally defined schema into the default graph (context) of the dataset\n",
    "dataset.default_context.parse('vocabulary.ttl', format='turtle')\n"
   ]
  },
  {
   "cell_type": "markdown",
   "id": "38ad889b-30f2-42dd-b174-d471f8f7325f",
   "metadata": {},
   "source": [
    "## Adding Universities and visualizing\n",
    "### (namely Concordia and Mcgill)"
   ]
  },
  {
   "cell_type": "code",
   "execution_count": 44,
   "id": "b01e7c44-3ba1-422f-8dd8-68f85dcc1f25",
   "metadata": {},
   "outputs": [
    {
     "data": {
      "text/plain": [
       "<Graph identifier=https://rdflib.github.io/.well-known/genid/rdflib/N3796aaca0bc64a1983915fc7669641d5 (<class 'rdflib.graph.Graph'>)>"
      ]
     },
     "execution_count": 44,
     "metadata": {},
     "output_type": "execute_result"
    }
   ],
   "source": [
    "# Define URIs for Concordia University and McGill University\n",
    "concordia_uri = ACADDATA['concordia']\n",
    "mcgill_uri = ACADDATA['mcgill']\n",
    "\n",
    "# Add triples for Concordia University\n",
    "kg.add((concordia_uri, RDF.type, ACAD.University))\n",
    "kg.add((concordia_uri, ACAD.universityName, Literal(\"Concordia University\", datatype=XSD.string)))\n",
    "kg.add((concordia_uri, ACAD.universityDBpediaLink, URIRef('https://dbpedia.org/page/Concordia_University')))\n",
    "kg.add((concordia_uri, ACAD.universityWikidataLink, URIRef('https://www.wikidata.org/wiki/Q326342')))\n",
    "\n",
    "# Add triples for McGill University\n",
    "kg.add((mcgill_uri, RDF.type, ACAD.University))\n",
    "kg.add((mcgill_uri, ACAD.universityName, Literal(\"Mcgill University\", datatype=XSD.string)))\n",
    "kg.add((mcgill_uri, ACAD.universityDBpediaLink, URIRef('https://dbpedia.org/page/McGill_University')))\n",
    "kg.add((mcgill_uri, ACAD.universityWikidataLink, URIRef('https://www.wikidata.org/wiki/Q201492')))"
   ]
  },
  {
   "cell_type": "code",
   "execution_count": 45,
   "id": "b9129610-abea-4bd0-9311-e8f021fcc0af",
   "metadata": {},
   "outputs": [
    {
     "data": {
      "text/plain": [
       "<Graph identifier=https://rdflib.github.io/.well-known/genid/rdflib/N3796aaca0bc64a1983915fc7669641d5 (<class 'rdflib.graph.Graph'>)>"
      ]
     },
     "execution_count": 45,
     "metadata": {},
     "output_type": "execute_result"
    }
   ],
   "source": [
    "kg"
   ]
  },
  {
   "cell_type": "code",
   "execution_count": 46,
   "id": "d62a07f2-ec4e-4aef-9d52-b24b3fecd009",
   "metadata": {},
   "outputs": [
    {
     "name": "stderr",
     "output_type": "stream",
     "text": [
      "\n",
      "(dot.exe:9996): Pango-WARNING **: couldn't load font \"DejaVu Sans Bold Not-Rotated 14\", falling back to \"Sans Bold Not-Rotated 14\", expect ugly output.\n",
      "\n",
      "(dot.exe:9996): Pango-WARNING **: couldn't load font \"DejaVu Sans Not-Rotated 10\", falling back to \"Sans Not-Rotated 10\", expect ugly output.\n",
      "\n",
      "(dot.exe:9996): Pango-WARNING **: couldn't load font \"DejaVu Sans Not-Rotated 14\", falling back to \"Sans Not-Rotated 14\", expect ugly output.\n"
     ]
    },
    {
     "data": {
      "image/svg+xml": [
       "<?xml version=\"1.0\" encoding=\"UTF-8\" standalone=\"no\"?>\n",
       "<!DOCTYPE svg PUBLIC \"-//W3C//DTD SVG 1.1//EN\"\n",
       " \"http://www.w3.org/Graphics/SVG/1.1/DTD/svg11.dtd\">\n",
       "<!-- Generated by graphviz version 10.0.1 (20240210.2158)\n",
       " -->\n",
       "<!-- Pages: 1 -->\n",
       "<svg width=\"1063pt\" height=\"175pt\"\n",
       " viewBox=\"0.00 0.00 1062.50 174.75\" xmlns=\"http://www.w3.org/2000/svg\" xmlns:xlink=\"http://www.w3.org/1999/xlink\">\n",
       "<g id=\"graph0\" class=\"graph\" transform=\"scale(1 1) rotate(0) translate(4 170.75)\">\n",
       "<polygon fill=\"white\" stroke=\"none\" points=\"-4,4 -4,-170.75 1058.5,-170.75 1058.5,4 -4,4\"/>\n",
       "<!-- node0 -->\n",
       "<g id=\"node1\" class=\"node\">\n",
       "<title>node0</title>\n",
       "<polygon fill=\"grey\" stroke=\"none\" points=\"144,-140.75 144,-161.75 504,-161.75 504,-140.75 144,-140.75\"/>\n",
       "<text text-anchor=\"start\" x=\"289.12\" y=\"-147.45\" font-family=\"DejaVu Sans\" font-weight=\"bold\" font-size=\"14.00\">concordia</text>\n",
       "<g id=\"a_node1_0\"><a xlink:href=\"http://acad.io/data#concordia\" xlink:title=\"&lt;TABLE&gt;\">\n",
       "<polygon fill=\"#eeeeee\" stroke=\"none\" points=\"144,-124.75 144,-140.75 504,-140.75 504,-124.75 144,-124.75\"/>\n",
       "<text text-anchor=\"start\" x=\"259.5\" y=\"-129.25\" font-family=\"DejaVu Sans\" font-size=\"10.00\" fill=\"#6666ff\">http://acad.io/data#concordia</text>\n",
       "</a>\n",
       "</g>\n",
       "<text text-anchor=\"start\" x=\"145.88\" y=\"-109.45\" font-family=\"DejaVu Sans\" font-size=\"14.00\">acad:universityName</text>\n",
       "<text text-anchor=\"start\" x=\"280.88\" y=\"-109.45\" font-family=\"DejaVu Sans\" font-size=\"14.00\">&quot;Concordia University&quot;^^xsd:string</text>\n",
       "<polygon fill=\"none\" stroke=\"#666666\" points=\"143,-102.75 143,-162.75 505,-162.75 505,-102.75 143,-102.75\"/>\n",
       "</g>\n",
       "<!-- node1 -->\n",
       "<g id=\"node2\" class=\"node\">\n",
       "<title>node1</title>\n",
       "<polygon fill=\"grey\" stroke=\"none\" points=\"9,-21 9,-42 185,-42 185,-21 9,-21\"/>\n",
       "<text text-anchor=\"start\" x=\"64.38\" y=\"-27.7\" font-family=\"DejaVu Sans\" font-weight=\"bold\" font-size=\"14.00\">Q326342</text>\n",
       "<g id=\"a_node2_1\"><a xlink:href=\"https://www.wikidata.org/wiki/Q326342\" xlink:title=\"&lt;TABLE&gt;\">\n",
       "<polygon fill=\"#eeeeee\" stroke=\"none\" points=\"9,-5 9,-21 185,-21 185,-5 9,-5\"/>\n",
       "<text text-anchor=\"start\" x=\"10.75\" y=\"-9.5\" font-family=\"DejaVu Sans\" font-size=\"10.00\" fill=\"#6666ff\">https://www.wikidata.org/wiki/Q326342</text>\n",
       "</a>\n",
       "</g>\n",
       "<polygon fill=\"none\" stroke=\"#666666\" points=\"8,-4 8,-43 186,-43 186,-4 8,-4\"/>\n",
       "</g>\n",
       "<!-- node0&#45;&gt;node1 -->\n",
       "<g id=\"edge1\" class=\"edge\">\n",
       "<title>node0&#45;&gt;node1</title>\n",
       "<path fill=\"none\" stroke=\"BLACK\" d=\"M238.14,-98.76C224.5,-93.03 210.65,-86.93 197.75,-80.75 179.78,-72.14 160.56,-61.73 143.78,-52.22\"/>\n",
       "<polygon fill=\"BLACK\" stroke=\"BLACK\" points=\"145.94,-49.42 135.52,-47.49 142.46,-55.5 145.94,-49.42\"/>\n",
       "<text text-anchor=\"start\" x=\"198\" y=\"-68.45\" font-family=\"Times New Roman,serif\" font-size=\"14.00\"> </text>\n",
       "<text text-anchor=\"start\" x=\"201.75\" y=\"-68.45\" font-family=\"Times New Roman,serif\" font-size=\"10.00\" fill=\"#336633\">acad:universityWikidataLink</text>\n",
       "<text text-anchor=\"start\" x=\"316.5\" y=\"-68.45\" font-family=\"Times New Roman,serif\" font-size=\"14.00\"> </text>\n",
       "</g>\n",
       "<!-- node2 -->\n",
       "<g id=\"node3\" class=\"node\">\n",
       "<title>node2</title>\n",
       "<polygon fill=\"grey\" stroke=\"none\" points=\"462.5,-21 462.5,-42 609.5,-42 609.5,-21 462.5,-21\"/>\n",
       "<text text-anchor=\"start\" x=\"499.62\" y=\"-27.7\" font-family=\"DejaVu Sans\" font-weight=\"bold\" font-size=\"14.00\">University</text>\n",
       "<g id=\"a_node3_2\"><a xlink:href=\"http://acad.io/schema#University\" xlink:title=\"&lt;TABLE&gt;\">\n",
       "<polygon fill=\"#eeeeee\" stroke=\"none\" points=\"462.5,-5 462.5,-21 609.5,-21 609.5,-5 462.5,-5\"/>\n",
       "<text text-anchor=\"start\" x=\"464.38\" y=\"-9.5\" font-family=\"DejaVu Sans\" font-size=\"10.00\" fill=\"#6666ff\">http://acad.io/schema#University</text>\n",
       "</a>\n",
       "</g>\n",
       "<polygon fill=\"none\" stroke=\"#666666\" points=\"461.5,-4 461.5,-43 610.5,-43 610.5,-4 461.5,-4\"/>\n",
       "</g>\n",
       "<!-- node0&#45;&gt;node2 -->\n",
       "<g id=\"edge2\" class=\"edge\">\n",
       "<title>node0&#45;&gt;node2</title>\n",
       "<path fill=\"none\" stroke=\"BLACK\" d=\"M410.69,-98.84C423.71,-93.2 436.84,-87.09 449,-80.75 464.55,-72.64 480.87,-62.55 495.13,-53.16\"/>\n",
       "<polygon fill=\"BLACK\" stroke=\"BLACK\" points=\"497.01,-56.12 503.37,-47.65 493.11,-50.3 497.01,-56.12\"/>\n",
       "<text text-anchor=\"start\" x=\"477\" y=\"-68.45\" font-family=\"Times New Roman,serif\" font-size=\"14.00\"> </text>\n",
       "<text text-anchor=\"start\" x=\"480.75\" y=\"-68.45\" font-family=\"Times New Roman,serif\" font-size=\"10.00\" fill=\"#336633\">rdf:type</text>\n",
       "<text text-anchor=\"start\" x=\"512.25\" y=\"-68.45\" font-family=\"Times New Roman,serif\" font-size=\"14.00\"> </text>\n",
       "</g>\n",
       "<!-- node4 -->\n",
       "<g id=\"node4\" class=\"node\">\n",
       "<title>node4</title>\n",
       "<polygon fill=\"grey\" stroke=\"none\" points=\"221.5,-21 221.5,-42 426.5,-42 426.5,-21 221.5,-21\"/>\n",
       "<text text-anchor=\"start\" x=\"247.12\" y=\"-27.7\" font-family=\"DejaVu Sans\" font-weight=\"bold\" font-size=\"14.00\">Concordia_University</text>\n",
       "<g id=\"a_node4_3\"><a xlink:href=\"https://dbpedia.org/page/Concordia_University\" xlink:title=\"&lt;TABLE&gt;\">\n",
       "<polygon fill=\"#eeeeee\" stroke=\"none\" points=\"221.5,-5 221.5,-21 426.5,-21 426.5,-5 221.5,-5\"/>\n",
       "<text text-anchor=\"start\" x=\"223.5\" y=\"-9.5\" font-family=\"DejaVu Sans\" font-size=\"10.00\" fill=\"#6666ff\">https://dbpedia.org/page/Concordia_University</text>\n",
       "</a>\n",
       "</g>\n",
       "<polygon fill=\"none\" stroke=\"#666666\" points=\"220.5,-4 220.5,-43 427.5,-43 427.5,-4 220.5,-4\"/>\n",
       "</g>\n",
       "<!-- node0&#45;&gt;node4 -->\n",
       "<g id=\"edge3\" class=\"edge\">\n",
       "<title>node0&#45;&gt;node4</title>\n",
       "<path fill=\"none\" stroke=\"BLACK\" d=\"M324,-98.99C324,-86.07 324,-71.23 324,-58.21\"/>\n",
       "<polygon fill=\"BLACK\" stroke=\"BLACK\" points=\"327.5,-58.39 324,-48.39 320.5,-58.39 327.5,-58.39\"/>\n",
       "<text text-anchor=\"start\" x=\"324\" y=\"-68.45\" font-family=\"Times New Roman,serif\" font-size=\"14.00\"> </text>\n",
       "<text text-anchor=\"start\" x=\"327.75\" y=\"-68.45\" font-family=\"Times New Roman,serif\" font-size=\"10.00\" fill=\"#336633\">acad:universityDBpediaLink</text>\n",
       "<text text-anchor=\"start\" x=\"441\" y=\"-68.45\" font-family=\"Times New Roman,serif\" font-size=\"14.00\"> </text>\n",
       "</g>\n",
       "<!-- node3 -->\n",
       "<g id=\"node5\" class=\"node\">\n",
       "<title>node3</title>\n",
       "<polygon fill=\"grey\" stroke=\"none\" points=\"567.5,-140.75 567.5,-161.75 900.5,-161.75 900.5,-140.75 567.5,-140.75\"/>\n",
       "<text text-anchor=\"start\" x=\"712.25\" y=\"-147.45\" font-family=\"DejaVu Sans\" font-weight=\"bold\" font-size=\"14.00\">mcgill</text>\n",
       "<g id=\"a_node5_4\"><a xlink:href=\"http://acad.io/data#mcgill\" xlink:title=\"&lt;TABLE&gt;\">\n",
       "<polygon fill=\"#eeeeee\" stroke=\"none\" points=\"567.5,-124.75 567.5,-140.75 900.5,-140.75 900.5,-124.75 567.5,-124.75\"/>\n",
       "<text text-anchor=\"start\" x=\"677.75\" y=\"-129.25\" font-family=\"DejaVu Sans\" font-size=\"10.00\" fill=\"#6666ff\">http://acad.io/data#mcgill</text>\n",
       "</a>\n",
       "</g>\n",
       "<text text-anchor=\"start\" x=\"569.38\" y=\"-109.45\" font-family=\"DejaVu Sans\" font-size=\"14.00\">acad:universityName</text>\n",
       "<text text-anchor=\"start\" x=\"704.38\" y=\"-109.45\" font-family=\"DejaVu Sans\" font-size=\"14.00\">&quot;Mcgill University&quot;^^xsd:string</text>\n",
       "<polygon fill=\"none\" stroke=\"#666666\" points=\"566.5,-102.75 566.5,-162.75 901.5,-162.75 901.5,-102.75 566.5,-102.75\"/>\n",
       "</g>\n",
       "<!-- node3&#45;&gt;node2 -->\n",
       "<g id=\"edge5\" class=\"edge\">\n",
       "<title>node3&#45;&gt;node2</title>\n",
       "<path fill=\"none\" stroke=\"BLACK\" d=\"M673.25,-98.84C645.85,-84 613.84,-66.66 587.62,-52.46\"/>\n",
       "<polygon fill=\"BLACK\" stroke=\"BLACK\" points=\"589.3,-49.39 578.84,-47.71 585.97,-55.55 589.3,-49.39\"/>\n",
       "<text text-anchor=\"start\" x=\"635\" y=\"-68.45\" font-family=\"Times New Roman,serif\" font-size=\"14.00\"> </text>\n",
       "<text text-anchor=\"start\" x=\"638.75\" y=\"-68.45\" font-family=\"Times New Roman,serif\" font-size=\"10.00\" fill=\"#336633\">rdf:type</text>\n",
       "<text text-anchor=\"start\" x=\"670.25\" y=\"-68.45\" font-family=\"Times New Roman,serif\" font-size=\"14.00\"> </text>\n",
       "</g>\n",
       "<!-- node5 -->\n",
       "<g id=\"node6\" class=\"node\">\n",
       "<title>node5</title>\n",
       "<polygon fill=\"grey\" stroke=\"none\" points=\"646,-21 646,-42 822,-42 822,-21 646,-21\"/>\n",
       "<text text-anchor=\"start\" x=\"701.38\" y=\"-27.7\" font-family=\"DejaVu Sans\" font-weight=\"bold\" font-size=\"14.00\">Q201492</text>\n",
       "<g id=\"a_node6_5\"><a xlink:href=\"https://www.wikidata.org/wiki/Q201492\" xlink:title=\"&lt;TABLE&gt;\">\n",
       "<polygon fill=\"#eeeeee\" stroke=\"none\" points=\"646,-5 646,-21 822,-21 822,-5 646,-5\"/>\n",
       "<text text-anchor=\"start\" x=\"647.75\" y=\"-9.5\" font-family=\"DejaVu Sans\" font-size=\"10.00\" fill=\"#6666ff\">https://www.wikidata.org/wiki/Q201492</text>\n",
       "</a>\n",
       "</g>\n",
       "<polygon fill=\"none\" stroke=\"#666666\" points=\"645,-4 645,-43 823,-43 823,-4 645,-4\"/>\n",
       "</g>\n",
       "<!-- node3&#45;&gt;node5 -->\n",
       "<g id=\"edge4\" class=\"edge\">\n",
       "<title>node3&#45;&gt;node5</title>\n",
       "<path fill=\"none\" stroke=\"BLACK\" d=\"M734,-98.99C734,-86.07 734,-71.23 734,-58.21\"/>\n",
       "<polygon fill=\"BLACK\" stroke=\"BLACK\" points=\"737.5,-58.39 734,-48.39 730.5,-58.39 737.5,-58.39\"/>\n",
       "<text text-anchor=\"start\" x=\"734\" y=\"-68.45\" font-family=\"Times New Roman,serif\" font-size=\"14.00\"> </text>\n",
       "<text text-anchor=\"start\" x=\"737.75\" y=\"-68.45\" font-family=\"Times New Roman,serif\" font-size=\"10.00\" fill=\"#336633\">acad:universityWikidataLink</text>\n",
       "<text text-anchor=\"start\" x=\"852.5\" y=\"-68.45\" font-family=\"Times New Roman,serif\" font-size=\"14.00\"> </text>\n",
       "</g>\n",
       "<!-- node6 -->\n",
       "<g id=\"node7\" class=\"node\">\n",
       "<title>node6</title>\n",
       "<polygon fill=\"grey\" stroke=\"none\" points=\"858.5,-21 858.5,-42 1045.5,-42 1045.5,-21 858.5,-21\"/>\n",
       "<text text-anchor=\"start\" x=\"889\" y=\"-27.7\" font-family=\"DejaVu Sans\" font-weight=\"bold\" font-size=\"14.00\">McGill_University</text>\n",
       "<g id=\"a_node7_6\"><a xlink:href=\"https://dbpedia.org/page/McGill_University\" xlink:title=\"&lt;TABLE&gt;\">\n",
       "<polygon fill=\"#eeeeee\" stroke=\"none\" points=\"858.5,-5 858.5,-21 1045.5,-21 1045.5,-5 858.5,-5\"/>\n",
       "<text text-anchor=\"start\" x=\"860.5\" y=\"-9.5\" font-family=\"DejaVu Sans\" font-size=\"10.00\" fill=\"#6666ff\">https://dbpedia.org/page/McGill_University</text>\n",
       "</a>\n",
       "</g>\n",
       "<polygon fill=\"none\" stroke=\"#666666\" points=\"857.5,-4 857.5,-43 1046.5,-43 1046.5,-4 857.5,-4\"/>\n",
       "</g>\n",
       "<!-- node3&#45;&gt;node6 -->\n",
       "<g id=\"edge6\" class=\"edge\">\n",
       "<title>node3&#45;&gt;node6</title>\n",
       "<path fill=\"none\" stroke=\"BLACK\" d=\"M820.92,-98.76C834.17,-93.1 847.57,-87.01 860,-80.75 876.32,-72.53 893.57,-62.4 908.67,-53.01\"/>\n",
       "<polygon fill=\"BLACK\" stroke=\"BLACK\" points=\"910.37,-56.07 916.97,-47.78 906.64,-50.15 910.37,-56.07\"/>\n",
       "<text text-anchor=\"start\" x=\"888\" y=\"-68.45\" font-family=\"Times New Roman,serif\" font-size=\"14.00\"> </text>\n",
       "<text text-anchor=\"start\" x=\"891.75\" y=\"-68.45\" font-family=\"Times New Roman,serif\" font-size=\"10.00\" fill=\"#336633\">acad:universityDBpediaLink</text>\n",
       "<text text-anchor=\"start\" x=\"1005\" y=\"-68.45\" font-family=\"Times New Roman,serif\" font-size=\"14.00\"> </text>\n",
       "</g>\n",
       "</g>\n",
       "</svg>\n"
      ],
      "text/plain": [
       "<graphviz.sources.Source at 0x2b4be7a46d0>"
      ]
     },
     "execution_count": 46,
     "metadata": {},
     "output_type": "execute_result"
    }
   ],
   "source": [
    "graph = visualize_graph(kg)\n",
    "graph"
   ]
  },
  {
   "cell_type": "markdown",
   "id": "48721ccf-76fa-465c-a200-2d3a55c5ce80",
   "metadata": {},
   "source": [
    "## Adding the courses COMP 6481 and COMP 6741"
   ]
  },
  {
   "cell_type": "code",
   "execution_count": 47,
   "id": "63e048f9-1a45-4f52-9cc0-990745d42573",
   "metadata": {},
   "outputs": [],
   "source": [
    "#Adding COMP 6481\n",
    "pps_course_description = \"This course provides an overview of programming, problem solving, widely-used data structures and the design of fundamental and advanced algorithms using object oriented programming. Students will learn about arrays, lists, and the underlying concepts of iterators; sorting and searching algorithms; software testing including boundary and unit testing; complexity analysis; recursion; trees and tree traversal algorithms; maps and hash tables; search trees; and graphs and graph-based algorithms. For a passing grade, the student must pass one or more computer-based Programming Competency Tests.\"\n",
    "#Courses/Courses/COMP 6481/Comp6481-Winter-2024_course_outline.pdf\n",
    "#\"file://\" + quote(\"Courses/Courses/COMP 6481/Comp6481-Winter-2024_course_outline.pdf\",safe=\"\")\n",
    "pps_course_outline_uri = \"Courses/Courses/COMP6481_PPS/Comp6481-Winter-2024_course_outline.pdf\"\n",
    "\n",
    "kg.add((URIRef(ACADDATA + 'COMP6481_PPS'), RDF.type, VIVO.Course))\n",
    "\n",
    "#Add that concordia offers this course\n",
    "kg.add((ACADDATA.concordia, ACAD.offers, URIRef(ACADDATA + 'COMP6481_PPS')))\n",
    "\n",
    "#Add the name of the course\n",
    "kg.add((URIRef(ACADDATA + 'COMP6481_PPS'), ACAD.courseName, Literal(\"Programming and Problem Solving\", datatype=XSD.string)))\n",
    "\n",
    "#Add the Course Subject (COMP/SOEN/COEN etc)\n",
    "kg.add((URIRef(ACADDATA + 'COMP6481_PPS'), ACAD.courseSubject, Literal(\"COMP\", datatype=XSD.string)))\n",
    "\n",
    "#Add the Course Number \n",
    "kg.add((URIRef(ACADDATA + 'COMP6481_PPS'), ACAD.courseNumber, Literal(\"6481\", datatype=XSD.string)))\n",
    "\n",
    "#Add the Course Description\n",
    "kg.add((URIRef(ACADDATA + 'COMP6481_PPS'), ACAD.courseDescription, Literal(pps_course_description, datatype=XSD.string)))\n",
    "\n",
    "#Add the Course Credits\n",
    "kg.add((URIRef(ACADDATA + 'COMP6481_PPS'), ACAD.courseCredits, Literal(\"4\", datatype=XSD.string)))\n",
    "\n",
    "#Add the Course Website\n",
    "kg.add((URIRef(ACADDATA + 'COMP6481_PPS'), ACAD.courseWebpage, Literal(\"https://aimanhanna.com/\", datatype=XSD.string)))\n",
    "\n",
    "#Add the Course Outline\n",
    "if os.path.exists(pps_course_outline_uri):\n",
    "    # If it does, make outline triple\n",
    "    kg.add((URIRef(ACADDATA + 'COMP6481_PPS'), ACAD.courseOutline, URIRef(\"file://\" + quote(pps_course_outline_uri,safe=\"\"))))\n",
    "else:\n",
    "    print('Could not add Course Outline')\n"
   ]
  },
  {
   "cell_type": "code",
   "execution_count": null,
   "id": "0de9d6d8-e7b0-4d46-9a8f-36d49105ca05",
   "metadata": {},
   "outputs": [],
   "source": []
  },
  {
   "cell_type": "code",
   "execution_count": 48,
   "id": "5ff2afab-8b9e-453a-96d3-262ba465722c",
   "metadata": {},
   "outputs": [],
   "source": [
    "#Adding COMP 6741\n",
    "is_course_description = \"Knowledge representation and reasoning. Uncertainty and conflict resolution. Design of intelligent systems. Grammar-based, rule-based, and blackboard architectures. A project is required.\"\n",
    "\n",
    "is_course_outline_uri = \"Courses/Courses/COMP6741_IS/course_outline.pdf\"\n",
    "\n",
    "kg.add((URIRef(ACADDATA + 'COMP6741_IS'), RDF.type, VIVO.Course))\n",
    "\n",
    "#Add that concordia offers this course\n",
    "kg.add((ACADDATA.concordia, ACAD.offers, URIRef(ACADDATA + 'COMP6741_IS')))\n",
    "\n",
    "#Add the name of the course\n",
    "kg.add((URIRef(ACADDATA + 'COMP6741_IS'), ACAD.courseName, Literal(\"Intelligent Systems\", datatype=XSD.string)))\n",
    "\n",
    "#Add the Course Subject (COMP/SOEN/COEN etc)\n",
    "kg.add((URIRef(ACADDATA + 'COMP6741_IS'), ACAD.courseSubject, Literal(\"COMP\", datatype=XSD.string)))\n",
    "\n",
    "#Add the Course Number \n",
    "kg.add((URIRef(ACADDATA + 'COMP6741_IS'), ACAD.courseNumber, Literal(\"6741\", datatype=XSD.string)))\n",
    "\n",
    "#Add the Course Description\n",
    "kg.add((URIRef(ACADDATA + 'COMP6741_IS'), ACAD.courseDescription, Literal(is_course_description, datatype=XSD.string)))\n",
    "\n",
    "#Add the Course Credits\n",
    "kg.add((URIRef(ACADDATA + 'COMP6741_IS'), ACAD.courseCredits, Literal(\"4\", datatype=XSD.string)))\n",
    "\n",
    "#Add the Course Website\n",
    "kg.add((URIRef(ACADDATA + 'COMP6741_IS'), ACAD.courseWebpage, Literal(\"https://www.concordia.ca/academics/graduate/calendar/current/gina-cody-school-of-engineering-and-computer-science-courses/computer-science-and-software-engineering-master-s-and-phd-courses.html\", datatype=XSD.string)))\n",
    "\n",
    "#Add the Course Outline\n",
    "if os.path.exists(is_course_outline_uri):\n",
    "    # If it does, make outline triple\n",
    "    kg.add((URIRef(ACADDATA + 'COMP6741_IS'), ACAD.courseOutline, URIRef(\"file://\" + quote(is_course_outline_uri,safe=\"\"))))\n",
    "else:\n",
    "    print('Could not add Course Outline')\n"
   ]
  },
  {
   "cell_type": "code",
   "execution_count": null,
   "id": "64160787-8a8a-416c-a4fc-4de31dec4839",
   "metadata": {},
   "outputs": [],
   "source": []
  },
  {
   "cell_type": "markdown",
   "id": "aa30ce13-7b7d-4ca7-b7da-1dfac763c801",
   "metadata": {},
   "source": [
    "## Saving progress"
   ]
  },
  {
   "cell_type": "code",
   "execution_count": 49,
   "id": "ace44718-a40e-470b-9170-81e161b25633",
   "metadata": {},
   "outputs": [
    {
     "data": {
      "text/plain": [
       "<Graph identifier=https://rdflib.github.io/.well-known/genid/rdflib/N3796aaca0bc64a1983915fc7669641d5 (<class 'rdflib.graph.Graph'>)>"
      ]
     },
     "execution_count": 49,
     "metadata": {},
     "output_type": "execute_result"
    }
   ],
   "source": [
    "kg.serialize('GraphData.ttl', format='turtle')"
   ]
  },
  {
   "cell_type": "code",
   "execution_count": 50,
   "id": "f4411fea-713c-41f4-84b3-4713261065db",
   "metadata": {},
   "outputs": [
    {
     "name": "stderr",
     "output_type": "stream",
     "text": [
      "\n",
      "(dot.exe:8972): Pango-WARNING **: couldn't load font \"DejaVu Sans Bold Not-Rotated 14\", falling back to \"Sans Bold Not-Rotated 14\", expect ugly output.\n",
      "\n",
      "(dot.exe:8972): Pango-WARNING **: couldn't load font \"DejaVu Sans Not-Rotated 10\", falling back to \"Sans Not-Rotated 10\", expect ugly output.\n",
      "\n",
      "(dot.exe:8972): Pango-WARNING **: couldn't load font \"DejaVu Sans Not-Rotated 14\", falling back to \"Sans Not-Rotated 14\", expect ugly output.\n"
     ]
    },
    {
     "data": {
      "image/svg+xml": [
       "<?xml version=\"1.0\" encoding=\"UTF-8\" standalone=\"no\"?>\n",
       "<!DOCTYPE svg PUBLIC \"-//W3C//DTD SVG 1.1//EN\"\n",
       " \"http://www.w3.org/Graphics/SVG/1.1/DTD/svg11.dtd\">\n",
       "<!-- Generated by graphviz version 10.0.1 (20240210.2158)\n",
       " -->\n",
       "<!-- Pages: 1 -->\n",
       "<svg width=\"6785pt\" height=\"400pt\"\n",
       " viewBox=\"0.00 0.00 6785.00 399.50\" xmlns=\"http://www.w3.org/2000/svg\" xmlns:xlink=\"http://www.w3.org/1999/xlink\">\n",
       "<g id=\"graph0\" class=\"graph\" transform=\"scale(1 1) rotate(0) translate(4 395.5)\">\n",
       "<polygon fill=\"white\" stroke=\"none\" points=\"-4,4 -4,-395.5 6781,-395.5 6781,4 -4,4\"/>\n",
       "<!-- node0 -->\n",
       "<g id=\"node1\" class=\"node\">\n",
       "<title>node0</title>\n",
       "<polygon fill=\"grey\" stroke=\"none\" points=\"3706,-365.5 3706,-386.5 4066,-386.5 4066,-365.5 3706,-365.5\"/>\n",
       "<text text-anchor=\"start\" x=\"3851.12\" y=\"-372.2\" font-family=\"DejaVu Sans\" font-weight=\"bold\" font-size=\"14.00\">concordia</text>\n",
       "<g id=\"a_node1_0\"><a xlink:href=\"http://acad.io/data#concordia\" xlink:title=\"&lt;TABLE&gt;\">\n",
       "<polygon fill=\"#eeeeee\" stroke=\"none\" points=\"3706,-349.5 3706,-365.5 4066,-365.5 4066,-349.5 3706,-349.5\"/>\n",
       "<text text-anchor=\"start\" x=\"3821.5\" y=\"-354\" font-family=\"DejaVu Sans\" font-size=\"10.00\" fill=\"#6666ff\">http://acad.io/data#concordia</text>\n",
       "</a>\n",
       "</g>\n",
       "<text text-anchor=\"start\" x=\"3707.88\" y=\"-334.2\" font-family=\"DejaVu Sans\" font-size=\"14.00\">acad:universityName</text>\n",
       "<text text-anchor=\"start\" x=\"3842.88\" y=\"-334.2\" font-family=\"DejaVu Sans\" font-size=\"14.00\">&quot;Concordia University&quot;^^xsd:string</text>\n",
       "<polygon fill=\"none\" stroke=\"#666666\" points=\"3705,-327.5 3705,-387.5 4067,-387.5 4067,-327.5 3705,-327.5\"/>\n",
       "</g>\n",
       "<!-- node1 -->\n",
       "<g id=\"node2\" class=\"node\">\n",
       "<title>node1</title>\n",
       "<polygon fill=\"grey\" stroke=\"none\" points=\"6185.5,-182.75 6185.5,-203.75 6332.5,-203.75 6332.5,-182.75 6185.5,-182.75\"/>\n",
       "<text text-anchor=\"start\" x=\"6222.62\" y=\"-189.45\" font-family=\"DejaVu Sans\" font-weight=\"bold\" font-size=\"14.00\">University</text>\n",
       "<g id=\"a_node2_1\"><a xlink:href=\"http://acad.io/schema#University\" xlink:title=\"&lt;TABLE&gt;\">\n",
       "<polygon fill=\"#eeeeee\" stroke=\"none\" points=\"6185.5,-166.75 6185.5,-182.75 6332.5,-182.75 6332.5,-166.75 6185.5,-166.75\"/>\n",
       "<text text-anchor=\"start\" x=\"6187.38\" y=\"-171.25\" font-family=\"DejaVu Sans\" font-size=\"10.00\" fill=\"#6666ff\">http://acad.io/schema#University</text>\n",
       "</a>\n",
       "</g>\n",
       "<polygon fill=\"none\" stroke=\"#666666\" points=\"6184.5,-165.75 6184.5,-204.75 6333.5,-204.75 6333.5,-165.75 6184.5,-165.75\"/>\n",
       "</g>\n",
       "<!-- node0&#45;&gt;node1 -->\n",
       "<g id=\"edge1\" class=\"edge\">\n",
       "<title>node0&#45;&gt;node1</title>\n",
       "<path fill=\"none\" stroke=\"BLACK\" d=\"M4074.86,-355.39C4516.29,-352.23 5605.74,-340.97 5970,-305.5 6058.41,-296.89 6087.37,-311.13 6167,-271.75 6193.15,-258.82 6217.1,-236.04 6234,-217.25\"/>\n",
       "<polygon fill=\"BLACK\" stroke=\"BLACK\" points=\"6236.55,-219.66 6240.49,-209.82 6231.28,-215.05 6236.55,-219.66\"/>\n",
       "<text text-anchor=\"start\" x=\"6120\" y=\"-293.2\" font-family=\"Times New Roman,serif\" font-size=\"14.00\"> </text>\n",
       "<text text-anchor=\"start\" x=\"6123.75\" y=\"-293.2\" font-family=\"Times New Roman,serif\" font-size=\"10.00\" fill=\"#336633\">rdf:type</text>\n",
       "<text text-anchor=\"start\" x=\"6155.25\" y=\"-293.2\" font-family=\"Times New Roman,serif\" font-size=\"14.00\"> </text>\n",
       "</g>\n",
       "<!-- node2 -->\n",
       "<g id=\"node3\" class=\"node\">\n",
       "<title>node2</title>\n",
       "<polygon fill=\"grey\" stroke=\"none\" points=\"9,-245.75 9,-266.75 1557,-266.75 1557,-245.75 9,-245.75\"/>\n",
       "<text text-anchor=\"start\" x=\"731.25\" y=\"-252.45\" font-family=\"DejaVu Sans\" font-weight=\"bold\" font-size=\"14.00\">COMP6741_IS</text>\n",
       "<g id=\"a_node3_2\"><a xlink:href=\"http://acad.io/data#COMP6741_IS\" xlink:title=\"&lt;TABLE&gt;\">\n",
       "<polygon fill=\"#eeeeee\" stroke=\"none\" points=\"9,-229.75 9,-245.75 1557,-245.75 1557,-229.75 9,-229.75\"/>\n",
       "<text text-anchor=\"start\" x=\"708.75\" y=\"-234.25\" font-family=\"DejaVu Sans\" font-size=\"10.00\" fill=\"#6666ff\">http://acad.io/data#COMP6741_IS</text>\n",
       "</a>\n",
       "</g>\n",
       "<text text-anchor=\"start\" x=\"11\" y=\"-214.45\" font-family=\"DejaVu Sans\" font-size=\"14.00\">acad:courseCredits</text>\n",
       "<text text-anchor=\"start\" x=\"161\" y=\"-214.45\" font-family=\"DejaVu Sans\" font-size=\"14.00\">&quot;4&quot;^^xsd:string</text>\n",
       "<text text-anchor=\"start\" x=\"10.88\" y=\"-193.45\" font-family=\"DejaVu Sans\" font-size=\"14.00\">acad:courseDescription</text>\n",
       "<text text-anchor=\"start\" x=\"161\" y=\"-193.45\" font-family=\"DejaVu Sans\" font-size=\"14.00\">&quot;Knowledge representation and reasoning. Uncertainty and conflict resolution. Design of intelligent systems. Grammar&#45;based, rule&#45;based, and blackboard architectures. A project is required.&quot;^^xsd:string</text>\n",
       "<text text-anchor=\"start\" x=\"11\" y=\"-172.45\" font-family=\"DejaVu Sans\" font-size=\"14.00\">acad:courseName</text>\n",
       "<text text-anchor=\"start\" x=\"161\" y=\"-172.45\" font-family=\"DejaVu Sans\" font-size=\"14.00\">&quot;Intelligent Systems&quot;^^xsd:string</text>\n",
       "<text text-anchor=\"start\" x=\"11\" y=\"-151.45\" font-family=\"DejaVu Sans\" font-size=\"14.00\">acad:courseNumber</text>\n",
       "<text text-anchor=\"start\" x=\"161\" y=\"-151.45\" font-family=\"DejaVu Sans\" font-size=\"14.00\">&quot;6741&quot;^^xsd:string</text>\n",
       "<text text-anchor=\"start\" x=\"11\" y=\"-130.45\" font-family=\"DejaVu Sans\" font-size=\"14.00\">acad:courseSubject</text>\n",
       "<text text-anchor=\"start\" x=\"161\" y=\"-130.45\" font-family=\"DejaVu Sans\" font-size=\"14.00\">&quot;COMP&quot;^^xsd:string</text>\n",
       "<text text-anchor=\"start\" x=\"11\" y=\"-109.45\" font-family=\"DejaVu Sans\" font-size=\"14.00\">acad:courseWebpage</text>\n",
       "<text text-anchor=\"start\" x=\"160.88\" y=\"-109.45\" font-family=\"DejaVu Sans\" font-size=\"14.00\">&quot;https://www.concordia.ca/academics/graduate/calendar/current/gina&#45;cody&#45;school&#45;of&#45;engineering&#45;and&#45;computer&#45;science&#45;courses/computer&#45;science&#45;and&#45;software&#45;engineering&#45;master&#45;s&#45;and&#45;phd&#45;courses.html&quot;^^xsd:string</text>\n",
       "<polygon fill=\"none\" stroke=\"#666666\" points=\"8,-102.75 8,-267.75 1558,-267.75 1558,-102.75 8,-102.75\"/>\n",
       "</g>\n",
       "<!-- node0&#45;&gt;node2 -->\n",
       "<g id=\"edge6\" class=\"edge\">\n",
       "<title>node0&#45;&gt;node2</title>\n",
       "<path fill=\"none\" stroke=\"BLACK\" d=\"M3697.22,-356.99C3340.21,-356.76 2541.75,-350.64 1871.25,-305.5 1749.3,-297.29 1619.94,-285.68 1494.6,-272.89\"/>\n",
       "<polygon fill=\"BLACK\" stroke=\"BLACK\" points=\"1495.07,-269.42 1484.77,-271.89 1494.36,-276.39 1495.07,-269.42\"/>\n",
       "<text text-anchor=\"start\" x=\"1872\" y=\"-293.2\" font-family=\"Times New Roman,serif\" font-size=\"14.00\"> </text>\n",
       "<text text-anchor=\"start\" x=\"1875.75\" y=\"-293.2\" font-family=\"Times New Roman,serif\" font-size=\"10.00\" fill=\"#336633\">acad:offers</text>\n",
       "<text text-anchor=\"start\" x=\"1920\" y=\"-293.2\" font-family=\"Times New Roman,serif\" font-size=\"14.00\"> </text>\n",
       "</g>\n",
       "<!-- node8 -->\n",
       "<g id=\"node8\" class=\"node\">\n",
       "<title>node8</title>\n",
       "<polygon fill=\"grey\" stroke=\"none\" points=\"5973,-182.75 5973,-203.75 6149,-203.75 6149,-182.75 5973,-182.75\"/>\n",
       "<text text-anchor=\"start\" x=\"6028.38\" y=\"-189.45\" font-family=\"DejaVu Sans\" font-weight=\"bold\" font-size=\"14.00\">Q326342</text>\n",
       "<g id=\"a_node8_3\"><a xlink:href=\"https://www.wikidata.org/wiki/Q326342\" xlink:title=\"&lt;TABLE&gt;\">\n",
       "<polygon fill=\"#eeeeee\" stroke=\"none\" points=\"5973,-166.75 5973,-182.75 6149,-182.75 6149,-166.75 5973,-166.75\"/>\n",
       "<text text-anchor=\"start\" x=\"5974.75\" y=\"-171.25\" font-family=\"DejaVu Sans\" font-size=\"10.00\" fill=\"#6666ff\">https://www.wikidata.org/wiki/Q326342</text>\n",
       "</a>\n",
       "</g>\n",
       "<polygon fill=\"none\" stroke=\"#666666\" points=\"5972,-165.75 5972,-204.75 6150,-204.75 6150,-165.75 5972,-165.75\"/>\n",
       "</g>\n",
       "<!-- node0&#45;&gt;node8 -->\n",
       "<g id=\"edge5\" class=\"edge\">\n",
       "<title>node0&#45;&gt;node8</title>\n",
       "<path fill=\"none\" stroke=\"BLACK\" d=\"M4074.72,-355.51C4552.08,-352.04 5782.03,-336.83 5955,-271.75 5985.59,-260.24 6014.06,-236.23 6033.77,-216.57\"/>\n",
       "<polygon fill=\"BLACK\" stroke=\"BLACK\" points=\"6036.14,-219.15 6040.61,-209.55 6031.12,-214.27 6036.14,-219.15\"/>\n",
       "<text text-anchor=\"start\" x=\"5844\" y=\"-293.2\" font-family=\"Times New Roman,serif\" font-size=\"14.00\"> </text>\n",
       "<text text-anchor=\"start\" x=\"5847.75\" y=\"-293.2\" font-family=\"Times New Roman,serif\" font-size=\"10.00\" fill=\"#336633\">acad:universityWikidataLink</text>\n",
       "<text text-anchor=\"start\" x=\"5962.5\" y=\"-293.2\" font-family=\"Times New Roman,serif\" font-size=\"14.00\"> </text>\n",
       "</g>\n",
       "<!-- node3 -->\n",
       "<g id=\"node9\" class=\"node\">\n",
       "<title>node3</title>\n",
       "<polygon fill=\"grey\" stroke=\"none\" points=\"1835,-245.75 1835,-266.75 5937,-266.75 5937,-245.75 1835,-245.75\"/>\n",
       "<text text-anchor=\"start\" x=\"3828.62\" y=\"-252.45\" font-family=\"DejaVu Sans\" font-weight=\"bold\" font-size=\"14.00\">COMP6481_PPS</text>\n",
       "<g id=\"a_node9_4\"><a xlink:href=\"http://acad.io/data#COMP6481_PPS\" xlink:title=\"&lt;TABLE&gt;\">\n",
       "<polygon fill=\"#eeeeee\" stroke=\"none\" points=\"1835,-229.75 1835,-245.75 5937,-245.75 5937,-229.75 1835,-229.75\"/>\n",
       "<text text-anchor=\"start\" x=\"3808\" y=\"-234.25\" font-family=\"DejaVu Sans\" font-size=\"10.00\" fill=\"#6666ff\">http://acad.io/data#COMP6481_PPS</text>\n",
       "</a>\n",
       "</g>\n",
       "<text text-anchor=\"start\" x=\"1837\" y=\"-214.45\" font-family=\"DejaVu Sans\" font-size=\"14.00\">acad:courseCredits</text>\n",
       "<text text-anchor=\"start\" x=\"1987\" y=\"-214.45\" font-family=\"DejaVu Sans\" font-size=\"14.00\">&quot;4&quot;^^xsd:string</text>\n",
       "<text text-anchor=\"start\" x=\"1836.88\" y=\"-193.45\" font-family=\"DejaVu Sans\" font-size=\"14.00\">acad:courseDescription</text>\n",
       "<text text-anchor=\"start\" x=\"1986.62\" y=\"-193.45\" font-family=\"DejaVu Sans\" font-size=\"14.00\">&quot;This course provides an overview of programming, problem solving, widely&#45;used data structures and the design of fundamental and advanced algorithms using object oriented programming. Students will learn about arrays, lists, and the underlying concepts of iterators; sorting and searching algorithms; software testing including boundary and unit testing; complexity analysis; recursion; trees and tree traversal algorithms; maps and hash tables; search trees; and graphs and graph&#45;based algorithms. For a passing grade, the student must pass one or more computer&#45;based Programming Competency Tests.&quot;^^xsd:string</text>\n",
       "<text text-anchor=\"start\" x=\"1837\" y=\"-172.45\" font-family=\"DejaVu Sans\" font-size=\"14.00\">acad:courseName</text>\n",
       "<text text-anchor=\"start\" x=\"1987\" y=\"-172.45\" font-family=\"DejaVu Sans\" font-size=\"14.00\">&quot;Programming and Problem Solving&quot;^^xsd:string</text>\n",
       "<text text-anchor=\"start\" x=\"1837\" y=\"-151.45\" font-family=\"DejaVu Sans\" font-size=\"14.00\">acad:courseNumber</text>\n",
       "<text text-anchor=\"start\" x=\"1987\" y=\"-151.45\" font-family=\"DejaVu Sans\" font-size=\"14.00\">&quot;6481&quot;^^xsd:string</text>\n",
       "<text text-anchor=\"start\" x=\"1837\" y=\"-130.45\" font-family=\"DejaVu Sans\" font-size=\"14.00\">acad:courseSubject</text>\n",
       "<text text-anchor=\"start\" x=\"1987\" y=\"-130.45\" font-family=\"DejaVu Sans\" font-size=\"14.00\">&quot;COMP&quot;^^xsd:string</text>\n",
       "<text text-anchor=\"start\" x=\"1837\" y=\"-109.45\" font-family=\"DejaVu Sans\" font-size=\"14.00\">acad:courseWebpage</text>\n",
       "<text text-anchor=\"start\" x=\"1987\" y=\"-109.45\" font-family=\"DejaVu Sans\" font-size=\"14.00\">&quot;https://aimanhanna.com/&quot;^^xsd:string</text>\n",
       "<polygon fill=\"none\" stroke=\"#666666\" points=\"1834,-102.75 1834,-267.75 5938,-267.75 5938,-102.75 1834,-102.75\"/>\n",
       "</g>\n",
       "<!-- node0&#45;&gt;node3 -->\n",
       "<g id=\"edge7\" class=\"edge\">\n",
       "<title>node0&#45;&gt;node3</title>\n",
       "<path fill=\"none\" stroke=\"BLACK\" d=\"M3886,-323.67C3886,-311.74 3886,-297.57 3886,-282.93\"/>\n",
       "<polygon fill=\"BLACK\" stroke=\"BLACK\" points=\"3889.5,-283.18 3886,-273.18 3882.5,-283.18 3889.5,-283.18\"/>\n",
       "<text text-anchor=\"start\" x=\"3886\" y=\"-293.2\" font-family=\"Times New Roman,serif\" font-size=\"14.00\"> </text>\n",
       "<text text-anchor=\"start\" x=\"3889.75\" y=\"-293.2\" font-family=\"Times New Roman,serif\" font-size=\"10.00\" fill=\"#336633\">acad:offers</text>\n",
       "<text text-anchor=\"start\" x=\"3934\" y=\"-293.2\" font-family=\"Times New Roman,serif\" font-size=\"14.00\"> </text>\n",
       "</g>\n",
       "<!-- node10 -->\n",
       "<g id=\"node11\" class=\"node\">\n",
       "<title>node10</title>\n",
       "<polygon fill=\"grey\" stroke=\"none\" points=\"1593.5,-182.75 1593.5,-203.75 1798.5,-203.75 1798.5,-182.75 1593.5,-182.75\"/>\n",
       "<text text-anchor=\"start\" x=\"1619.12\" y=\"-189.45\" font-family=\"DejaVu Sans\" font-weight=\"bold\" font-size=\"14.00\">Concordia_University</text>\n",
       "<g id=\"a_node11_5\"><a xlink:href=\"https://dbpedia.org/page/Concordia_University\" xlink:title=\"&lt;TABLE&gt;\">\n",
       "<polygon fill=\"#eeeeee\" stroke=\"none\" points=\"1593.5,-166.75 1593.5,-182.75 1798.5,-182.75 1798.5,-166.75 1593.5,-166.75\"/>\n",
       "<text text-anchor=\"start\" x=\"1595.5\" y=\"-171.25\" font-family=\"DejaVu Sans\" font-size=\"10.00\" fill=\"#6666ff\">https://dbpedia.org/page/Concordia_University</text>\n",
       "</a>\n",
       "</g>\n",
       "<polygon fill=\"none\" stroke=\"#666666\" points=\"1592.5,-165.75 1592.5,-204.75 1799.5,-204.75 1799.5,-165.75 1592.5,-165.75\"/>\n",
       "</g>\n",
       "<!-- node0&#45;&gt;node10 -->\n",
       "<g id=\"edge10\" class=\"edge\">\n",
       "<title>node0&#45;&gt;node10</title>\n",
       "<path fill=\"none\" stroke=\"BLACK\" d=\"M3697.07,-354.86C3219.96,-349.85 1991.9,-331.28 1817,-271.75 1783.03,-260.19 1750.16,-235.84 1727.27,-216.08\"/>\n",
       "<polygon fill=\"BLACK\" stroke=\"BLACK\" points=\"1729.64,-213.5 1719.84,-209.49 1725,-218.74 1729.64,-213.5\"/>\n",
       "<text text-anchor=\"start\" x=\"2032\" y=\"-293.2\" font-family=\"Times New Roman,serif\" font-size=\"14.00\"> </text>\n",
       "<text text-anchor=\"start\" x=\"2035.75\" y=\"-293.2\" font-family=\"Times New Roman,serif\" font-size=\"10.00\" fill=\"#336633\">acad:universityDBpediaLink</text>\n",
       "<text text-anchor=\"start\" x=\"2149\" y=\"-293.2\" font-family=\"Times New Roman,serif\" font-size=\"14.00\"> </text>\n",
       "</g>\n",
       "<!-- node4 -->\n",
       "<g id=\"node4\" class=\"node\">\n",
       "<title>node4</title>\n",
       "<polygon fill=\"grey\" stroke=\"none\" points=\"2721,-21 2721,-42 2903,-42 2903,-21 2721,-21\"/>\n",
       "<text text-anchor=\"start\" x=\"2787.25\" y=\"-27.7\" font-family=\"DejaVu Sans\" font-weight=\"bold\" font-size=\"14.00\">Course</text>\n",
       "<g id=\"a_node4_6\"><a xlink:href=\"http://vivoweb.org/ontology/core#Course\" xlink:title=\"&lt;TABLE&gt;\">\n",
       "<polygon fill=\"#eeeeee\" stroke=\"none\" points=\"2721,-5 2721,-21 2903,-21 2903,-5 2721,-5\"/>\n",
       "<text text-anchor=\"start\" x=\"2722.75\" y=\"-9.5\" font-family=\"DejaVu Sans\" font-size=\"10.00\" fill=\"#6666ff\">http://vivoweb.org/ontology/core#Course</text>\n",
       "</a>\n",
       "</g>\n",
       "<polygon fill=\"none\" stroke=\"#666666\" points=\"2720,-4 2720,-43 2904,-43 2904,-4 2720,-4\"/>\n",
       "</g>\n",
       "<!-- node2&#45;&gt;node4 -->\n",
       "<g id=\"edge2\" class=\"edge\">\n",
       "<title>node2&#45;&gt;node4</title>\n",
       "<path fill=\"none\" stroke=\"BLACK\" d=\"M1565.94,-99.51C1568.96,-99.26 1571.99,-99 1575,-98.75 1989.66,-63.94 2483.85,-39.35 2700.7,-29.4\"/>\n",
       "<polygon fill=\"BLACK\" stroke=\"BLACK\" points=\"2700.73,-32.9 2710.56,-28.95 2700.41,-25.91 2700.73,-32.9\"/>\n",
       "<text text-anchor=\"start\" x=\"2016\" y=\"-68.45\" font-family=\"Times New Roman,serif\" font-size=\"14.00\"> </text>\n",
       "<text text-anchor=\"start\" x=\"2019.75\" y=\"-68.45\" font-family=\"Times New Roman,serif\" font-size=\"10.00\" fill=\"#336633\">rdf:type</text>\n",
       "<text text-anchor=\"start\" x=\"2051.25\" y=\"-68.45\" font-family=\"Times New Roman,serif\" font-size=\"14.00\"> </text>\n",
       "</g>\n",
       "<!-- node5 -->\n",
       "<g id=\"node5\" class=\"node\">\n",
       "<title>node5</title>\n",
       "<polygon fill=\"grey\" stroke=\"none\" points=\"553.5,-21 553.5,-42 1012.5,-42 1012.5,-21 553.5,-21\"/>\n",
       "<text text-anchor=\"start\" x=\"555.38\" y=\"-27.7\" font-family=\"DejaVu Sans\" font-weight=\"bold\" font-size=\"14.00\">Courses%2FCourses%2FCOMP6741_IS%2Fcourse_outline.pdf</text>\n",
       "<g id=\"a_node5_7\"><a xlink:href=\"file://Courses%2FCourses%2FCOMP6741_IS%2Fcourse_outline.pdf\" xlink:title=\"&lt;TABLE&gt;\">\n",
       "<polygon fill=\"#eeeeee\" stroke=\"none\" points=\"553.5,-5 553.5,-21 1012.5,-21 1012.5,-5 553.5,-5\"/>\n",
       "<text text-anchor=\"start\" x=\"637.5\" y=\"-9.5\" font-family=\"DejaVu Sans\" font-size=\"10.00\" fill=\"#6666ff\">file://Courses%2FCourses%2FCOMP6741_IS%2Fcourse_outline.pdf</text>\n",
       "</a>\n",
       "</g>\n",
       "<polygon fill=\"none\" stroke=\"#666666\" points=\"552.5,-4 552.5,-43 1013.5,-43 1013.5,-4 552.5,-4\"/>\n",
       "</g>\n",
       "<!-- node2&#45;&gt;node5 -->\n",
       "<g id=\"edge3\" class=\"edge\">\n",
       "<title>node2&#45;&gt;node5</title>\n",
       "<path fill=\"none\" stroke=\"BLACK\" d=\"M783,-98.76C783,-84.3 783,-70.08 783,-58.02\"/>\n",
       "<polygon fill=\"BLACK\" stroke=\"BLACK\" points=\"786.5,-58.26 783,-48.26 779.5,-58.26 786.5,-58.26\"/>\n",
       "<text text-anchor=\"start\" x=\"783\" y=\"-68.45\" font-family=\"Times New Roman,serif\" font-size=\"14.00\"> </text>\n",
       "<text text-anchor=\"start\" x=\"786.75\" y=\"-68.45\" font-family=\"Times New Roman,serif\" font-size=\"10.00\" fill=\"#336633\">acad:courseOutline</text>\n",
       "<text text-anchor=\"start\" x=\"864\" y=\"-68.45\" font-family=\"Times New Roman,serif\" font-size=\"14.00\"> </text>\n",
       "</g>\n",
       "<!-- node6 -->\n",
       "<g id=\"node6\" class=\"node\">\n",
       "<title>node6</title>\n",
       "<polygon fill=\"grey\" stroke=\"none\" points=\"6295.5,-365.5 6295.5,-386.5 6628.5,-386.5 6628.5,-365.5 6295.5,-365.5\"/>\n",
       "<text text-anchor=\"start\" x=\"6440.25\" y=\"-372.2\" font-family=\"DejaVu Sans\" font-weight=\"bold\" font-size=\"14.00\">mcgill</text>\n",
       "<g id=\"a_node6_8\"><a xlink:href=\"http://acad.io/data#mcgill\" xlink:title=\"&lt;TABLE&gt;\">\n",
       "<polygon fill=\"#eeeeee\" stroke=\"none\" points=\"6295.5,-349.5 6295.5,-365.5 6628.5,-365.5 6628.5,-349.5 6295.5,-349.5\"/>\n",
       "<text text-anchor=\"start\" x=\"6405.75\" y=\"-354\" font-family=\"DejaVu Sans\" font-size=\"10.00\" fill=\"#6666ff\">http://acad.io/data#mcgill</text>\n",
       "</a>\n",
       "</g>\n",
       "<text text-anchor=\"start\" x=\"6297.38\" y=\"-334.2\" font-family=\"DejaVu Sans\" font-size=\"14.00\">acad:universityName</text>\n",
       "<text text-anchor=\"start\" x=\"6432.38\" y=\"-334.2\" font-family=\"DejaVu Sans\" font-size=\"14.00\">&quot;Mcgill University&quot;^^xsd:string</text>\n",
       "<polygon fill=\"none\" stroke=\"#666666\" points=\"6294.5,-327.5 6294.5,-387.5 6629.5,-387.5 6629.5,-327.5 6294.5,-327.5\"/>\n",
       "</g>\n",
       "<!-- node6&#45;&gt;node1 -->\n",
       "<g id=\"edge11\" class=\"edge\">\n",
       "<title>node6&#45;&gt;node1</title>\n",
       "<path fill=\"none\" stroke=\"BLACK\" d=\"M6416.94,-323.65C6396.46,-308.32 6372.13,-289.57 6351,-271.75 6330.08,-254.12 6307.57,-233.23 6290.05,-216.51\"/>\n",
       "<polygon fill=\"BLACK\" stroke=\"BLACK\" points=\"6292.61,-214.12 6282.97,-209.72 6287.77,-219.17 6292.61,-214.12\"/>\n",
       "<text text-anchor=\"start\" x=\"6392\" y=\"-293.2\" font-family=\"Times New Roman,serif\" font-size=\"14.00\"> </text>\n",
       "<text text-anchor=\"start\" x=\"6395.75\" y=\"-293.2\" font-family=\"Times New Roman,serif\" font-size=\"10.00\" fill=\"#336633\">rdf:type</text>\n",
       "<text text-anchor=\"start\" x=\"6427.25\" y=\"-293.2\" font-family=\"Times New Roman,serif\" font-size=\"14.00\"> </text>\n",
       "</g>\n",
       "<!-- node7 -->\n",
       "<g id=\"node7\" class=\"node\">\n",
       "<title>node7</title>\n",
       "<polygon fill=\"grey\" stroke=\"none\" points=\"6592,-182.75 6592,-203.75 6768,-203.75 6768,-182.75 6592,-182.75\"/>\n",
       "<text text-anchor=\"start\" x=\"6647.38\" y=\"-189.45\" font-family=\"DejaVu Sans\" font-weight=\"bold\" font-size=\"14.00\">Q201492</text>\n",
       "<g id=\"a_node7_9\"><a xlink:href=\"https://www.wikidata.org/wiki/Q201492\" xlink:title=\"&lt;TABLE&gt;\">\n",
       "<polygon fill=\"#eeeeee\" stroke=\"none\" points=\"6592,-166.75 6592,-182.75 6768,-182.75 6768,-166.75 6592,-166.75\"/>\n",
       "<text text-anchor=\"start\" x=\"6593.75\" y=\"-171.25\" font-family=\"DejaVu Sans\" font-size=\"10.00\" fill=\"#6666ff\">https://www.wikidata.org/wiki/Q201492</text>\n",
       "</a>\n",
       "</g>\n",
       "<polygon fill=\"none\" stroke=\"#666666\" points=\"6591,-165.75 6591,-204.75 6769,-204.75 6769,-165.75 6591,-165.75\"/>\n",
       "</g>\n",
       "<!-- node6&#45;&gt;node7 -->\n",
       "<g id=\"edge4\" class=\"edge\">\n",
       "<title>node6&#45;&gt;node7</title>\n",
       "<path fill=\"none\" stroke=\"BLACK\" d=\"M6557.7,-323.65C6568.03,-318.33 6578.03,-312.29 6587,-305.5 6618.56,-281.61 6645.2,-244.51 6661.77,-218.04\"/>\n",
       "<polygon fill=\"BLACK\" stroke=\"BLACK\" points=\"6664.6,-220.11 6666.83,-209.75 6658.63,-216.46 6664.6,-220.11\"/>\n",
       "<text text-anchor=\"start\" x=\"6602\" y=\"-293.2\" font-family=\"Times New Roman,serif\" font-size=\"14.00\"> </text>\n",
       "<text text-anchor=\"start\" x=\"6605.75\" y=\"-293.2\" font-family=\"Times New Roman,serif\" font-size=\"10.00\" fill=\"#336633\">acad:universityWikidataLink</text>\n",
       "<text text-anchor=\"start\" x=\"6720.5\" y=\"-293.2\" font-family=\"Times New Roman,serif\" font-size=\"14.00\"> </text>\n",
       "</g>\n",
       "<!-- node11 -->\n",
       "<g id=\"node12\" class=\"node\">\n",
       "<title>node11</title>\n",
       "<polygon fill=\"grey\" stroke=\"none\" points=\"6368.5,-182.75 6368.5,-203.75 6555.5,-203.75 6555.5,-182.75 6368.5,-182.75\"/>\n",
       "<text text-anchor=\"start\" x=\"6399\" y=\"-189.45\" font-family=\"DejaVu Sans\" font-weight=\"bold\" font-size=\"14.00\">McGill_University</text>\n",
       "<g id=\"a_node12_10\"><a xlink:href=\"https://dbpedia.org/page/McGill_University\" xlink:title=\"&lt;TABLE&gt;\">\n",
       "<polygon fill=\"#eeeeee\" stroke=\"none\" points=\"6368.5,-166.75 6368.5,-182.75 6555.5,-182.75 6555.5,-166.75 6368.5,-166.75\"/>\n",
       "<text text-anchor=\"start\" x=\"6370.5\" y=\"-171.25\" font-family=\"DejaVu Sans\" font-size=\"10.00\" fill=\"#6666ff\">https://dbpedia.org/page/McGill_University</text>\n",
       "</a>\n",
       "</g>\n",
       "<polygon fill=\"none\" stroke=\"#666666\" points=\"6367.5,-165.75 6367.5,-204.75 6556.5,-204.75 6556.5,-165.75 6367.5,-165.75\"/>\n",
       "</g>\n",
       "<!-- node6&#45;&gt;node11 -->\n",
       "<g id=\"edge12\" class=\"edge\">\n",
       "<title>node6&#45;&gt;node11</title>\n",
       "<path fill=\"none\" stroke=\"BLACK\" d=\"M6462,-323.67C6462,-293.82 6462,-249.95 6462,-219.85\"/>\n",
       "<polygon fill=\"BLACK\" stroke=\"BLACK\" points=\"6465.5,-220.17 6462,-210.17 6458.5,-220.17 6465.5,-220.17\"/>\n",
       "<text text-anchor=\"start\" x=\"6462\" y=\"-293.2\" font-family=\"Times New Roman,serif\" font-size=\"14.00\"> </text>\n",
       "<text text-anchor=\"start\" x=\"6465.75\" y=\"-293.2\" font-family=\"Times New Roman,serif\" font-size=\"10.00\" fill=\"#336633\">acad:universityDBpediaLink</text>\n",
       "<text text-anchor=\"start\" x=\"6579\" y=\"-293.2\" font-family=\"Times New Roman,serif\" font-size=\"14.00\"> </text>\n",
       "</g>\n",
       "<!-- node3&#45;&gt;node4 -->\n",
       "<g id=\"edge9\" class=\"edge\">\n",
       "<title>node3&#45;&gt;node4</title>\n",
       "<path fill=\"none\" stroke=\"BLACK\" d=\"M3311.27,-98.76C3162.7,-76.66 3018,-55.14 2922.96,-41.01\"/>\n",
       "<polygon fill=\"BLACK\" stroke=\"BLACK\" points=\"2923.53,-37.55 2913.12,-39.54 2922.5,-44.47 2923.53,-37.55\"/>\n",
       "<text text-anchor=\"start\" x=\"3190\" y=\"-68.45\" font-family=\"Times New Roman,serif\" font-size=\"14.00\"> </text>\n",
       "<text text-anchor=\"start\" x=\"3193.75\" y=\"-68.45\" font-family=\"Times New Roman,serif\" font-size=\"10.00\" fill=\"#336633\">rdf:type</text>\n",
       "<text text-anchor=\"start\" x=\"3225.25\" y=\"-68.45\" font-family=\"Times New Roman,serif\" font-size=\"14.00\"> </text>\n",
       "</g>\n",
       "<!-- node9 -->\n",
       "<g id=\"node10\" class=\"node\">\n",
       "<title>node9</title>\n",
       "<polygon fill=\"grey\" stroke=\"none\" points=\"3559.5,-21 3559.5,-42 4212.5,-42 4212.5,-21 3559.5,-21\"/>\n",
       "<text text-anchor=\"start\" x=\"3561.25\" y=\"-27.7\" font-family=\"DejaVu Sans\" font-weight=\"bold\" font-size=\"14.00\">Courses%2FCourses%2FCOMP6481_PPS%2FComp6481&#45;Winter&#45;2024_course_outline.pdf</text>\n",
       "<g id=\"a_node10_11\"><a xlink:href=\"file://Courses%2FCourses%2FCOMP6481_PPS%2FComp6481-Winter-2024_course_outline.pdf\" xlink:title=\"&lt;TABLE&gt;\">\n",
       "<polygon fill=\"#eeeeee\" stroke=\"none\" points=\"3559.5,-5 3559.5,-21 4212.5,-21 4212.5,-5 3559.5,-5\"/>\n",
       "<text text-anchor=\"start\" x=\"3682.75\" y=\"-9.5\" font-family=\"DejaVu Sans\" font-size=\"10.00\" fill=\"#6666ff\">file://Courses%2FCourses%2FCOMP6481_PPS%2FComp6481&#45;Winter&#45;2024_course_outline.pdf</text>\n",
       "</a>\n",
       "</g>\n",
       "<polygon fill=\"none\" stroke=\"#666666\" points=\"3558.5,-4 3558.5,-43 4213.5,-43 4213.5,-4 3558.5,-4\"/>\n",
       "</g>\n",
       "<!-- node3&#45;&gt;node9 -->\n",
       "<g id=\"edge8\" class=\"edge\">\n",
       "<title>node3&#45;&gt;node9</title>\n",
       "<path fill=\"none\" stroke=\"BLACK\" d=\"M3886,-98.76C3886,-84.3 3886,-70.08 3886,-58.02\"/>\n",
       "<polygon fill=\"BLACK\" stroke=\"BLACK\" points=\"3889.5,-58.26 3886,-48.26 3882.5,-58.26 3889.5,-58.26\"/>\n",
       "<text text-anchor=\"start\" x=\"3886\" y=\"-68.45\" font-family=\"Times New Roman,serif\" font-size=\"14.00\"> </text>\n",
       "<text text-anchor=\"start\" x=\"3889.75\" y=\"-68.45\" font-family=\"Times New Roman,serif\" font-size=\"10.00\" fill=\"#336633\">acad:courseOutline</text>\n",
       "<text text-anchor=\"start\" x=\"3967\" y=\"-68.45\" font-family=\"Times New Roman,serif\" font-size=\"14.00\"> </text>\n",
       "</g>\n",
       "</g>\n",
       "</svg>\n"
      ],
      "text/plain": [
       "<graphviz.sources.Source at 0x2b4bfeb7010>"
      ]
     },
     "execution_count": 50,
     "metadata": {},
     "output_type": "execute_result"
    }
   ],
   "source": [
    "graph = visualize_graph(kg)\n",
    "graph"
   ]
  },
  {
   "cell_type": "markdown",
   "id": "d88c89e0-3688-4da7-a4bb-a52e26b06d26",
   "metadata": {},
   "source": [
    "## Reading and Processing Concordia Open dataset"
   ]
  },
  {
   "cell_type": "code",
   "execution_count": 51,
   "id": "df1abdd9-9035-45e6-b0af-3155a657f35c",
   "metadata": {},
   "outputs": [
    {
     "data": {
      "text/html": [
       "<div>\n",
       "<style scoped>\n",
       "    .dataframe tbody tr th:only-of-type {\n",
       "        vertical-align: middle;\n",
       "    }\n",
       "\n",
       "    .dataframe tbody tr th {\n",
       "        vertical-align: top;\n",
       "    }\n",
       "\n",
       "    .dataframe thead th {\n",
       "        text-align: right;\n",
       "    }\n",
       "</style>\n",
       "<table border=\"1\" class=\"dataframe\">\n",
       "  <thead>\n",
       "    <tr style=\"text-align: right;\">\n",
       "      <th></th>\n",
       "      <th>Key</th>\n",
       "      <th>Title</th>\n",
       "      <th>Course code</th>\n",
       "      <th>Course number</th>\n",
       "      <th>Description</th>\n",
       "      <th>Website</th>\n",
       "    </tr>\n",
       "  </thead>\n",
       "  <tbody>\n",
       "    <tr>\n",
       "      <th>0</th>\n",
       "      <td>FAS_1011</td>\n",
       "      <td>Directed Research</td>\n",
       "      <td>WSDB</td>\n",
       "      <td>496</td>\n",
       "      <td>Practical, hands-on exercises</td>\n",
       "      <td>NaN</td>\n",
       "    </tr>\n",
       "    <tr>\n",
       "      <th>1</th>\n",
       "      <td>FAS_1012</td>\n",
       "      <td>Seminar in Women’s Studies</td>\n",
       "      <td>WSDB</td>\n",
       "      <td>498</td>\n",
       "      <td>Practical, hands-on exercises</td>\n",
       "      <td>NaN</td>\n",
       "    </tr>\n",
       "    <tr>\n",
       "      <th>2</th>\n",
       "      <td>FAS_1013</td>\n",
       "      <td>Introduction to Historical Perspectives in Wom...</td>\n",
       "      <td>WSDB</td>\n",
       "      <td>290</td>\n",
       "      <td>This course provides an introduction to theori...</td>\n",
       "      <td>NaN</td>\n",
       "    </tr>\n",
       "    <tr>\n",
       "      <th>3</th>\n",
       "      <td>FAS_1014</td>\n",
       "      <td>Introduction to Contemporary Concerns in Women...</td>\n",
       "      <td>WSDB</td>\n",
       "      <td>291</td>\n",
       "      <td>This course explores a range of current issues...</td>\n",
       "      <td>NaN</td>\n",
       "    </tr>\n",
       "    <tr>\n",
       "      <th>4</th>\n",
       "      <td>FAS_1015</td>\n",
       "      <td>Health Issues: Feminist Perspectives</td>\n",
       "      <td>WSDB</td>\n",
       "      <td>391</td>\n",
       "      <td>This course presents feminist, intersectional,...</td>\n",
       "      <td>NaN</td>\n",
       "    </tr>\n",
       "  </tbody>\n",
       "</table>\n",
       "</div>"
      ],
      "text/plain": [
       "        Key                                              Title Course code  \\\n",
       "0  FAS_1011                                  Directed Research       WSDB    \n",
       "1  FAS_1012                         Seminar in Women’s Studies       WSDB    \n",
       "2  FAS_1013  Introduction to Historical Perspectives in Wom...       WSDB    \n",
       "3  FAS_1014  Introduction to Contemporary Concerns in Women...       WSDB    \n",
       "4  FAS_1015               Health Issues: Feminist Perspectives       WSDB    \n",
       "\n",
       "  Course number                                        Description Website  \n",
       "0           496                      Practical, hands-on exercises     NaN  \n",
       "1           498                      Practical, hands-on exercises     NaN  \n",
       "2           290  This course provides an introduction to theori...     NaN  \n",
       "3           291  This course explores a range of current issues...     NaN  \n",
       "4           391  This course presents feminist, intersectional,...     NaN  "
      ]
     },
     "execution_count": 51,
     "metadata": {},
     "output_type": "execute_result"
    }
   ],
   "source": [
    "df1 = pd.read_csv('CATALOG.csv')\n",
    "df1 = df1[['Key','Title','Course code','Course number','Description','Website']]\n",
    "df1.head()"
   ]
  },
  {
   "cell_type": "code",
   "execution_count": 52,
   "id": "758e3073-9b34-440a-b59f-c8d5b46182fd",
   "metadata": {},
   "outputs": [
    {
     "name": "stdout",
     "output_type": "stream",
     "text": [
      "[{'courseKey': 'FAS_1011', 'courseName': 'Directed Research', 'courseSubject': 'WSDB ', 'courseNumber': '496', 'courseCredits': 4, 'courseDescription': 'Practical, hands-on exercises', 'courseWebpage': 'https://www.concordia.ca/', 'courseOutline': None}, {'courseKey': 'FAS_1012', 'courseName': 'Seminar in Women’s Studies', 'courseSubject': 'WSDB ', 'courseNumber': '498', 'courseCredits': 4, 'courseDescription': 'Practical, hands-on exercises', 'courseWebpage': 'https://www.concordia.ca/', 'courseOutline': None}, {'courseKey': 'FAS_1013', 'courseName': 'Introduction to Historical Perspectives in Women’s Studies', 'courseSubject': 'WSDB ', 'courseNumber': '290', 'courseCredits': 4, 'courseDescription': 'This course provides an introduction to theories and writing that affect the lives of women. Through the writing of feminist authors, students examine, from mainly the 20th century, the development of feminist theories and debate.\\xa0', 'courseWebpage': 'https://www.concordia.ca/', 'courseOutline': None}, {'courseKey': 'FAS_1014', 'courseName': 'Introduction to Contemporary Concerns in Women’s Studies', 'courseSubject': 'WSDB ', 'courseNumber': '291', 'courseCredits': 4, 'courseDescription': 'This course explores a range of current issues and debates within feminism. Using interdisciplinary feminist theories that consider how systems of power such as patriarchy, capitalism, racism, and heterosexism constitute one another, it examines particular local and global topics of interest/concern which may include health, education, work, violence against women, globalization, militarism, media and cultural representations, families, and feminist activism.', 'courseWebpage': 'https://www.concordia.ca/', 'courseOutline': None}, {'courseKey': 'FAS_1015', 'courseName': 'Health Issues: Feminist Perspectives', 'courseSubject': 'WSDB ', 'courseNumber': '391', 'courseCredits': 4, 'courseDescription': 'This course presents feminist, intersectional, postcolonialist, poststructuralist and queer examinations of a variety of women’s health issues.\\xa0', 'courseWebpage': 'https://www.concordia.ca/', 'courseOutline': None}, {'courseKey': 'FAS_1064', 'courseName': 'Feminist Perspectives on Culture', 'courseSubject': 'WSDB', 'courseNumber': '491', 'courseCredits': 4, 'courseDescription': 'This seminar explores the central concepts and theories in feminist cultural studies, as they inform feminist, post‑colonial, queer, and post‑structuralist understandings of culture.', 'courseWebpage': 'https://www.concordia.ca/', 'courseOutline': None}, {'courseKey': 'FAS_392', 'courseName': 'Feminism and Research Methods', 'courseSubject': 'WSDB', 'courseNumber': '292', 'courseCredits': 4, 'courseDescription': 'Practical, hands-on exercises', 'courseWebpage': 'https://www.concordia.ca/', 'courseOutline': None}, {'courseKey': 'FAS_393', 'courseName': 'Tutorial in Women’s Studies', 'courseSubject': 'WSDB', 'courseNumber': '394', 'courseCredits': 4, 'courseDescription': 'Tutorial on topic not covered under normal curriculum, independent research ability required', 'courseWebpage': 'https://www.concordia.ca/', 'courseOutline': None}, {'courseKey': 'FAS_394', 'courseName': 'Advanced Tutorial in Women’s Studies', 'courseSubject': 'WSDB', 'courseNumber': '494', 'courseCredits': 4, 'courseDescription': 'Tutorial on topic not covered under normal curriculum, independent research ability required', 'courseWebpage': 'https://www.concordia.ca/', 'courseOutline': None}, {'courseKey': 'FAS_264', 'courseName': 'Representation Methods in Urban Studies', 'courseSubject': 'URBS', 'courseNumber': '250', 'courseCredits': 4, 'courseDescription': 'Laboratory', 'courseWebpage': 'https://www.concordia.ca/', 'courseOutline': None}]\n"
     ]
    }
   ],
   "source": [
    "courses = []\n",
    "for index,row in df1.iterrows():\n",
    "\n",
    "    if pd.isna(row['Website']):\n",
    "        row['Website'] = \"https://www.concordia.ca/\"\n",
    "    if row.isnull().any():\n",
    "        continue\n",
    "    \n",
    "    courses.append({\"courseKey\":row['Key'],\n",
    "                    \"courseName\":row['Title'],\n",
    "                    \"courseSubject\": row['Course code'],\n",
    "                    \"courseNumber\": row['Course number'],\n",
    "                    \"courseCredits\": 4,\n",
    "                    \"courseDescription\": row['Description'],\n",
    "                    \"courseWebpage\": row['Website'],\n",
    "                    \"courseOutline\": None\n",
    "                   }\n",
    "                  )\n",
    "    \n",
    "                    \n",
    "print(courses[:10])"
   ]
  },
  {
   "cell_type": "code",
   "execution_count": 53,
   "id": "a7d579ec-2d0f-4436-be0a-fd06839ca8c5",
   "metadata": {},
   "outputs": [
    {
     "data": {
      "text/plain": [
       "1706"
      ]
     },
     "execution_count": 53,
     "metadata": {},
     "output_type": "execute_result"
    }
   ],
   "source": [
    "len(courses)"
   ]
  },
  {
   "cell_type": "markdown",
   "id": "d7ce2c44-52b8-4a58-9ffd-01a2f05114ad",
   "metadata": {},
   "source": [
    "## Adding all courses from the Concordia Open Dataset"
   ]
  },
  {
   "cell_type": "code",
   "execution_count": 54,
   "id": "a9fbbffa-e535-4976-94ef-ef4fb68a475b",
   "metadata": {},
   "outputs": [],
   "source": [
    "for course_item in courses:\n",
    "    default_course_outline = \"https://www.concordia.ca/artsci/math-stats/programs/course-outlines.html\"\n",
    "    kg.add((URIRef(ACADDATA + course_item['courseKey']), RDF.type, VIVO.Course))\n",
    "\n",
    "    #Add that concordia offers this course\n",
    "    kg.add((ACADDATA.concordia, ACAD.offers, URIRef(ACADDATA + course_item['courseKey'])))\n",
    "\n",
    "    #Add the name of the course\n",
    "    kg.add((URIRef(ACADDATA + course_item['courseKey']), ACAD.courseName, Literal(course_item['courseName'], datatype=XSD.string)))\n",
    "\n",
    "    #Add the Course Subject (COMP/SOEN/COEN etc)\n",
    "    kg.add((URIRef(ACADDATA + course_item['courseKey']), ACAD.courseSubject, Literal(course_item['courseSubject'], datatype=XSD.string)))\n",
    "\n",
    "    #Add the Course Number \n",
    "    kg.add((URIRef(ACADDATA + course_item['courseKey']), ACAD.courseNumber, Literal(course_item['courseNumber'], datatype=XSD.string)))\n",
    "\n",
    "    #Add the Course Description\n",
    "    kg.add((URIRef(ACADDATA + course_item['courseKey']), ACAD.courseDescription, Literal(course_item['courseDescription'], datatype=XSD.string)))\n",
    "\n",
    "    #Add the Course Credits\n",
    "    kg.add((URIRef(ACADDATA + str(course_item['courseKey'])), ACAD.courseCredits, Literal(course_item['courseCredits'], datatype=XSD.string)))\n",
    "\n",
    "    #Add the Course Website\n",
    "    kg.add((URIRef(ACADDATA + course_item['courseKey']), ACAD.courseWebpage, Literal(course_item['courseWebpage'], datatype=XSD.string)))\n",
    "\n",
    "    #Add the Course Outline\n",
    "    kg.add((URIRef(ACADDATA + course_item['courseKey']), ACAD.courseOutline, Literal(default_course_outline, datatype=XSD.string)))\n"
   ]
  },
  {
   "cell_type": "code",
   "execution_count": 55,
   "id": "ffad471c-154a-4b7f-8d4e-1efdaecf9246",
   "metadata": {},
   "outputs": [
    {
     "data": {
      "text/plain": [
       "<Graph identifier=https://rdflib.github.io/.well-known/genid/rdflib/N3796aaca0bc64a1983915fc7669641d5 (<class 'rdflib.graph.Graph'>)>"
      ]
     },
     "execution_count": 55,
     "metadata": {},
     "output_type": "execute_result"
    }
   ],
   "source": [
    "#Saving progress\n",
    "kg.serialize('GraphData.ttl', format='turtle')"
   ]
  },
  {
   "cell_type": "markdown",
   "id": "5cfa8056-fbf3-4750-bd0b-44c610fe8d47",
   "metadata": {},
   "source": [
    "## Adding Lectures th the Courses"
   ]
  },
  {
   "cell_type": "code",
   "execution_count": 56,
   "id": "c7b61552-2ccd-4b26-9e36-eb3ad9da6703",
   "metadata": {},
   "outputs": [
    {
     "name": "stdout",
     "output_type": "stream",
     "text": [
      "COMP6481_PPS/\n",
      "    Comp6481-Winter-2024_course_outline.pdf\n",
      "    Lecture_1/\n",
      "        Other_Material/\n",
      "            Tutorial_1.pdf\n",
      "            table.png\n",
      "        Readings/\n",
      "            Composition1.java.doc\n",
      "        Slides/\n",
      "            Chapter1.pdf\n",
      "        Worksheets/\n",
      "            Inherit1.java.doc\n",
      "        info.txt\n",
      "    Lecture_2/\n",
      "        Other_Material/\n",
      "            Tutorial_2.pdf\n",
      "            sc.png\n",
      "        Readings/\n",
      "            Polymorphism1.java.doc\n",
      "        Slides/\n",
      "            Chapter2.pdf\n",
      "        Worksheets/\n",
      "            Abstract1.java.doc\n",
      "        info.txt\n",
      "    Lecture_3/\n",
      "        Other_Material/\n",
      "            Tutorial_3.pdf\n",
      "        Readings/\n",
      "            ExceptionHandling1.java.doc\n",
      "        Slides/\n",
      "            Chapter3.pdf\n",
      "        Worksheets/\n",
      "            ExceptionHandling2.java.doc\n",
      "        info.txt\n"
     ]
    }
   ],
   "source": [
    "def print_directory_tree(folder_path, indent=''):\n",
    "    \"\"\"\n",
    "    Print the directory tree of a folder.\n",
    "    \"\"\"\n",
    "    if os.path.isdir(folder_path):\n",
    "        print(indent + os.path.basename(folder_path) + '/')\n",
    "        indent += '    '\n",
    "        for item in sorted(os.listdir(folder_path)):\n",
    "            print_directory_tree(os.path.join(folder_path, item), indent)\n",
    "    else:\n",
    "        print(indent + os.path.basename(folder_path))\n",
    "\n",
    "print_directory_tree('Courses/Courses/COMP6481_PPS')"
   ]
  },
  {
   "cell_type": "code",
   "execution_count": 57,
   "id": "2bece125-45f0-4908-bc01-1aca9612b8ca",
   "metadata": {},
   "outputs": [],
   "source": [
    "def add_lecture(kg, course_uri, lecture_number, lecture_name, lecture_link, slides_path=None, worksheet_path=None, reading_path=None, other_material_path=None):\n",
    "    # Add lecture information\n",
    "    lecture_uri = URIRef(str(course_uri) + '_Lecture' + str(lecture_number))\n",
    "    kg.add((lecture_uri, RDF.type, ACAD.Lecture))\n",
    "    kg.add((lecture_uri, ACAD.lectureNumber, Literal(lecture_number, datatype=XSD.int)))\n",
    "    kg.add((lecture_uri, ACAD.lectureName, Literal(lecture_name, datatype=XSD.string)))\n",
    "    if str(lecture_link) != \"None\":\n",
    "        print(lecture_link)\n",
    "        kg.add((lecture_uri, ACAD.lectureLink, Literal(lecture_link, datatype=XSD.string)))\n",
    "\n",
    "    # Connect lecture to course\n",
    "    kg.add((course_uri, ACAD.hasLecture, lecture_uri))\n",
    "\n",
    "    # Add content for the lecture\n",
    "    if slides_path:\n",
    "        slides_uri = URIRef(slides_path)\n",
    "        kg.add((slides_uri, RDF.type, ACAD.Slides))\n",
    "        kg.add((lecture_uri, ACAD.hasContent, slides_uri))\n",
    "\n",
    "    if worksheet_path:\n",
    "        worksheet_uri = URIRef(worksheet_path)\n",
    "        kg.add((worksheet_uri, RDF.type, ACAD.Worksheet))\n",
    "        kg.add((lecture_uri, ACAD.hasContent, worksheet_uri))\n",
    "\n",
    "    if reading_path:\n",
    "        reading_uri = URIRef(reading_path)\n",
    "        kg.add((reading_uri, RDF.type, ACAD.Reading))\n",
    "        kg.add((lecture_uri, ACAD.hasContent, reading_uri))\n",
    "\n",
    "    if other_material_path:\n",
    "        other_material_uri = URIRef(other_material_path)\n",
    "        kg.add((other_material_uri, RDF.type, ACAD.otherLectureContent))\n",
    "        kg.add((lecture_uri, ACAD.hasContent, other_material_uri))\n",
    "        \n",
    "    print('Added Lecture: ',lecture_uri)\n"
   ]
  },
  {
   "cell_type": "code",
   "execution_count": 58,
   "id": "4a821f7f-d9c9-44bc-abec-b8389441a649",
   "metadata": {},
   "outputs": [],
   "source": [
    "def get_first_file_path(folder_path):\n",
    "    \"\"\"\n",
    "    Get the path of the first file in a folder, or return None if the folder is empty.\n",
    "    \"\"\"\n",
    "    if os.path.isdir(folder_path):\n",
    "        files = os.listdir(folder_path)\n",
    "        if len(files) == 0:\n",
    "            return None\n",
    "        if files:\n",
    "            file0 = os.path.abspath(os.path.join(folder_path, files[0]))\n",
    "            return \"file://\" + urllib.parse.quote(str(file0))\n",
    "    return None\n",
    "\n",
    "def add_course_lectures(kg, course_uri, lectures_path):\n",
    "    \"\"\"\n",
    "    Add lectures of a course to the knowledge graph.\n",
    "    \"\"\"\n",
    "    lecture_number = 1\n",
    "    for lecture_folder in sorted(os.listdir(lectures_path)):\n",
    "        lecture_path = os.path.join(lectures_path, lecture_folder)\n",
    "        if os.path.isdir(lecture_path):\n",
    "            lecture_name = \"Lecture \" + str(lecture_number)\n",
    "            lecture_info_path = os.path.join(lecture_path, \"info.txt\")\n",
    "            slides_path = get_first_file_path(os.path.join(lecture_path, \"Slides\"))\n",
    "            worksheet_path = get_first_file_path(os.path.join(lecture_path, \"Worksheets\"))\n",
    "            readings_path = get_first_file_path(os.path.join(lecture_path, \"Readings\"))\n",
    "            other_material_path = get_first_file_path(os.path.join(lecture_path, \"Other_Material\"))\n",
    "\n",
    "            lecture_link = None\n",
    "            if os.path.exists(lecture_info_path):\n",
    "                with open(lecture_info_path, 'r') as file:\n",
    "                    info_lines = file.readlines()\n",
    "                    for line in info_lines:\n",
    "                        if line.startswith('name'):\n",
    "                            lecture_name = line.split(',')[1].strip()\n",
    "                        elif line.startswith('link'):\n",
    "                            lecture_link = line.split(',')[1].strip()\n",
    "\n",
    "            # Add lecture to knowledge graph\n",
    "            print(course_uri, lecture_number, lecture_name, lecture_link,slides_path,worksheet_path,readings_path,other_material_path)\n",
    "            print(\"-\"*50)\n",
    "            add_lecture(kg, course_uri, lecture_number, lecture_name, lecture_link,\n",
    "                        slides_path=slides_path,\n",
    "                        worksheet_path=worksheet_path,\n",
    "                        reading_path=readings_path,\n",
    "                        other_material_path=other_material_path)\n",
    "\n",
    "            lecture_number += 1\n"
   ]
  },
  {
   "cell_type": "markdown",
   "id": "0cdf9074-7188-4eb5-b5e9-afc664ccbd3b",
   "metadata": {},
   "source": [
    "### Adding lectures from COMP6741_IS"
   ]
  },
  {
   "cell_type": "code",
   "execution_count": 59,
   "id": "ae14256a-89da-49a5-b1af-09cd3d275090",
   "metadata": {},
   "outputs": [
    {
     "name": "stdout",
     "output_type": "stream",
     "text": [
      "http://acad.io/data#COMP6741_IS 1 introduction https://www.youtube.com/watch?v=aep1v2pZ44Y file://C%3A%5CUsers%5Cmsais%5CDesktop%5CConcordia%5Cintelligent%20systems%5CCourses%5CCourses%5CCOMP6741_IS%5CLecture_1%5CSlides%5Cweek1.pdf None file://C%3A%5CUsers%5Cmsais%5CDesktop%5CConcordia%5Cintelligent%20systems%5CCourses%5CCourses%5CCOMP6741_IS%5CLecture_1%5CReadings%5Csyllabus.pdf file://C%3A%5CUsers%5Cmsais%5CDesktop%5CConcordia%5Cintelligent%20systems%5CCourses%5CCourses%5CCOMP6741_IS%5CLecture_1%5COther_Material%5CProject_Assignment1.pdf\n",
      "--------------------------------------------------\n",
      "https://www.youtube.com/watch?v=aep1v2pZ44Y\n",
      "Added Lecture:  http://acad.io/data#COMP6741_IS_Lecture1\n",
      "http://acad.io/data#COMP6741_IS 2 knowledge graphs None file://C%3A%5CUsers%5Cmsais%5CDesktop%5CConcordia%5Cintelligent%20systems%5CCourses%5CCourses%5CCOMP6741_IS%5CLecture_2%5CSlides%5CChapter_2.pdf file://C%3A%5CUsers%5Cmsais%5CDesktop%5CConcordia%5Cintelligent%20systems%5CCourses%5CCourses%5CCOMP6741_IS%5CLecture_2%5CWorksheets%5CWorksheet2_quest.pdf file://C%3A%5CUsers%5Cmsais%5CDesktop%5CConcordia%5Cintelligent%20systems%5CCourses%5CCourses%5CCOMP6741_IS%5CLecture_2%5CReadings%5CWorksheet2.pdf file://C%3A%5CUsers%5Cmsais%5CDesktop%5CConcordia%5Cintelligent%20systems%5CCourses%5CCourses%5CCOMP6741_IS%5CLecture_2%5COther_Material%5Cgraph.png\n",
      "--------------------------------------------------\n",
      "Added Lecture:  http://acad.io/data#COMP6741_IS_Lecture2\n",
      "http://acad.io/data#COMP6741_IS 3 vocabularies https://www.youtube.com/watch?v=yX0TDFx7Obw file://C%3A%5CUsers%5Cmsais%5CDesktop%5CConcordia%5Cintelligent%20systems%5CCourses%5CCourses%5CCOMP6741_IS%5CLecture_3%5CSlides%5CChapter_3.pdf file://C%3A%5CUsers%5Cmsais%5CDesktop%5CConcordia%5Cintelligent%20systems%5CCourses%5CCourses%5CCOMP6741_IS%5CLecture_3%5CWorksheets%5Cworksheet2_quest.pdf file://C%3A%5CUsers%5Cmsais%5CDesktop%5CConcordia%5Cintelligent%20systems%5CCourses%5CCourses%5CCOMP6741_IS%5CLecture_3%5CReadings%5Cworksheet2.pdf file://C%3A%5CUsers%5Cmsais%5CDesktop%5CConcordia%5Cintelligent%20systems%5CCourses%5CCourses%5CCOMP6741_IS%5CLecture_3%5COther_Material%5Cexample_graph.jpg\n",
      "--------------------------------------------------\n",
      "https://www.youtube.com/watch?v=yX0TDFx7Obw\n",
      "Added Lecture:  http://acad.io/data#COMP6741_IS_Lecture3\n"
     ]
    }
   ],
   "source": [
    "add_course_lectures(kg, URIRef(ACADDATA + 'COMP6741_IS'), 'Courses/Courses/COMP6741_IS')"
   ]
  },
  {
   "cell_type": "markdown",
   "id": "570cc002-8a2f-46ac-832b-bbed25d57b4c",
   "metadata": {},
   "source": [
    "### Adding lectures from COMP6481_PPS"
   ]
  },
  {
   "cell_type": "code",
   "execution_count": 60,
   "id": "4a3ca00c-75c7-4141-b625-4fc51434b0dd",
   "metadata": {},
   "outputs": [
    {
     "name": "stdout",
     "output_type": "stream",
     "text": [
      "http://acad.io/data#COMP6481_PPS 1 intro to pps https://www.youtube.com/watch?v=t9WKOcRB63Q&list=PLJ5C_6qdAvBFzL9su5J-FX8x80BMhkPy1 file://C%3A%5CUsers%5Cmsais%5CDesktop%5CConcordia%5Cintelligent%20systems%5CCourses%5CCourses%5CCOMP6481_PPS%5CLecture_1%5CSlides%5CChapter1.pdf file://C%3A%5CUsers%5Cmsais%5CDesktop%5CConcordia%5Cintelligent%20systems%5CCourses%5CCourses%5CCOMP6481_PPS%5CLecture_1%5CWorksheets%5CInherit1.java.doc file://C%3A%5CUsers%5Cmsais%5CDesktop%5CConcordia%5Cintelligent%20systems%5CCourses%5CCourses%5CCOMP6481_PPS%5CLecture_1%5CReadings%5CComposition1.java.doc file://C%3A%5CUsers%5Cmsais%5CDesktop%5CConcordia%5Cintelligent%20systems%5CCourses%5CCourses%5CCOMP6481_PPS%5CLecture_1%5COther_Material%5Ctable.png\n",
      "--------------------------------------------------\n",
      "https://www.youtube.com/watch?v=t9WKOcRB63Q&list=PLJ5C_6qdAvBFzL9su5J-FX8x80BMhkPy1\n",
      "Added Lecture:  http://acad.io/data#COMP6481_PPS_Lecture1\n",
      "http://acad.io/data#COMP6481_PPS 2 polymorphism https://www.youtube.com/watch?v=tIWm3I_Zu7I file://C%3A%5CUsers%5Cmsais%5CDesktop%5CConcordia%5Cintelligent%20systems%5CCourses%5CCourses%5CCOMP6481_PPS%5CLecture_2%5CSlides%5CChapter2.pdf file://C%3A%5CUsers%5Cmsais%5CDesktop%5CConcordia%5Cintelligent%20systems%5CCourses%5CCourses%5CCOMP6481_PPS%5CLecture_2%5CWorksheets%5CAbstract1.java.doc file://C%3A%5CUsers%5Cmsais%5CDesktop%5CConcordia%5Cintelligent%20systems%5CCourses%5CCourses%5CCOMP6481_PPS%5CLecture_2%5CReadings%5CPolymorphism1.java.doc file://C%3A%5CUsers%5Cmsais%5CDesktop%5CConcordia%5Cintelligent%20systems%5CCourses%5CCourses%5CCOMP6481_PPS%5CLecture_2%5COther_Material%5Csc.png\n",
      "--------------------------------------------------\n",
      "https://www.youtube.com/watch?v=tIWm3I_Zu7I\n",
      "Added Lecture:  http://acad.io/data#COMP6481_PPS_Lecture2\n",
      "http://acad.io/data#COMP6481_PPS 3 exceptions None file://C%3A%5CUsers%5Cmsais%5CDesktop%5CConcordia%5Cintelligent%20systems%5CCourses%5CCourses%5CCOMP6481_PPS%5CLecture_3%5CSlides%5CChapter3.pdf file://C%3A%5CUsers%5Cmsais%5CDesktop%5CConcordia%5Cintelligent%20systems%5CCourses%5CCourses%5CCOMP6481_PPS%5CLecture_3%5CWorksheets%5CExceptionHandling2.java.doc file://C%3A%5CUsers%5Cmsais%5CDesktop%5CConcordia%5Cintelligent%20systems%5CCourses%5CCourses%5CCOMP6481_PPS%5CLecture_3%5CReadings%5CExceptionHandling1.java.doc file://C%3A%5CUsers%5Cmsais%5CDesktop%5CConcordia%5Cintelligent%20systems%5CCourses%5CCourses%5CCOMP6481_PPS%5CLecture_3%5COther_Material%5CTutorial_3.pdf\n",
      "--------------------------------------------------\n",
      "Added Lecture:  http://acad.io/data#COMP6481_PPS_Lecture3\n"
     ]
    }
   ],
   "source": [
    "add_course_lectures(kg, URIRef(ACADDATA + 'COMP6481_PPS'), 'Courses/Courses/COMP6481_PPS')"
   ]
  },
  {
   "cell_type": "code",
   "execution_count": 61,
   "id": "497de562-5b09-4bce-be4e-0cb788c20ca2",
   "metadata": {},
   "outputs": [],
   "source": [
    "\n",
    "# # Example usage:\n",
    "# add_lecture(kg, URIRef(ACADDATA + 'COMP6481_PPS'), 1, \"Introduction to Programming\", \"https://example.com/lecture1\",\n",
    "#             slides_path=\"file:///path/to/slides1.pdf\",\n",
    "#             worksheet_path=\"file:///path/to/worksheet1.pdf\",\n",
    "#             reading_path=\"file:///path/to/reading1.pdf\",\n",
    "#             other_material_path=\"file:///path/to/other_material1.pdf\")"
   ]
  },
  {
   "cell_type": "markdown",
   "id": "8c73b294-c093-4548-8024-028a84295e62",
   "metadata": {},
   "source": [
    "### Saving Progress"
   ]
  },
  {
   "cell_type": "code",
   "execution_count": 62,
   "id": "08f5485d-8a45-4548-92c2-12acf9efbccd",
   "metadata": {},
   "outputs": [
    {
     "data": {
      "text/plain": [
       "<Graph identifier=https://rdflib.github.io/.well-known/genid/rdflib/N3796aaca0bc64a1983915fc7669641d5 (<class 'rdflib.graph.Graph'>)>"
      ]
     },
     "execution_count": 62,
     "metadata": {},
     "output_type": "execute_result"
    }
   ],
   "source": [
    "#Saving progress\n",
    "kg.serialize('GraphData.ttl', format='turtle')"
   ]
  },
  {
   "cell_type": "markdown",
   "id": "7f473f6a-17a0-45ea-8244-cca3d03d36d6",
   "metadata": {},
   "source": [
    "# Adding Topics"
   ]
  },
  {
   "cell_type": "code",
   "execution_count": 63,
   "id": "bd4e7560-2b0b-4943-a41a-7c769361605b",
   "metadata": {},
   "outputs": [],
   "source": [
    "def add_topic(kg, topic_name, course_id, lecture_number, topic_link, course_uri):\n",
    "    \"\"\"\n",
    "    Add a topic to the knowledge graph.\n",
    "    \"\"\"\n",
    "    topic_uri = URIRef(topic_name.replace(' ', '_'))\n",
    "\n",
    "    lecture_uri = URIRef(course_uri + '_' + lecture_number)\n",
    "    \n",
    "    # Add triples for the topic\n",
    "    kg.add((topic_uri, RDF.type, ACAD.Topic))\n",
    "    kg.add((topic_uri, ACAD.topicName, Literal(topic_name, datatype=XSD.string)))\n",
    "    kg.add((topic_uri, ACAD.hasTopicLink, Literal(topic_link, datatype=XSD.string)))\n",
    "\n",
    "    # Connect the topic to a lecture\n",
    "    kg.add((topic_uri, ACAD.hasProvenanceInformation, lecture_uri))\n",
    "    \n",
    "    # Connect the topic to the course\n",
    "    kg.add((course_uri, ACAD.coversTopic, topic_uri))\n"
   ]
  },
  {
   "cell_type": "markdown",
   "id": "b271e696-905b-4df0-9322-d962b6ee60e0",
   "metadata": {},
   "source": [
    "### Adding topics from COMP6741"
   ]
  },
  {
   "cell_type": "code",
   "execution_count": 64,
   "id": "62ce8d74-27b4-43d4-9b1a-ac7e385e7e6b",
   "metadata": {},
   "outputs": [],
   "source": [
    "add_topic(kg, \"Knowledge Graphs\", \"COMP6741_IS\", \"Lecture2\", \"https://www.wikidata.org/wiki/Q33002955\", URIRef(ACADDATA + 'COMP6741_IS'))\n",
    "add_topic(kg, \"Vocabularies & Ontologies\", \"COMP6741_IS\", \"Lecture2\", \"https://www.wikidata.org/wiki/Q324254\", URIRef(ACADDATA + 'COMP6741_IS'))\n",
    "add_topic(kg, \"Personalization & Recommender Systems\", \"COMP6741_IS\", \"Lecture5\", \"https://www.wikidata.org/wiki/Q554950\", URIRef(ACADDATA + 'COMP6741_IS'))"
   ]
  },
  {
   "cell_type": "markdown",
   "id": "5b5d50d4-362a-4916-8dba-cc00ff33aa6a",
   "metadata": {},
   "source": [
    "### Adding topics from COMP6481"
   ]
  },
  {
   "cell_type": "code",
   "execution_count": 65,
   "id": "b3b03810-3d55-4a28-bc6f-cc68852a3f5a",
   "metadata": {},
   "outputs": [],
   "source": [
    "add_topic(kg, \"Polymorphism\", \"COMP6481_PPS\", \"Lecture2\", \"https://www.wikidata.org/wiki/Q907364\", URIRef(ACADDATA + 'COMP6481_PPS'))\n",
    "add_topic(kg, \"Algorithm Analysis\", \"COMP6481_PPS\", \"Lecture1\", \"https://www.wikidata.org/wiki/Q333464\", URIRef(ACADDATA + 'COMP6481_PPS'))\n",
    "add_topic(kg, \"Recursion\", \"COMP6481_PPS\", \"Lecture3\",\"https://www.wikidata.org/wiki/Q264164\", URIRef(ACADDATA + 'COMP6481_PPS'))"
   ]
  },
  {
   "cell_type": "code",
   "execution_count": 66,
   "id": "9d03a873-f765-4e89-bc94-d430a2ae3e87",
   "metadata": {},
   "outputs": [
    {
     "data": {
      "text/plain": [
       "<Graph identifier=https://rdflib.github.io/.well-known/genid/rdflib/N3796aaca0bc64a1983915fc7669641d5 (<class 'rdflib.graph.Graph'>)>"
      ]
     },
     "execution_count": 66,
     "metadata": {},
     "output_type": "execute_result"
    }
   ],
   "source": [
    "#Saving progress\n",
    "kg.serialize('GraphData.ttl', format='turtle')"
   ]
  },
  {
   "cell_type": "markdown",
   "id": "3c90677d-649c-487f-831b-16a19ec018ef",
   "metadata": {},
   "source": [
    "# Adding Student Data"
   ]
  },
  {
   "cell_type": "code",
   "execution_count": 67,
   "id": "cf184db5-d27a-431b-aab6-c3b8635fa9b1",
   "metadata": {},
   "outputs": [
    {
     "data": {
      "text/html": [
       "<div>\n",
       "<style scoped>\n",
       "    .dataframe tbody tr th:only-of-type {\n",
       "        vertical-align: middle;\n",
       "    }\n",
       "\n",
       "    .dataframe tbody tr th {\n",
       "        vertical-align: top;\n",
       "    }\n",
       "\n",
       "    .dataframe thead th {\n",
       "        text-align: right;\n",
       "    }\n",
       "</style>\n",
       "<table border=\"1\" class=\"dataframe\">\n",
       "  <thead>\n",
       "    <tr style=\"text-align: right;\">\n",
       "      <th></th>\n",
       "      <th>ID</th>\n",
       "      <th>Name</th>\n",
       "      <th>Email</th>\n",
       "      <th>Completed Courses</th>\n",
       "      <th>Completed Grade</th>\n",
       "      <th>Semester attempted</th>\n",
       "    </tr>\n",
       "  </thead>\n",
       "  <tbody>\n",
       "    <tr>\n",
       "      <th>0</th>\n",
       "      <td>101</td>\n",
       "      <td>Shrawan Malyala</td>\n",
       "      <td>msaishrawan@gmail.com</td>\n",
       "      <td>COMP6741_IS</td>\n",
       "      <td>A+</td>\n",
       "      <td>241.0</td>\n",
       "    </tr>\n",
       "    <tr>\n",
       "      <th>1</th>\n",
       "      <td>101</td>\n",
       "      <td>Shrawan Malyala</td>\n",
       "      <td>msaishrawan@gmail.com</td>\n",
       "      <td>COMP6481_PPS</td>\n",
       "      <td>A</td>\n",
       "      <td>231.0</td>\n",
       "    </tr>\n",
       "    <tr>\n",
       "      <th>2</th>\n",
       "      <td>101</td>\n",
       "      <td>Shrawan Malyala</td>\n",
       "      <td>msaishrawan@gmail.com</td>\n",
       "      <td>GCS_294</td>\n",
       "      <td>B+</td>\n",
       "      <td>232.0</td>\n",
       "    </tr>\n",
       "    <tr>\n",
       "      <th>3</th>\n",
       "      <td>101</td>\n",
       "      <td>Shrawan Malyala</td>\n",
       "      <td>msaishrawan@gmail.com</td>\n",
       "      <td>GCS_300</td>\n",
       "      <td>C</td>\n",
       "      <td>232.0</td>\n",
       "    </tr>\n",
       "    <tr>\n",
       "      <th>4</th>\n",
       "      <td>101</td>\n",
       "      <td>Shrawan Malyala</td>\n",
       "      <td>msaishrawan@gmail.com</td>\n",
       "      <td>GCS_300</td>\n",
       "      <td>A</td>\n",
       "      <td>241.0</td>\n",
       "    </tr>\n",
       "    <tr>\n",
       "      <th>5</th>\n",
       "      <td>102</td>\n",
       "      <td>Sraddha Bhattacharjee</td>\n",
       "      <td>bhattacharjeesraddha@gmail.com</td>\n",
       "      <td>COMP6741_IS</td>\n",
       "      <td>A+</td>\n",
       "      <td>241.0</td>\n",
       "    </tr>\n",
       "    <tr>\n",
       "      <th>6</th>\n",
       "      <td>102</td>\n",
       "      <td>Sraddha Bhattacharjee</td>\n",
       "      <td>bhattacharjeesraddha@gmail.com</td>\n",
       "      <td>COMP6481_PPS</td>\n",
       "      <td>A+</td>\n",
       "      <td>231.0</td>\n",
       "    </tr>\n",
       "    <tr>\n",
       "      <th>7</th>\n",
       "      <td>102</td>\n",
       "      <td>Sraddha Bhattacharjee</td>\n",
       "      <td>bhattacharjeesraddha@gmail.com</td>\n",
       "      <td>GCS_294</td>\n",
       "      <td>A</td>\n",
       "      <td>232.0</td>\n",
       "    </tr>\n",
       "    <tr>\n",
       "      <th>8</th>\n",
       "      <td>102</td>\n",
       "      <td>Sraddha Bhattacharjee</td>\n",
       "      <td>bhattacharjeesraddha@gmail.com</td>\n",
       "      <td>GCS_300</td>\n",
       "      <td>B+</td>\n",
       "      <td>232.0</td>\n",
       "    </tr>\n",
       "    <tr>\n",
       "      <th>9</th>\n",
       "      <td>106</td>\n",
       "      <td>Abhraham Lincoln</td>\n",
       "      <td>abe.lincoln@concordia.ca</td>\n",
       "      <td>NaN</td>\n",
       "      <td>NaN</td>\n",
       "      <td>NaN</td>\n",
       "    </tr>\n",
       "    <tr>\n",
       "      <th>10</th>\n",
       "      <td>107</td>\n",
       "      <td>Elon Musk</td>\n",
       "      <td>elon.musk@concordia.ca</td>\n",
       "      <td>NaN</td>\n",
       "      <td>NaN</td>\n",
       "      <td>NaN</td>\n",
       "    </tr>\n",
       "    <tr>\n",
       "      <th>11</th>\n",
       "      <td>108</td>\n",
       "      <td>John Doe</td>\n",
       "      <td>john.doe@gmail.com</td>\n",
       "      <td>NaN</td>\n",
       "      <td>NaN</td>\n",
       "      <td>NaN</td>\n",
       "    </tr>\n",
       "    <tr>\n",
       "      <th>12</th>\n",
       "      <td>109</td>\n",
       "      <td>Tony Stark</td>\n",
       "      <td>anthony.stark@starkindustries.com</td>\n",
       "      <td>NaN</td>\n",
       "      <td>NaN</td>\n",
       "      <td>NaN</td>\n",
       "    </tr>\n",
       "    <tr>\n",
       "      <th>13</th>\n",
       "      <td>110</td>\n",
       "      <td>Ussain Bolt</td>\n",
       "      <td>ussain.fastestmanalive@gmail.com</td>\n",
       "      <td>NaN</td>\n",
       "      <td>NaN</td>\n",
       "      <td>NaN</td>\n",
       "    </tr>\n",
       "  </tbody>\n",
       "</table>\n",
       "</div>"
      ],
      "text/plain": [
       "     ID                   Name                              Email  \\\n",
       "0   101        Shrawan Malyala              msaishrawan@gmail.com   \n",
       "1   101        Shrawan Malyala              msaishrawan@gmail.com   \n",
       "2   101        Shrawan Malyala              msaishrawan@gmail.com   \n",
       "3   101        Shrawan Malyala              msaishrawan@gmail.com   \n",
       "4   101        Shrawan Malyala              msaishrawan@gmail.com   \n",
       "5   102  Sraddha Bhattacharjee     bhattacharjeesraddha@gmail.com   \n",
       "6   102  Sraddha Bhattacharjee     bhattacharjeesraddha@gmail.com   \n",
       "7   102  Sraddha Bhattacharjee     bhattacharjeesraddha@gmail.com   \n",
       "8   102  Sraddha Bhattacharjee     bhattacharjeesraddha@gmail.com   \n",
       "9   106       Abhraham Lincoln           abe.lincoln@concordia.ca   \n",
       "10  107              Elon Musk             elon.musk@concordia.ca   \n",
       "11  108               John Doe                 john.doe@gmail.com   \n",
       "12  109             Tony Stark  anthony.stark@starkindustries.com   \n",
       "13  110            Ussain Bolt   ussain.fastestmanalive@gmail.com   \n",
       "\n",
       "   Completed Courses Completed Grade  Semester attempted  \n",
       "0        COMP6741_IS              A+               241.0  \n",
       "1       COMP6481_PPS               A               231.0  \n",
       "2            GCS_294              B+               232.0  \n",
       "3            GCS_300               C               232.0  \n",
       "4            GCS_300               A               241.0  \n",
       "5        COMP6741_IS              A+               241.0  \n",
       "6       COMP6481_PPS              A+               231.0  \n",
       "7            GCS_294               A               232.0  \n",
       "8            GCS_300              B+               232.0  \n",
       "9                NaN             NaN                 NaN  \n",
       "10               NaN             NaN                 NaN  \n",
       "11               NaN             NaN                 NaN  \n",
       "12               NaN             NaN                 NaN  \n",
       "13               NaN             NaN                 NaN  "
      ]
     },
     "execution_count": 67,
     "metadata": {},
     "output_type": "execute_result"
    }
   ],
   "source": [
    "student_df = pd.read_csv('studentdata.csv')\n",
    "student_df"
   ]
  },
  {
   "cell_type": "code",
   "execution_count": 68,
   "id": "a7a140a2-b3b6-49e3-aa29-691ecc86be0a",
   "metadata": {},
   "outputs": [],
   "source": [
    "def add_students(kg, students_array, university_uri):\n",
    "    \"\"\"\n",
    "    Add students to the knowledge graph.\n",
    "    \"\"\"\n",
    "    for student_info in students_array:\n",
    "        student_id, student_name, student_email = student_info\n",
    "\n",
    "        if university_uri.endswith(\"concordia\"):\n",
    "            prefix = \"concordia_student_\"\n",
    "        elif university_uri.endswith(\"mcgill\"):\n",
    "            prefix = \"mcgill_student_\"\n",
    "        else:\n",
    "            prefix = \"student_\"\n",
    "        # Create student URI\n",
    "        student_uri = URIRef(ACADDATA + prefix + str(student_id))\n",
    "        \n",
    "        # Add triples for the student\n",
    "        kg.add((student_uri, RDF.type, ACAD.Student))\n",
    "        kg.add((student_uri, ACAD.studentID, Literal(student_id, datatype=XSD.string)))\n",
    "        kg.add((student_uri, ACAD.studentName, Literal(student_name, datatype=XSD.string)))\n",
    "        kg.add((student_uri, ACAD.studentEmail, Literal(student_email, datatype=XSD.string)))\n",
    "        kg.add((student_uri, ACAD.studiesAt, university_uri))\n",
    "        print(f\"Added {student_id}_{student_name} to the KG sucessfully as {student_uri}\")"
   ]
  },
  {
   "cell_type": "code",
   "execution_count": 69,
   "id": "30c630dc-f59c-4d49-8454-35379fe638e5",
   "metadata": {},
   "outputs": [
    {
     "name": "stdout",
     "output_type": "stream",
     "text": [
      "Added 101_Shrawan Malyala to the KG sucessfully as http://acad.io/data#concordia_student_101\n",
      "Added 102_Sraddha Bhattacharjee to the KG sucessfully as http://acad.io/data#concordia_student_102\n",
      "Added 106_Abhraham Lincoln to the KG sucessfully as http://acad.io/data#concordia_student_106\n",
      "Added 107_Elon Musk to the KG sucessfully as http://acad.io/data#concordia_student_107\n",
      "Added 108_John Doe to the KG sucessfully as http://acad.io/data#concordia_student_108\n",
      "Added 109_Tony Stark to the KG sucessfully as http://acad.io/data#concordia_student_109\n",
      "Added 110_Ussain Bolt to the KG sucessfully as http://acad.io/data#concordia_student_110\n"
     ]
    }
   ],
   "source": [
    "student_info = student_df[['ID', 'Name', 'Email']].drop_duplicates()\n",
    "\n",
    "# Converting DataFrame to 2D array\n",
    "student_array = student_info.values.tolist()\n",
    "\n",
    "add_students(kg, student_array, concordia_uri)\n"
   ]
  },
  {
   "cell_type": "markdown",
   "id": "b71a4eba-c594-4b90-8803-7f9bdd055a7e",
   "metadata": {},
   "source": [
    "### Adding their grades"
   ]
  },
  {
   "cell_type": "code",
   "execution_count": 70,
   "id": "0191e0d7-29dc-47a5-8173-d02c74c2ee30",
   "metadata": {},
   "outputs": [],
   "source": [
    "def add_completed_courses(kg, completed_courses_dict, university_uri):\n",
    "    \"\"\"\n",
    "    Add completed courses information to the knowledge graph.\n",
    "    \"\"\"\n",
    "    for student_id, courses_info in completed_courses_dict.items():\n",
    "        # Create student URI\n",
    "        if university_uri.endswith(\"concordia\"):\n",
    "            prefix = \"concordia_student_\"\n",
    "        elif university_uri.endswith(\"mcgill\"):\n",
    "            prefix = \"mcgill_student_\"\n",
    "        else:\n",
    "            prefix = \"student_\"\n",
    "        # Create student URI\n",
    "        student_uri = URIRef(ACADDATA + prefix + str(student_id))\n",
    "\n",
    "        for course_info in courses_info:\n",
    "            course_name, course_grade, course_semester = course_info\n",
    "\n",
    "            # Create completed course URI\n",
    "            completed_course_uri = URIRef(ACADDATA + 'completed_course_' + str(student_id) + '_' + course_name)\n",
    "\n",
    "            # Add triples for completed course\n",
    "            kg.add((completed_course_uri, RDF.type, ACAD.CompletedCourse))\n",
    "            kg.add((completed_course_uri, ACAD.hasCourse, URIRef(ACADDATA + course_name)))\n",
    "            kg.add((completed_course_uri, ACAD.courseGrade, Literal(course_grade, datatype=XSD.string)))\n",
    "            kg.add((completed_course_uri, ACAD.courseSemester, Literal(course_semester, datatype=XSD.string)))\n",
    "\n",
    "            # Connect completed course to student\n",
    "            kg.add((student_uri, ACAD.completedCourse, completed_course_uri))\n",
    "            print(f\"Added {student_id} completed {course_name} to the KG sucessfully as {completed_course_uri}\")"
   ]
  },
  {
   "cell_type": "code",
   "execution_count": 71,
   "id": "815146fd-9b2b-41af-a5bb-79189d914475",
   "metadata": {},
   "outputs": [
    {
     "name": "stdout",
     "output_type": "stream",
     "text": [
      "{101: [['COMP6741_IS', 'A+', 241.0], ['COMP6481_PPS', 'A', 231.0], ['GCS_294', 'B+', 232.0], ['GCS_300', 'C', 232.0], ['GCS_300', 'A', 241.0]], 102: [['COMP6741_IS', 'A+', 241.0], ['COMP6481_PPS', 'A+', 231.0], ['GCS_294', 'A', 232.0], ['GCS_300', 'B+', 232.0]]}\n",
      "Added 101 completed COMP6741_IS to the KG sucessfully as http://acad.io/data#completed_course_101_COMP6741_IS\n",
      "Added 101 completed COMP6481_PPS to the KG sucessfully as http://acad.io/data#completed_course_101_COMP6481_PPS\n",
      "Added 101 completed GCS_294 to the KG sucessfully as http://acad.io/data#completed_course_101_GCS_294\n",
      "Added 101 completed GCS_300 to the KG sucessfully as http://acad.io/data#completed_course_101_GCS_300\n",
      "Added 101 completed GCS_300 to the KG sucessfully as http://acad.io/data#completed_course_101_GCS_300\n",
      "Added 102 completed COMP6741_IS to the KG sucessfully as http://acad.io/data#completed_course_102_COMP6741_IS\n",
      "Added 102 completed COMP6481_PPS to the KG sucessfully as http://acad.io/data#completed_course_102_COMP6481_PPS\n",
      "Added 102 completed GCS_294 to the KG sucessfully as http://acad.io/data#completed_course_102_GCS_294\n",
      "Added 102 completed GCS_300 to the KG sucessfully as http://acad.io/data#completed_course_102_GCS_300\n"
     ]
    }
   ],
   "source": [
    "grouped = student_df.groupby('ID')\n",
    "\n",
    "# Initializing an empty dictionary to store the result\n",
    "students_result_dict = {}\n",
    "\n",
    "# Iterating over groups\n",
    "for student_id, group in grouped:\n",
    "    # Filtering out rows with NaN values\n",
    "    group = group.dropna(subset=['Completed Courses', 'Completed Grade', 'Semester attempted'])\n",
    "    \n",
    "    # Checking if there are any valid records for the student\n",
    "    if not group.empty:\n",
    "        # Extracting relevant columns and converting to 2D array\n",
    "        sub_array = group[['Completed Courses', 'Completed Grade', 'Semester attempted']].values.tolist()\n",
    "        \n",
    "        # Adding the sub-array to the dictionary\n",
    "        students_result_dict[student_id] = sub_array\n",
    "\n",
    "print(students_result_dict)\n",
    "\n",
    "add_completed_courses(kg, students_result_dict, concordia_uri)"
   ]
  },
  {
   "cell_type": "code",
   "execution_count": 34,
   "id": "f2c95e51-26d8-4b4e-8dfe-f00cf48e6c6f",
   "metadata": {},
   "outputs": [
    {
     "data": {
      "text/plain": [
       "[['COMP6741_IS', 'A+', 241.0],\n",
       " ['COMP6481_PPS', 'A', 231.0],\n",
       " ['ELEC-6131', 'B+', 232.0],\n",
       " ['ELEC-6231', 'C', 232.0],\n",
       " ['ELEC-6232', 'A', 241.0]]"
      ]
     },
     "execution_count": 34,
     "metadata": {},
     "output_type": "execute_result"
    }
   ],
   "source": [
    "students_result_dict[101]"
   ]
  },
  {
   "cell_type": "markdown",
   "id": "e87604e8-3c77-4dd5-a16c-2c1a60474fd3",
   "metadata": {},
   "source": [
    "### Saving Progress"
   ]
  },
  {
   "cell_type": "code",
   "execution_count": 35,
   "id": "eedcaa0f-00bf-4be5-82df-992a82396892",
   "metadata": {},
   "outputs": [
    {
     "data": {
      "text/plain": [
       "<Graph identifier=https://rdflib.github.io/.well-known/genid/rdflib/N3738965afb6443a5825541ca7463c652 (<class 'rdflib.graph.Graph'>)>"
      ]
     },
     "execution_count": 35,
     "metadata": {},
     "output_type": "execute_result"
    }
   ],
   "source": [
    "#Saving progress\n",
    "kg.serialize('GraphData.ttl', format='turtle')"
   ]
  },
  {
   "cell_type": "code",
   "execution_count": 36,
   "id": "cd4e1b0d-acdc-4b6d-a39f-e10e3baff807",
   "metadata": {
    "scrolled": true
   },
   "outputs": [],
   "source": [
    "\n",
    "# for s,p,o in g.triples((None,None,ACAD.Topic)):\n",
    "#     print(s,p,o)"
   ]
  },
  {
   "cell_type": "code",
   "execution_count": 37,
   "id": "f7f69a5b-921a-44ca-80e4-5811b9e53e36",
   "metadata": {},
   "outputs": [],
   "source": [
    "g = Graph()\n",
    "g.parse(\"GraphData.ttl\", format='n3')\n",
    "from rdflib.plugins.sparql import prepareQuery\n",
    "# This is an example for the following query: Which [topics] are covered in [course] [lecture]?\n",
    "\n",
    "# Define the SPARQL query\n",
    "query = prepareQuery(\"\"\"\n",
    "PREFIX vivo: <http://vivoweb.org/ontology/core#>\n",
    "PREFIX owl: <http://www.w3.org/2002/07/owl#>\n",
    "PREFIX xsd: <http://www.w3.org/2001/XMLSchema#>\n",
    "PREFIX rdfs: <http://www.w3.org/2000/01/rdf-schema#>\n",
    "PREFIX rdf: <http://www.w3.org/1999/02/22-rdf-syntax-ns#>\n",
    "PREFIX acad: <http://acad.io/schema#>\n",
    "SELECT DISTINCT ?course  ?topic ?topicName ?lecture\n",
    "    WHERE {\n",
    "  \n",
    "  \t  ?course rdf:type vivo:Course ;\n",
    "              acad:courseName \"Intelligent Systems\" ;\n",
    "  \t\t\t  acad:hasLecture <http://acad.io/data#COMP6741_IS_Lecture2>.\n",
    " \n",
    "  \t  ?topic rdf:type acad:Topic ;\n",
    "            acad:hasProvenanceInformation <http://acad.io/data#COMP6741_IS_Lecture2> ;\n",
    "            acad:topicName ?topicName           \n",
    "}\n",
    "\n",
    "\"\"\")\n",
    "\n",
    "results = g.query(query)\n",
    "\n",
    "# Print the results\n",
    "for row in results:\n",
    "    print(row.topicName)"
   ]
  },
  {
   "cell_type": "code",
   "execution_count": 38,
   "id": "1d56f3bb-2f25-45a7-9b99-5ec7ffd4c3a9",
   "metadata": {},
   "outputs": [],
   "source": [
    "for i in results:\n",
    "    print(i)"
   ]
  },
  {
   "cell_type": "code",
   "execution_count": null,
   "id": "de9ad8eb-dcab-468e-9339-36426f20842e",
   "metadata": {},
   "outputs": [],
   "source": []
  },
  {
   "cell_type": "code",
   "execution_count": null,
   "id": "464179f1-2df8-417f-a5de-f1a4568e8b79",
   "metadata": {},
   "outputs": [],
   "source": []
  }
 ],
 "metadata": {
  "kernelspec": {
   "display_name": "Python 3 (ipykernel)",
   "language": "python",
   "name": "python3"
  },
  "language_info": {
   "codemirror_mode": {
    "name": "ipython",
    "version": 3
   },
   "file_extension": ".py",
   "mimetype": "text/x-python",
   "name": "python",
   "nbconvert_exporter": "python",
   "pygments_lexer": "ipython3",
   "version": "3.11.5"
  }
 },
 "nbformat": 4,
 "nbformat_minor": 5
}
