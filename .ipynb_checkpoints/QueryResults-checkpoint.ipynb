{
 "cells": [
  {
   "cell_type": "code",
   "execution_count": 8,
   "id": "a3ef5f81-5774-4e45-ae32-9dc90b89a394",
   "metadata": {},
   "outputs": [],
   "source": [
    "import requests\n",
    "import json\n",
    "import csv\n",
    "# Define the endpoint URL\n",
    "endpoint_url = 'http://localhost:3030/intelligent_systems/sparql'"
   ]
  },
  {
   "cell_type": "code",
   "execution_count": 11,
   "id": "26fbdfba-140f-45b3-a1df-674a32682374",
   "metadata": {},
   "outputs": [],
   "source": [
    "def save_query_and_response(query_text, response_data, query_file_path, response_file_path):\n",
    "    # Save SPARQL query to a text file\n",
    "    with open(query_file_path, 'w', encoding='utf-8') as query_file:\n",
    "        query_file.write(query_text)\n",
    "\n",
    "    # Save response data to a CSV file\n",
    "    with open(response_file_path, 'w', newline='', encoding='utf-8') as response_file:\n",
    "        csv_writer = csv.DictWriter(response_file, fieldnames=response_data['head']['vars'])\n",
    "        csv_writer.writeheader()\n",
    "        for binding in response_data['results']['bindings']:\n",
    "            csv_writer.writerow({key: binding[key]['value'] for key in response_data['head']['vars']})\n"
   ]
  },
  {
   "cell_type": "markdown",
   "id": "d76ca970-2ab4-4f0f-b666-73527878f24b",
   "metadata": {},
   "source": [
    "## 1. List all courses offered by [university]\n"
   ]
  },
  {
   "cell_type": "code",
   "execution_count": 12,
   "id": "e28c8365-dae1-4f84-886a-7bd3d64f1fc4",
   "metadata": {},
   "outputs": [
    {
     "name": "stdout",
     "output_type": "stream",
     "text": [
      "1720\n",
      "[{'courseName': {'type': 'literal', 'value': 'Principles of Medical Imaging'}, 'courseSubject': {'type': 'literal', 'value': 'PHYS'}, 'courseNumber': {'type': 'literal', 'value': '665'}}, {'courseName': {'type': 'literal', 'value': 'Justice and Social Conflict in a Globalized World'}, 'courseSubject': {'type': 'literal', 'value': 'RELI'}, 'courseNumber': {'type': 'literal', 'value': '312'}}, {'courseName': {'type': 'literal', 'value': 'Fire and Smoke Control in Buildings'}, 'courseSubject': {'type': 'literal', 'value': 'BLDG'}, 'courseNumber': {'type': 'literal', 'value': '6651'}}, {'courseName': {'type': 'literal', 'value': 'Handling and Stability of Road Vehicles'}, 'courseSubject': {'type': 'literal', 'value': 'MECH'}, 'courseNumber': {'type': 'literal', 'value': '7711'}}, {'courseName': {'type': 'literal', 'value': 'Advanced Concepts in Quality Improvement'}, 'courseSubject': {'type': 'literal', 'value': 'INDU'}, 'courseNumber': {'type': 'literal', 'value': '6341'}}]\n"
     ]
    }
   ],
   "source": [
    "# Define the SPARQL query\n",
    "university_name = \"Concordia University\"\n",
    "\n",
    "sparql_query = f\"\"\"\n",
    "PREFIX vivo: <http://vivoweb.org/ontology/core#>\n",
    "PREFIX owl: <http://www.w3.org/2002/07/owl#>\n",
    "PREFIX xsd: <http://www.w3.org/2001/XMLSchema#>\n",
    "PREFIX rdfs: <http://www.w3.org/2000/01/rdf-schema#>\n",
    "PREFIX rdf: <http://www.w3.org/1999/02/22-rdf-syntax-ns#>\n",
    "PREFIX acad: <http://acad.io/schema#>\n",
    "SELECT ?courseName ?courseSubject ?courseNumber\n",
    "    WHERE {{\n",
    "  \n",
    "  \t  ?university rdf:type acad:University ;\n",
    "  \t\t\t  acad:universityName ?universityName ;\n",
    "  \t\t\t  acad:offers ?course .\n",
    "              FILTER (?universityName = \"{university_name}\") \n",
    "  \n",
    "  \t  ?course rdf:type vivo:Course ;\n",
    "              acad:courseName ?courseName ;\n",
    "  \t\t\t  acad:courseSubject ?courseSubject ;\n",
    "  \t\t\t  acad:courseNumber ?courseNumber .\n",
    "}}\n",
    "\"\"\"\n",
    "\n",
    "# Define the endpoint URL\n",
    "endpoint_url = 'http://localhost:3030/intelligent_systems/sparql'\n",
    "\n",
    "# Define the payload\n",
    "payload = {'query': sparql_query}\n",
    "\n",
    "# Send the POST request\n",
    "response = requests.post(endpoint_url, data=payload)\n",
    "\n",
    "# Print the response\n",
    "print(len(response.json()['results']['bindings']))\n",
    "print(response.json()['results']['bindings'][:5])\n",
    "\n",
    "save_query_and_response(sparql_query, response.json(), \"queries_and_results/q1.txt\", \"queries_and_results/q1_response.csv\")"
   ]
  },
  {
   "cell_type": "markdown",
   "id": "f7b2dd6c-9c1e-4382-bc96-e86a3f4ce03e",
   "metadata": {},
   "source": [
    "![Query1](query1.png) "
   ]
  },
  {
   "cell_type": "markdown",
   "id": "9fe3399f-b374-48da-8cee-b1c8ec8ef540",
   "metadata": {},
   "source": [
    "## 2. In which courses is [topic] discussed?\n"
   ]
  },
  {
   "cell_type": "code",
   "execution_count": 13,
   "id": "144822e8-220e-474b-bf7f-2bcf3059cdea",
   "metadata": {},
   "outputs": [
    {
     "name": "stdout",
     "output_type": "stream",
     "text": [
      "{\n",
      " \"head\": {\n",
      "  \"vars\": [\n",
      "   \"courseName\",\n",
      "   \"courseSubject\",\n",
      "   \"courseNumber\"\n",
      "  ]\n",
      " },\n",
      " \"results\": {\n",
      "  \"bindings\": [\n",
      "   {\n",
      "    \"courseName\": {\n",
      "     \"type\": \"literal\",\n",
      "     \"value\": \"Intelligent Systems\"\n",
      "    },\n",
      "    \"courseSubject\": {\n",
      "     \"type\": \"literal\",\n",
      "     \"value\": \"COMP\"\n",
      "    },\n",
      "    \"courseNumber\": {\n",
      "     \"type\": \"literal\",\n",
      "     \"value\": \"6741\"\n",
      "    }\n",
      "   }\n",
      "  ]\n",
      " }\n",
      "}\n"
     ]
    }
   ],
   "source": [
    "# Define the SPARQL query\n",
    "topic_name = \"Knowledge Graphs\"\n",
    "\n",
    "sparql_query = f\"\"\"\n",
    "PREFIX vivo: <http://vivoweb.org/ontology/core#>\n",
    "PREFIX owl: <http://www.w3.org/2002/07/owl#>\n",
    "PREFIX xsd: <http://www.w3.org/2001/XMLSchema#>\n",
    "PREFIX rdfs: <http://www.w3.org/2000/01/rdf-schema#>\n",
    "PREFIX rdf: <http://www.w3.org/1999/02/22-rdf-syntax-ns#>\n",
    "PREFIX acad: <http://acad.io/schema#>\n",
    "SELECT ?courseName ?courseSubject ?courseNumber\n",
    "    WHERE {{ \n",
    "  \t  ?course rdf:type vivo:Course ;\n",
    "              acad:courseName ?courseName ;\n",
    "  \t\t\t  acad:courseSubject ?courseSubject ;\n",
    "  \t\t\t  acad:courseNumber ?courseNumber ;\n",
    "              acad:coversTopic ?topic .\n",
    "      ?topic rdf:type acad:Topic ;\n",
    "              acad:topicName ?topicName .\n",
    "      FILTER(?topicName = \"{topic_name}\")\n",
    "}}\n",
    "\"\"\"\n",
    "\n",
    "# Define the endpoint URL\n",
    "endpoint_url = 'http://localhost:3030/intelligent_systems/sparql'\n",
    "\n",
    "# Define the payload\n",
    "payload = {'query': sparql_query}\n",
    "\n",
    "# Send the POST request\n",
    "response = requests.post(endpoint_url, data=payload)\n",
    "\n",
    "# Print the response\n",
    "print(json.dumps(response.json(), indent=1))\n",
    "save_query_and_response(sparql_query, response.json(), \"queries_and_results/q2.txt\", \"queries_and_results/q2_response.csv\")"
   ]
  },
  {
   "cell_type": "markdown",
   "id": "6671ecc4-3c6d-405e-82eb-0556d6b70cae",
   "metadata": {},
   "source": [
    "![Query2](query2.png) "
   ]
  },
  {
   "cell_type": "markdown",
   "id": "ffd89067-576f-4385-9f3c-d453cb4c75d6",
   "metadata": {},
   "source": [
    "## 3. Which [topics] are covered in [course] during [lecture number]?"
   ]
  },
  {
   "cell_type": "code",
   "execution_count": 14,
   "id": "f257eb25-bf47-4302-90f6-3e9be9ca4b7f",
   "metadata": {},
   "outputs": [
    {
     "name": "stdout",
     "output_type": "stream",
     "text": [
      "{\n",
      " \"head\": {\n",
      "  \"vars\": [\n",
      "   \"topicName\"\n",
      "  ]\n",
      " },\n",
      " \"results\": {\n",
      "  \"bindings\": [\n",
      "   {\n",
      "    \"topicName\": {\n",
      "     \"type\": \"literal\",\n",
      "     \"value\": \"Algorithm Analysis\"\n",
      "    }\n",
      "   }\n",
      "  ]\n",
      " }\n",
      "}\n"
     ]
    }
   ],
   "source": [
    "# Define the SPARQL query\n",
    "course_name = \"Programming and Problem Solving\"\n",
    "lecture_number = 1\n",
    "\n",
    "sparql_query = f\"\"\"\n",
    "PREFIX vivo: <http://vivoweb.org/ontology/core#>\n",
    "PREFIX owl: <http://www.w3.org/2002/07/owl#>\n",
    "PREFIX xsd: <http://www.w3.org/2001/XMLSchema#>\n",
    "PREFIX rdfs: <http://www.w3.org/2000/01/rdf-schema#>\n",
    "PREFIX rdf: <http://www.w3.org/1999/02/22-rdf-syntax-ns#>\n",
    "PREFIX acad: <http://acad.io/schema#>\n",
    "SELECT DISTINCT ?topicName\n",
    "    WHERE {{\n",
    "  \n",
    "  \t  ?course rdf:type vivo:Course ;\n",
    "              acad:courseName \"{course_name}\" ;\n",
    "  \t\t\t  acad:hasLecture ?lecture.\n",
    "      ?lecture rdf:type acad:Lecture ;\n",
    "             acad:lectureNumber ?lectureNumber .\n",
    "    \t\t FILTER (?lectureNumber = {lecture_number})\n",
    "  \t  ?topic rdf:type acad:Topic ;\n",
    "            acad:hasProvenanceInformation ?lecture ;\n",
    "            acad:topicName ?topicName           \n",
    "}}\n",
    "\"\"\"\n",
    "\n",
    "# Define the endpoint URL\n",
    "endpoint_url = 'http://localhost:3030/intelligent_systems/sparql'\n",
    "\n",
    "# Define the payload\n",
    "payload = {'query': sparql_query}\n",
    "\n",
    "# Send the POST request\n",
    "response = requests.post(endpoint_url, data=payload)\n",
    "\n",
    "# Print the response\n",
    "print(json.dumps(response.json(), indent=1))\n",
    "save_query_and_response(sparql_query, response.json(), \"queries_and_results/q3.txt\", \"queries_and_results/q3_response.csv\")"
   ]
  },
  {
   "cell_type": "markdown",
   "id": "442bffed-d239-4af5-ae6c-21a746d65e84",
   "metadata": {},
   "source": [
    "![Query3](query3.png) "
   ]
  },
  {
   "cell_type": "markdown",
   "id": "c4cc1726-467f-413d-9156-e721f66c0b0c",
   "metadata": {},
   "source": [
    "## 4. List all [courses] offered by [university] within the [subject] (e.g., \\COMP\", \\SOEN\")."
   ]
  },
  {
   "cell_type": "code",
   "execution_count": 15,
   "id": "1afdd64b-02e3-405a-95b6-bec464e30dc6",
   "metadata": {},
   "outputs": [
    {
     "name": "stdout",
     "output_type": "stream",
     "text": [
      "58\n",
      "[{'courseName': {'type': 'literal', 'value': 'Databases'}, 'courseSubject': {'type': 'literal', 'value': 'COMP'}, 'courseNumber': {'type': 'literal', 'value': '353'}}, {'courseName': {'type': 'literal', 'value': 'Data Communication and Computer Networks'}, 'courseSubject': {'type': 'literal', 'value': 'COMP'}, 'courseNumber': {'type': 'literal', 'value': '445'}}, {'courseName': {'type': 'literal', 'value': 'Computer Science Industrial Experience Reflective Learning II'}, 'courseSubject': {'type': 'literal', 'value': 'COMP'}, 'courseNumber': {'type': 'literal', 'value': '208'}}, {'courseName': {'type': 'literal', 'value': 'Pattern Recognition'}, 'courseSubject': {'type': 'literal', 'value': 'COMP'}, 'courseNumber': {'type': 'literal', 'value': '6731'}}, {'courseName': {'type': 'literal', 'value': 'Pattern Recognition'}, 'courseSubject': {'type': 'literal', 'value': 'COMP'}, 'courseNumber': {'type': 'literal', 'value': '473'}}]\n"
     ]
    }
   ],
   "source": [
    "# Define the SPARQL query\n",
    "course_subject1 = \"COMP\"\n",
    "course_subject2 = \"SOEN\"\n",
    "university_name = \"Concordia University\"\n",
    "lecture_number = 1\n",
    "\n",
    "sparql_query = f\"\"\"\n",
    "PREFIX vivo: <http://vivoweb.org/ontology/core#>\n",
    "PREFIX owl: <http://www.w3.org/2002/07/owl#>\n",
    "PREFIX xsd: <http://www.w3.org/2001/XMLSchema#>\n",
    "PREFIX rdfs: <http://www.w3.org/2000/01/rdf-schema#>\n",
    "PREFIX rdf: <http://www.w3.org/1999/02/22-rdf-syntax-ns#>\n",
    "PREFIX acad: <http://acad.io/schema#>\n",
    "SELECT ?courseName ?courseSubject ?courseNumber\n",
    "    WHERE {{\n",
    "  \n",
    "  \t  ?university rdf:type acad:University ;\n",
    "  \t\t\t  acad:universityName ?universityName ;\n",
    "  \t\t\t  acad:offers ?course .\n",
    "              FILTER (?universityName = \"{university_name}\") \n",
    "  \n",
    "  \t  ?course rdf:type vivo:Course ;\n",
    "              acad:courseName ?courseName ;\n",
    "  \t\t\t  acad:courseNumber ?courseNumber ;\n",
    "              acad:courseSubject ?courseSubject ;\n",
    "              FILTER (?courseSubject = \"{course_subject1}\" || ?courseSubject = \"{course_subject2}\") \n",
    "}}\n",
    "\"\"\"\n",
    "\n",
    "# Define the endpoint URL\n",
    "endpoint_url = 'http://localhost:3030/intelligent_systems/sparql'\n",
    "\n",
    "# Define the payload\n",
    "payload = {'query': sparql_query}\n",
    "\n",
    "# Send the POST request\n",
    "response = requests.post(endpoint_url, data=payload)\n",
    "\n",
    "# Print the response\n",
    "# Print the response\n",
    "print(len(response.json()['results']['bindings']))\n",
    "print(response.json()['results']['bindings'][:5])\n",
    "\n",
    "save_query_and_response(sparql_query, response.json(), \"queries_and_results/q4.txt\", \"queries_and_results/q4_response.csv\")"
   ]
  },
  {
   "cell_type": "markdown",
   "id": "372a81ed-82c4-4e06-903a-9d90efa94dde",
   "metadata": {},
   "source": [
    "![SNOWFALL](query4.png) "
   ]
  },
  {
   "cell_type": "markdown",
   "id": "a6d9ac89-3f4e-4c09-89c2-1f77ffd36dfd",
   "metadata": {},
   "source": [
    "## 5. What [materials] (slides, readings) are recommended for [topic] in [course] [number]?"
   ]
  },
  {
   "cell_type": "code",
   "execution_count": 16,
   "id": "c65d2731-02a4-4f60-98b4-e647485de892",
   "metadata": {},
   "outputs": [
    {
     "name": "stdout",
     "output_type": "stream",
     "text": [
      "{\n",
      " \"head\": {\n",
      "  \"vars\": [\n",
      "   \"content\",\n",
      "   \"class\"\n",
      "  ]\n",
      " },\n",
      " \"results\": {\n",
      "  \"bindings\": [\n",
      "   {\n",
      "    \"content\": {\n",
      "     \"type\": \"uri\",\n",
      "     \"value\": \"file://C%3A%5CUsers%5Cmsais%5CDesktop%5Cgitrepos%5CCOMP6741_Roboprof%5CCourses%5CCourses%5CCOMP6741_IS%5CLecture_2%5CSlides%5CChapter_2.pdf\"\n",
      "    },\n",
      "    \"class\": {\n",
      "     \"type\": \"uri\",\n",
      "     \"value\": \"http://acad.io/schema#Slides\"\n",
      "    }\n",
      "   },\n",
      "   {\n",
      "    \"content\": {\n",
      "     \"type\": \"uri\",\n",
      "     \"value\": \"file://C%3A%5CUsers%5Cmsais%5CDesktop%5Cgitrepos%5CCOMP6741_Roboprof%5CCourses%5CCourses%5CCOMP6741_IS%5CLecture_2%5CReadings%5CWorksheet2.pdf\"\n",
      "    },\n",
      "    \"class\": {\n",
      "     \"type\": \"uri\",\n",
      "     \"value\": \"http://acad.io/schema#Reading\"\n",
      "    }\n",
      "   }\n",
      "  ]\n",
      " }\n",
      "}\n"
     ]
    }
   ],
   "source": [
    "# Define the SPARQL query\n",
    "course_subject = \"COMP\"\n",
    "course_number = \"6741\"\n",
    "topic_name = \"Vocabularies & Ontologies\"\n",
    "\n",
    "sparql_query = f\"\"\"\n",
    "PREFIX ac: <http://umbel.org/umbel/ac/>\n",
    "PREFIX prefix: <http://prefix.cc/>\n",
    "PREFIX vivo: <http://vivoweb.org/ontology/core#>\n",
    "PREFIX owl: <http://www.w3.org/2002/07/owl#>\n",
    "PREFIX xsd: <http://www.w3.org/2001/XMLSchema#>\n",
    "PREFIX rdfs: <http://www.w3.org/2000/01/rdf-schema#>\n",
    "PREFIX rdf: <http://www.w3.org/1999/02/22-rdf-syntax-ns#>\n",
    "PREFIX acad: <http://acad.io/schema#>\n",
    "\n",
    "SELECT DISTINCT ?content ?class \n",
    "WHERE {{\n",
    "  ?course rdf:type vivo:Course ;\n",
    "          acad:courseNumber ?courseNumber ;\n",
    "          acad:courseSubject ?courseSubject .\n",
    "          FILTER (?courseSubject = \"{course_subject}\" && ?courseNumber = \"{course_number}\") \n",
    "\n",
    "  ?lecture rdf:type acad:Lecture ;\n",
    "           acad:hasContent ?content .\n",
    "  \n",
    "  ?content a ?class .\n",
    "  FILTER (?class = acad:Slides || ?class = acad:Reading)\n",
    "  ?topic rdf:type acad:Topic ;\n",
    "         acad:topicName \"{topic_name}\" ;\n",
    "         acad:hasProvenanceInformation ?lecture .\n",
    "}}\n",
    "\"\"\"\n",
    "\n",
    "# Define the endpoint URL\n",
    "endpoint_url = 'http://localhost:3030/intelligent_systems/sparql'\n",
    "\n",
    "# Define the payload\n",
    "payload = {'query': sparql_query}\n",
    "\n",
    "# Send the POST request\n",
    "response = requests.post(endpoint_url, data=payload)\n",
    "\n",
    "# Print the response\n",
    "print(json.dumps(response.json(), indent=1))\n",
    "save_query_and_response(sparql_query, response.json(), \"queries_and_results/q5.txt\", \"queries_and_results/q5_response.csv\")"
   ]
  },
  {
   "cell_type": "markdown",
   "id": "d4228d10-656f-4ffa-8517-6d16d2810f05",
   "metadata": {},
   "source": [
    "![Query5](query5.png) "
   ]
  },
  {
   "cell_type": "markdown",
   "id": "0648b753-0770-4594-bc56-33f308c22c63",
   "metadata": {},
   "source": [
    "## 6. How many credits is [course] [number] worth?"
   ]
  },
  {
   "cell_type": "code",
   "execution_count": 17,
   "id": "22f5704e-cf12-42b4-9b46-4c3682afc2b6",
   "metadata": {},
   "outputs": [
    {
     "name": "stdout",
     "output_type": "stream",
     "text": [
      "{\n",
      " \"head\": {\n",
      "  \"vars\": [\n",
      "   \"courseCredits\"\n",
      "  ]\n",
      " },\n",
      " \"results\": {\n",
      "  \"bindings\": [\n",
      "   {\n",
      "    \"courseCredits\": {\n",
      "     \"type\": \"literal\",\n",
      "     \"value\": \"4\"\n",
      "    }\n",
      "   }\n",
      "  ]\n",
      " }\n",
      "}\n"
     ]
    }
   ],
   "source": [
    "# Define the SPARQL query\n",
    "course_subject = \"COMP\"\n",
    "course_number = \"6741\"\n",
    "\n",
    "sparql_query = f\"\"\"\n",
    "PREFIX ac: <http://umbel.org/umbel/ac/>\n",
    "PREFIX prefix: <http://prefix.cc/>\n",
    "PREFIX vivo: <http://vivoweb.org/ontology/core#>\n",
    "PREFIX owl: <http://www.w3.org/2002/07/owl#>\n",
    "PREFIX xsd: <http://www.w3.org/2001/XMLSchema#>\n",
    "PREFIX rdfs: <http://www.w3.org/2000/01/rdf-schema#>\n",
    "PREFIX rdf: <http://www.w3.org/1999/02/22-rdf-syntax-ns#>\n",
    "PREFIX acad: <http://acad.io/schema#>\n",
    "\n",
    "SELECT DISTINCT ?courseCredits\n",
    "WHERE {{\n",
    "  ?course rdf:type vivo:Course ;\n",
    "          acad:courseNumber ?courseNumber ;\n",
    "          acad:courseSubject ?courseSubject ;\n",
    "          acad:courseCredits ?courseCredits\n",
    "          FILTER (?courseSubject = \"{course_subject}\" && ?courseNumber = \"{course_number}\") \n",
    "}}\n",
    "\"\"\"\n",
    "\n",
    "# Define the endpoint URL\n",
    "endpoint_url = 'http://localhost:3030/intelligent_systems/sparql'\n",
    "\n",
    "# Define the payload\n",
    "payload = {'query': sparql_query}\n",
    "\n",
    "# Send the POST request\n",
    "response = requests.post(endpoint_url, data=payload)\n",
    "\n",
    "# Print the response\n",
    "print(json.dumps(response.json(), indent=1))\n",
    "save_query_and_response(sparql_query, response.json(), \"queries_and_results/q6.txt\", \"queries_and_results/q6_response.csv\")"
   ]
  },
  {
   "cell_type": "markdown",
   "id": "4881f511-9bde-417c-aa54-bcf3e0d7b216",
   "metadata": {},
   "source": [
    "![Query6](query6.png) "
   ]
  },
  {
   "cell_type": "markdown",
   "id": "a60b237c-c88a-4337-b26b-b8237dd5c2ab",
   "metadata": {},
   "source": [
    "## 7. For [course] [number], what additional resources (links to web pages) are available"
   ]
  },
  {
   "cell_type": "code",
   "execution_count": 18,
   "id": "43c800dc-bf82-4be6-b359-89d1893fd4b9",
   "metadata": {},
   "outputs": [
    {
     "name": "stdout",
     "output_type": "stream",
     "text": [
      "6\n",
      "[{'courseWebpage': {'type': 'literal', 'value': 'https://www.concordia.ca/academics/graduate/calendar/current/gina-cody-school-of-engineering-and-computer-science-courses/computer-science-and-software-engineering-master-s-and-phd-courses.html'}, 'lectureLink': {'type': 'literal', 'value': 'https://www.youtube.com/watch?v=yX0TDFx7Obw'}, 'topicLink': {'type': 'literal', 'value': 'https://www.wikidata.org/wiki/Q554950'}}, {'courseWebpage': {'type': 'literal', 'value': 'https://www.concordia.ca/academics/graduate/calendar/current/gina-cody-school-of-engineering-and-computer-science-courses/computer-science-and-software-engineering-master-s-and-phd-courses.html'}, 'lectureLink': {'type': 'literal', 'value': 'https://www.youtube.com/watch?v=aep1v2pZ44Y'}, 'topicLink': {'type': 'literal', 'value': 'https://www.wikidata.org/wiki/Q554950'}}, {'courseWebpage': {'type': 'literal', 'value': 'https://www.concordia.ca/academics/graduate/calendar/current/gina-cody-school-of-engineering-and-computer-science-courses/computer-science-and-software-engineering-master-s-and-phd-courses.html'}, 'lectureLink': {'type': 'literal', 'value': 'https://www.youtube.com/watch?v=yX0TDFx7Obw'}, 'topicLink': {'type': 'literal', 'value': 'https://www.wikidata.org/wiki/Q33002955'}}, {'courseWebpage': {'type': 'literal', 'value': 'https://www.concordia.ca/academics/graduate/calendar/current/gina-cody-school-of-engineering-and-computer-science-courses/computer-science-and-software-engineering-master-s-and-phd-courses.html'}, 'lectureLink': {'type': 'literal', 'value': 'https://www.youtube.com/watch?v=aep1v2pZ44Y'}, 'topicLink': {'type': 'literal', 'value': 'https://www.wikidata.org/wiki/Q33002955'}}, {'courseWebpage': {'type': 'literal', 'value': 'https://www.concordia.ca/academics/graduate/calendar/current/gina-cody-school-of-engineering-and-computer-science-courses/computer-science-and-software-engineering-master-s-and-phd-courses.html'}, 'lectureLink': {'type': 'literal', 'value': 'https://www.youtube.com/watch?v=yX0TDFx7Obw'}, 'topicLink': {'type': 'literal', 'value': 'https://www.wikidata.org/wiki/Q324254'}}]\n"
     ]
    }
   ],
   "source": [
    "# Define the SPARQL query\n",
    "course_subject = \"COMP\"\n",
    "course_number = \"6741\"\n",
    "\n",
    "sparql_query = f\"\"\"\n",
    "PREFIX vivo: <http://vivoweb.org/ontology/core#>\n",
    "PREFIX xsd: <http://www.w3.org/2001/XMLSchema#>\n",
    "PREFIX rdfs: <http://www.w3.org/2000/01/rdf-schema#>\n",
    "PREFIX rdf: <http://www.w3.org/1999/02/22-rdf-syntax-ns#>\n",
    "PREFIX acad: <http://acad.io/schema#>\n",
    "\n",
    "SELECT DISTINCT ?courseWebpage ?lectureLink ?topicLink\n",
    "WHERE {{\n",
    "  ?course rdf:type vivo:Course ;\n",
    "          acad:courseNumber ?courseNumber ;\n",
    "          acad:courseSubject ?courseSubject ;\n",
    "          acad:courseWebpage ?courseWebpage ;\n",
    "          acad:coversTopic ?topic ;\n",
    "          acad:hasLecture ?lecture .\n",
    "          FILTER (?courseSubject = \"{course_subject}\" && ?courseNumber = \"{course_number}\") \n",
    "  ?lecture rdf:type acad:Lecture ;\n",
    "          acad:lectureLink ?lectureLink .\n",
    "  ?topic rdf:type acad:Topic ;\n",
    "         acad:hasTopicLink ?topicLink\n",
    "  \n",
    "}}\n",
    "\"\"\"\n",
    "\n",
    "# Define the endpoint URL\n",
    "endpoint_url = 'http://localhost:3030/intelligent_systems/sparql'\n",
    "\n",
    "# Define the payload\n",
    "payload = {'query': sparql_query}\n",
    "\n",
    "# Send the POST request\n",
    "response = requests.post(endpoint_url, data=payload)\n",
    "\n",
    "# Print the response\n",
    "# Print the response\n",
    "print(len(response.json()['results']['bindings']))\n",
    "print(response.json()['results']['bindings'][:5])\n",
    "save_query_and_response(sparql_query, response.json(), \"queries_and_results/q7.txt\", \"queries_and_results/q7_response.csv\")"
   ]
  },
  {
   "cell_type": "markdown",
   "id": "e2749c5d-c253-417d-874b-12a75ea8618d",
   "metadata": {},
   "source": [
    "![Query7](query7.png) "
   ]
  },
  {
   "cell_type": "markdown",
   "id": "4645c88f-f31c-470d-b45a-c83f47993296",
   "metadata": {},
   "source": [
    "## 8. Detail the content (slides, worksheets, readings) available for [lecture number] in [course] [number]."
   ]
  },
  {
   "cell_type": "code",
   "execution_count": 19,
   "id": "6ec34d64-4634-4cbb-a8a8-ea44624ff506",
   "metadata": {},
   "outputs": [
    {
     "name": "stdout",
     "output_type": "stream",
     "text": [
      "{\n",
      " \"head\": {\n",
      "  \"vars\": [\n",
      "   \"content\"\n",
      "  ]\n",
      " },\n",
      " \"results\": {\n",
      "  \"bindings\": [\n",
      "   {\n",
      "    \"content\": {\n",
      "     \"type\": \"uri\",\n",
      "     \"value\": \"file://C%3A%5CUsers%5Cmsais%5CDesktop%5Cgitrepos%5CCOMP6741_Roboprof%5CCourses%5CCourses%5CCOMP6481_PPS%5CLecture_1%5CSlides%5CChapter1.pdf\"\n",
      "    }\n",
      "   },\n",
      "   {\n",
      "    \"content\": {\n",
      "     \"type\": \"uri\",\n",
      "     \"value\": \"file://C%3A%5CUsers%5Cmsais%5CDesktop%5Cgitrepos%5CCOMP6741_Roboprof%5CCourses%5CCourses%5CCOMP6741_IS%5CLecture_1%5CSlides%5Cweek1.pdf\"\n",
      "    }\n",
      "   },\n",
      "   {\n",
      "    \"content\": {\n",
      "     \"type\": \"uri\",\n",
      "     \"value\": \"file://C%3A%5CUsers%5Cmsais%5CDesktop%5Cgitrepos%5CCOMP6741_Roboprof%5CCourses%5CCourses%5CCOMP6481_PPS%5CLecture_1%5CReadings%5CComposition1.java.doc\"\n",
      "    }\n",
      "   },\n",
      "   {\n",
      "    \"content\": {\n",
      "     \"type\": \"uri\",\n",
      "     \"value\": \"file://C%3A%5CUsers%5Cmsais%5CDesktop%5Cgitrepos%5CCOMP6741_Roboprof%5CCourses%5CCourses%5CCOMP6741_IS%5CLecture_1%5CReadings%5Csyllabus.pdf\"\n",
      "    }\n",
      "   },\n",
      "   {\n",
      "    \"content\": {\n",
      "     \"type\": \"uri\",\n",
      "     \"value\": \"file://C%3A%5CUsers%5Cmsais%5CDesktop%5Cgitrepos%5CCOMP6741_Roboprof%5CCourses%5CCourses%5CCOMP6481_PPS%5CLecture_1%5CWorksheets%5CInherit1.java.doc\"\n",
      "    }\n",
      "   }\n",
      "  ]\n",
      " }\n",
      "}\n"
     ]
    }
   ],
   "source": [
    "# Define the SPARQL query\n",
    "course_subject = \"COMP\"\n",
    "course_number = \"6741\"\n",
    "lecture_number = 1\n",
    "\n",
    "sparql_query = f\"\"\"\n",
    "PREFIX vivo: <http://vivoweb.org/ontology/core#>\n",
    "PREFIX xsd: <http://www.w3.org/2001/XMLSchema#>\n",
    "PREFIX rdfs: <http://www.w3.org/2000/01/rdf-schema#>\n",
    "PREFIX rdf: <http://www.w3.org/1999/02/22-rdf-syntax-ns#>\n",
    "PREFIX acad: <http://acad.io/schema#>\n",
    "\n",
    "SELECT DISTINCT ?content\n",
    "WHERE {{\n",
    "  ?course rdf:type vivo:Course ;\n",
    "          acad:courseNumber ?courseNumber ;\n",
    "          acad:courseSubject ?courseSubject .\n",
    "          FILTER (?courseSubject = \"{course_subject}\" && ?courseNumber = \"{course_number}\") \n",
    "  ?lecture rdf:type acad:Lecture ;\n",
    "           acad:hasContent ?content ;\n",
    "  \t\t   acad:lectureNumber ?lectureNumber .\n",
    "  \t\t   FILTER (?lectureNumber = {lecture_number})\n",
    "    ?content a ?class .\n",
    "  FILTER (?class = acad:Slides || ?class = acad:Reading || ?class = acad:Worksheet)\n",
    "}}\n",
    "\"\"\"\n",
    "\n",
    "# Define the endpoint URL\n",
    "endpoint_url = 'http://localhost:3030/intelligent_systems/sparql'\n",
    "\n",
    "# Define the payload\n",
    "payload = {'query': sparql_query}\n",
    "\n",
    "# Send the POST request\n",
    "response = requests.post(endpoint_url, data=payload)\n",
    "\n",
    "# Print the response\n",
    "print(json.dumps(response.json(), indent=1))\n",
    "save_query_and_response(sparql_query, response.json(), \"queries_and_results/q8.txt\", \"queries_and_results/q8_response.csv\")"
   ]
  },
  {
   "cell_type": "markdown",
   "id": "a19446a4-9709-4cf2-b5a7-cf275290d7ba",
   "metadata": {},
   "source": [
    "![Query8](query8.png) "
   ]
  },
  {
   "cell_type": "markdown",
   "id": "99227cea-8450-4f3b-8af9-a02da6cac8fa",
   "metadata": {},
   "source": [
    "## 9. What reading materials are recommended for studying [topic] in [course]?"
   ]
  },
  {
   "cell_type": "code",
   "execution_count": 20,
   "id": "cecdc9eb-ca00-4c89-bf19-197c45b7a050",
   "metadata": {},
   "outputs": [
    {
     "name": "stdout",
     "output_type": "stream",
     "text": [
      "{'head': {'vars': ['content', 'topicName']}, 'results': {'bindings': [{'content': {'type': 'uri', 'value': 'file://C%3A%5CUsers%5Cmsais%5CDesktop%5Cgitrepos%5CCOMP6741_Roboprof%5CCourses%5CCourses%5CCOMP6741_IS%5CLecture_3%5CReadings%5Cworksheet2.pdf'}, 'topicName': {'type': 'literal', 'value': 'Polymorphism'}}, {'content': {'type': 'uri', 'value': 'file://C%3A%5CUsers%5Cmsais%5CDesktop%5Cgitrepos%5CCOMP6741_Roboprof%5CCourses%5CCourses%5CCOMP6481_PPS%5CLecture_1%5CReadings%5CComposition1.java.doc'}, 'topicName': {'type': 'literal', 'value': 'Polymorphism'}}, {'content': {'type': 'uri', 'value': 'file://C%3A%5CUsers%5Cmsais%5CDesktop%5Cgitrepos%5CCOMP6741_Roboprof%5CCourses%5CCourses%5CCOMP6481_PPS%5CLecture_3%5CReadings%5CExceptionHandling1.java.doc'}, 'topicName': {'type': 'literal', 'value': 'Polymorphism'}}, {'content': {'type': 'uri', 'value': 'file://C%3A%5CUsers%5Cmsais%5CDesktop%5Cgitrepos%5CCOMP6741_Roboprof%5CCourses%5CCourses%5CCOMP6741_IS%5CLecture_1%5CReadings%5Csyllabus.pdf'}, 'topicName': {'type': 'literal', 'value': 'Polymorphism'}}, {'content': {'type': 'uri', 'value': 'file://C%3A%5CUsers%5Cmsais%5CDesktop%5Cgitrepos%5CCOMP6741_Roboprof%5CCourses%5CCourses%5CCOMP6741_IS%5CLecture_2%5CReadings%5CWorksheet2.pdf'}, 'topicName': {'type': 'literal', 'value': 'Polymorphism'}}, {'content': {'type': 'uri', 'value': 'file://C%3A%5CUsers%5Cmsais%5CDesktop%5Cgitrepos%5CCOMP6741_Roboprof%5CCourses%5CCourses%5CCOMP6481_PPS%5CLecture_2%5CReadings%5CPolymorphism1.java.doc'}, 'topicName': {'type': 'literal', 'value': 'Polymorphism'}}]}}\n"
     ]
    }
   ],
   "source": [
    "# Define the SPARQL query\n",
    "course_subject = \"COMP\"\n",
    "topic_name = \"Polymorphism\"\n",
    "\n",
    "sparql_query = f\"\"\"\n",
    "PREFIX ac: <http://umbel.org/umbel/ac/>\n",
    "PREFIX prefix: <http://prefix.cc/>\n",
    "PREFIX vivo: <http://vivoweb.org/ontology/core#>\n",
    "PREFIX owl: <http://www.w3.org/2002/07/owl#>\n",
    "PREFIX xsd: <http://www.w3.org/2001/XMLSchema#>\n",
    "PREFIX rdfs: <http://www.w3.org/2000/01/rdf-schema#>\n",
    "PREFIX rdf: <http://www.w3.org/1999/02/22-rdf-syntax-ns#>\n",
    "PREFIX acad: <http://acad.io/schema#>\n",
    "\n",
    "SELECT DISTINCT ?content ?topicName \n",
    "WHERE {{\n",
    "  ?course rdf:type vivo:Course ;\n",
    "          acad:courseSubject ?courseSubject ;\n",
    "          acad:coversTopic ?topic\n",
    "          FILTER (?courseSubject = \"{course_subject}\") \n",
    "  \n",
    "  ?topic rdf:type acad:Topic ;\n",
    "         acad:topicName ?topicName .\n",
    "  FILTER(?topicName = \"{topic_name}\")\n",
    "\n",
    "  ?lecture rdf:type acad:Lecture ;\n",
    "           acad:hasContent ?content .\n",
    "  ?content a ?class .\n",
    "  FILTER (?class = acad:Reading)\n",
    "}}\n",
    "\"\"\"\n",
    "\n",
    "# Define the endpoint URL\n",
    "endpoint_url = 'http://localhost:3030/intelligent_systems/sparql'\n",
    "\n",
    "# Define the payload\n",
    "payload = {'query': sparql_query}\n",
    "\n",
    "# Send the POST request\n",
    "response = requests.post(endpoint_url, data=payload)\n",
    "\n",
    "# Print the response\n",
    "print(response.json())\n",
    "save_query_and_response(sparql_query, response.json(), \"queries_and_results/q9.txt\", \"queries_and_results/q9_response.csv\")"
   ]
  },
  {
   "cell_type": "markdown",
   "id": "46e4a5ac-d101-4e93-bb77-03e9fac677ee",
   "metadata": {},
   "source": [
    "![Query9](query9.png) "
   ]
  },
  {
   "cell_type": "markdown",
   "id": "832c2f72-b03a-44a0-a57a-4eeca195ab85",
   "metadata": {},
   "source": [
    "## 10. What competencies [topics] does a student gain after completing [course] [number]?"
   ]
  },
  {
   "cell_type": "code",
   "execution_count": 21,
   "id": "5e5abd2b-fa19-42be-a41b-ca8d3c40aa41",
   "metadata": {},
   "outputs": [
    {
     "name": "stdout",
     "output_type": "stream",
     "text": [
      "{\n",
      " \"head\": {\n",
      "  \"vars\": [\n",
      "   \"topicName\"\n",
      "  ]\n",
      " },\n",
      " \"results\": {\n",
      "  \"bindings\": [\n",
      "   {\n",
      "    \"topicName\": {\n",
      "     \"type\": \"literal\",\n",
      "     \"value\": \"Recursion\"\n",
      "    }\n",
      "   },\n",
      "   {\n",
      "    \"topicName\": {\n",
      "     \"type\": \"literal\",\n",
      "     \"value\": \"Personalization & Recommender Systems\"\n",
      "    }\n",
      "   },\n",
      "   {\n",
      "    \"topicName\": {\n",
      "     \"type\": \"literal\",\n",
      "     \"value\": \"Polymorphism\"\n",
      "    }\n",
      "   },\n",
      "   {\n",
      "    \"topicName\": {\n",
      "     \"type\": \"literal\",\n",
      "     \"value\": \"Knowledge Graphs\"\n",
      "    }\n",
      "   },\n",
      "   {\n",
      "    \"topicName\": {\n",
      "     \"type\": \"literal\",\n",
      "     \"value\": \"Algorithm Analysis\"\n",
      "    }\n",
      "   },\n",
      "   {\n",
      "    \"topicName\": {\n",
      "     \"type\": \"literal\",\n",
      "     \"value\": \"Vocabularies & Ontologies\"\n",
      "    }\n",
      "   }\n",
      "  ]\n",
      " }\n",
      "}\n"
     ]
    }
   ],
   "source": [
    "# Define the SPARQL query\n",
    "course_subject = \"COMP\"\n",
    "course_number = \"6741\"\n",
    "\n",
    "sparql_query = f\"\"\"\n",
    "PREFIX vivo: <http://vivoweb.org/ontology/core#>\n",
    "PREFIX owl: <http://www.w3.org/2002/07/owl#>\n",
    "PREFIX xsd: <http://www.w3.org/2001/XMLSchema#>\n",
    "PREFIX rdfs: <http://www.w3.org/2000/01/rdf-schema#>\n",
    "PREFIX rdf: <http://www.w3.org/1999/02/22-rdf-syntax-ns#>\n",
    "PREFIX acad: <http://acad.io/schema#>\n",
    "\n",
    "SELECT DISTINCT ?topicName \n",
    "WHERE {{\n",
    "  ?course rdf:type vivo:Course ;\n",
    "          acad:courseNumber ?courseNumber ;\n",
    "          acad:courseSubject ?courseSubject .\n",
    "          FILTER (?courseSubject = \"{course_subject}\" && ?courseNumber = \"{course_number}\") \n",
    "  \n",
    "  ?topic rdf:type acad:Topic ;\n",
    "         acad:topicName ?topicName .\n",
    "}}\n",
    "\"\"\"\n",
    "\n",
    "# Define the endpoint URL\n",
    "endpoint_url = 'http://localhost:3030/intelligent_systems/sparql'\n",
    "\n",
    "# Define the payload\n",
    "payload = {'query': sparql_query}\n",
    "\n",
    "# Send the POST request\n",
    "response = requests.post(endpoint_url, data=payload)\n",
    "\n",
    "# Print the response\n",
    "print(json.dumps(response.json(), indent=1))\n",
    "save_query_and_response(sparql_query, response.json(), \"queries_and_results/q10.txt\", \"queries_and_results/q10_response.csv\")"
   ]
  },
  {
   "cell_type": "markdown",
   "id": "5aa6602d-0b10-4528-ad0d-e97d7edafeb9",
   "metadata": {},
   "source": [
    "![Query10](query10.png) "
   ]
  },
  {
   "cell_type": "markdown",
   "id": "af408f5d-7f3f-4419-8deb-36a030814ec9",
   "metadata": {},
   "source": [
    "## 11. What grades did [student] achieve in [course] [number]?"
   ]
  },
  {
   "cell_type": "code",
   "execution_count": 22,
   "id": "9997a7b4-a4ae-4be1-9eb3-a6ebde12de8a",
   "metadata": {},
   "outputs": [
    {
     "name": "stdout",
     "output_type": "stream",
     "text": [
      "{\n",
      " \"head\": {\n",
      "  \"vars\": [\n",
      "   \"courseGrade\"\n",
      "  ]\n",
      " },\n",
      " \"results\": {\n",
      "  \"bindings\": [\n",
      "   {\n",
      "    \"courseGrade\": {\n",
      "     \"type\": \"literal\",\n",
      "     \"value\": \"A+\"\n",
      "    }\n",
      "   }\n",
      "  ]\n",
      " }\n",
      "}\n"
     ]
    }
   ],
   "source": [
    "# Define the SPARQL query\n",
    "course_subject = \"COMP\"\n",
    "course_number = \"6741\"\n",
    "student_id = \"101\"\n",
    "\n",
    "sparql_query = f\"\"\"\n",
    "PREFIX vivo: <http://vivoweb.org/ontology/core#>\n",
    "PREFIX owl: <http://www.w3.org/2002/07/owl#>\n",
    "PREFIX xsd: <http://www.w3.org/2001/XMLSchema#>\n",
    "PREFIX rdfs: <http://www.w3.org/2000/01/rdf-schema#>\n",
    "PREFIX rdf: <http://www.w3.org/1999/02/22-rdf-syntax-ns#>\n",
    "PREFIX acad: <http://acad.io/schema#>\n",
    "\n",
    "SELECT ?courseGrade \n",
    "WHERE {{\n",
    "  ?course rdf:type vivo:Course ;\n",
    "          acad:courseNumber ?courseNumber ;\n",
    "          acad:courseSubject ?courseSubject .\n",
    "          FILTER (?courseSubject = \"{course_subject}\" && ?courseNumber = \"{course_number}\") \n",
    "  \n",
    "  ?student rdf:type acad:Student ;\n",
    "          acad:studentID ?studentID ;\n",
    "  \t\t  acad:completedCourse ?courseCompletion .\n",
    "  \t\t  FILTER (?studentID = \"{student_id}\")\n",
    "  \n",
    "  ?courseCompletion rdf:type acad:CompletedCourse ;\n",
    "         acad:hasCourse ?course ;\n",
    "  \t\t acad:courseGradeSemester ?courseGradeSemesterPair .\n",
    "  \n",
    "  ?courseGradeSemesterPair rdf:type acad:GradeSemesterPair ;\n",
    "                    acad:courseGrade ?courseGrade .\n",
    "}}\n",
    "\n",
    "\"\"\"\n",
    "\n",
    "# Define the endpoint URL\n",
    "endpoint_url = 'http://localhost:3030/intelligent_systems/sparql'\n",
    "\n",
    "# Define the payload\n",
    "payload = {'query': sparql_query}\n",
    "\n",
    "# Send the POST request\n",
    "response = requests.post(endpoint_url, data=payload)\n",
    "\n",
    "# Print the response\n",
    "print(json.dumps(response.json(), indent=1))\n",
    "save_query_and_response(sparql_query, response.json(), \"queries_and_results/q11.txt\", \"queries_and_results/q11_response.csv\")"
   ]
  },
  {
   "cell_type": "markdown",
   "id": "7b1c79b4-3df5-4f0f-a08f-b8de22004185",
   "metadata": {},
   "source": [
    "![Query11](query11.png) "
   ]
  },
  {
   "cell_type": "markdown",
   "id": "23649177-3b4a-45c5-91c0-666ff7702ecb",
   "metadata": {},
   "source": [
    "## 12. Which [students] have completed [course] [number]?"
   ]
  },
  {
   "cell_type": "code",
   "execution_count": 23,
   "id": "e1416ad5-63bd-40fb-8a35-137bf303e060",
   "metadata": {},
   "outputs": [
    {
     "name": "stdout",
     "output_type": "stream",
     "text": [
      "{\n",
      " \"head\": {\n",
      "  \"vars\": [\n",
      "   \"studentID\",\n",
      "   \"studentName\"\n",
      "  ]\n",
      " },\n",
      " \"results\": {\n",
      "  \"bindings\": [\n",
      "   {\n",
      "    \"studentID\": {\n",
      "     \"type\": \"literal\",\n",
      "     \"value\": \"101\"\n",
      "    },\n",
      "    \"studentName\": {\n",
      "     \"type\": \"literal\",\n",
      "     \"value\": \"Shrawan Malyala\"\n",
      "    }\n",
      "   },\n",
      "   {\n",
      "    \"studentID\": {\n",
      "     \"type\": \"literal\",\n",
      "     \"value\": \"102\"\n",
      "    },\n",
      "    \"studentName\": {\n",
      "     \"type\": \"literal\",\n",
      "     \"value\": \"Sraddha Bhattacharjee\"\n",
      "    }\n",
      "   }\n",
      "  ]\n",
      " }\n",
      "}\n"
     ]
    }
   ],
   "source": [
    "# Define the SPARQL query\n",
    "course_subject = \"COMP\"\n",
    "course_number = \"6741\"\n",
    "\n",
    "sparql_query = f\"\"\"\n",
    "PREFIX vivo: <http://vivoweb.org/ontology/core#>\n",
    "PREFIX xsd: <http://www.w3.org/2001/XMLSchema#>\n",
    "PREFIX rdfs: <http://www.w3.org/2000/01/rdf-schema#>\n",
    "PREFIX rdf: <http://www.w3.org/1999/02/22-rdf-syntax-ns#>\n",
    "PREFIX acad: <http://acad.io/schema#>\n",
    "SELECT ?studentID ?studentName\n",
    "WHERE {{\n",
    "  ?course rdf:type vivo:Course ;\n",
    "          acad:courseNumber ?courseNumber ;\n",
    "          acad:courseSubject ?courseSubject .\n",
    "          FILTER (?courseSubject = \"{course_subject}\" && ?courseNumber = \"{course_number}\") \n",
    "  \n",
    "  ?student rdf:type acad:Student ;\n",
    "          acad:studentID ?studentID ;\n",
    "          acad:studentName ?studentName ;\n",
    "  \t\t  acad:completedCourse ?courseCompletion .\n",
    "  \n",
    "  ?courseCompletion rdf:type acad:CompletedCourse ;\n",
    "         acad:hasCourse ?course .\n",
    "}}\n",
    "\n",
    "\"\"\"\n",
    "\n",
    "# Define the endpoint URL\n",
    "endpoint_url = 'http://localhost:3030/intelligent_systems/sparql'\n",
    "\n",
    "# Define the payload\n",
    "payload = {'query': sparql_query}\n",
    "\n",
    "# Send the POST request\n",
    "response = requests.post(endpoint_url, data=payload)\n",
    "\n",
    "# Print the response\n",
    "print(json.dumps(response.json(), indent=1))\n",
    "save_query_and_response(sparql_query, response.json(), \"queries_and_results/q12.txt\", \"queries_and_results/q12_response.csv\")"
   ]
  },
  {
   "cell_type": "markdown",
   "id": "f5eca333-1bc1-40ce-9ff4-149371c978f6",
   "metadata": {},
   "source": [
    "![Query12](query12.png) "
   ]
  },
  {
   "cell_type": "markdown",
   "id": "96bbc76d-4827-4b02-8dc5-7781fc02c835",
   "metadata": {},
   "source": [
    "## 13. Print a transcript for a [student], listing all the course taken with their grades"
   ]
  },
  {
   "cell_type": "code",
   "execution_count": 24,
   "id": "90af62ca-3d8d-42fb-903e-01bfc6cbb338",
   "metadata": {},
   "outputs": [
    {
     "name": "stdout",
     "output_type": "stream",
     "text": [
      "{'head': {'vars': ['courseSubject', 'courseNumber', 'courseName', 'courseGrade', 'courseSemester']}, 'results': {'bindings': [{'courseSubject': {'type': 'literal', 'value': 'COMP'}, 'courseNumber': {'type': 'literal', 'value': '6741'}, 'courseName': {'type': 'literal', 'value': 'Intelligent Systems'}, 'courseGrade': {'type': 'literal', 'value': 'A+'}, 'courseSemester': {'type': 'literal', 'value': '241.0'}}, {'courseSubject': {'type': 'literal', 'value': 'ELEC'}, 'courseNumber': {'type': 'literal', 'value': '6231'}, 'courseName': {'type': 'literal', 'value': 'Design of Integrated Circuit Components'}, 'courseGrade': {'type': 'literal', 'value': 'C'}, 'courseSemester': {'type': 'literal', 'value': '232.0'}}, {'courseSubject': {'type': 'literal', 'value': 'ELEC'}, 'courseNumber': {'type': 'literal', 'value': '6231'}, 'courseName': {'type': 'literal', 'value': 'Design of Integrated Circuit Components'}, 'courseGrade': {'type': 'literal', 'value': 'A'}, 'courseSemester': {'type': 'literal', 'value': '241.0'}}, {'courseSubject': {'type': 'literal', 'value': 'ELEC'}, 'courseNumber': {'type': 'literal', 'value': '6131'}, 'courseName': {'type': 'literal', 'value': 'Error Detecting and Correcting Codes'}, 'courseGrade': {'type': 'literal', 'value': 'B+'}, 'courseSemester': {'type': 'literal', 'value': '232.0'}}, {'courseSubject': {'type': 'literal', 'value': 'COMP'}, 'courseNumber': {'type': 'literal', 'value': '6481'}, 'courseName': {'type': 'literal', 'value': 'Programming and Problem Solving'}, 'courseGrade': {'type': 'literal', 'value': 'A'}, 'courseSemester': {'type': 'literal', 'value': '231.0'}}]}}\n"
     ]
    }
   ],
   "source": [
    "# Define the SPARQL query\n",
    "student_id = \"101\"\n",
    "\n",
    "sparql_query = f\"\"\"\n",
    "PREFIX vivo: <http://vivoweb.org/ontology/core#>\n",
    "PREFIX owl: <http://www.w3.org/2002/07/owl#>\n",
    "PREFIX xsd: <http://www.w3.org/2001/XMLSchema#>\n",
    "PREFIX rdfs: <http://www.w3.org/2000/01/rdf-schema#>\n",
    "PREFIX rdf: <http://www.w3.org/1999/02/22-rdf-syntax-ns#>\n",
    "PREFIX acad: <http://acad.io/schema#>\n",
    "\n",
    "SELECT DISTINCT ?courseSubject ?courseNumber ?courseName ?courseGrade ?courseSemester\n",
    "WHERE {{\n",
    "  ?student rdf:type acad:Student ;\n",
    "           acad:studentID ?studentID .\n",
    "  FILTER (?studentID = \"{student_id}\")\n",
    "\n",
    "  ?student acad:completedCourse ?courseCompletion .\n",
    "  \n",
    "  ?courseCompletion rdf:type acad:CompletedCourse ;\n",
    "                    acad:hasCourse ?course ;\n",
    "  \t\t\t\t\tacad:courseGradeSemester ?courseGradeSemesterPair .\n",
    "  \n",
    "  ?courseGradeSemesterPair rdf:type acad:GradeSemesterPair ;\n",
    "                    acad:courseGrade ?courseGrade ;\n",
    "                    acad:courseSemester ?courseSemester .\n",
    "\n",
    "\n",
    "  \n",
    "  ?course rdf:type vivo:Course ;\n",
    "          acad:courseNumber ?courseNumber ;\n",
    "          acad:courseName ?courseName ;\n",
    "          acad:courseSubject ?courseSubject .\n",
    "}}\n",
    "\n",
    "\"\"\"\n",
    "\n",
    "# Define the endpoint URL\n",
    "endpoint_url = 'http://localhost:3030/intelligent_systems/sparql'\n",
    "\n",
    "# Define the payload\n",
    "payload = {'query': sparql_query}\n",
    "\n",
    "# Send the POST request\n",
    "response = requests.post(endpoint_url, data=payload)\n",
    "\n",
    "# Print the response\n",
    "print(response.json())\n",
    "save_query_and_response(sparql_query, response.json(), \"queries_and_results/q13.txt\", \"queries_and_results/q13_response.csv\")"
   ]
  },
  {
   "cell_type": "markdown",
   "id": "e787c814-db3d-4b18-a79f-125d144a4c0a",
   "metadata": {},
   "source": [
    "![Query13](query13.png) "
   ]
  },
  {
   "cell_type": "code",
   "execution_count": null,
   "id": "7937d316-01ea-4d75-af0a-135665434dcf",
   "metadata": {},
   "outputs": [],
   "source": []
  }
 ],
 "metadata": {
  "kernelspec": {
   "display_name": "Python 3 (ipykernel)",
   "language": "python",
   "name": "python3"
  },
  "language_info": {
   "codemirror_mode": {
    "name": "ipython",
    "version": 3
   },
   "file_extension": ".py",
   "mimetype": "text/x-python",
   "name": "python",
   "nbconvert_exporter": "python",
   "pygments_lexer": "ipython3",
   "version": "3.11.5"
  }
 },
 "nbformat": 4,
 "nbformat_minor": 5
}
